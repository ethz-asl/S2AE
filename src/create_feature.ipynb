{
 "cells": [
  {
   "cell_type": "code",
   "execution_count": 51,
   "id": "5962a1ca-65a6-4780-a256-8a43ffbb7e09",
   "metadata": {},
   "outputs": [
    {
     "name": "stdout",
     "output_type": "stream",
     "text": [
      "The autoreload extension is already loaded. To reload it, use:\n",
      "  %reload_ext autoreload\n"
     ]
    }
   ],
   "source": [
    "import argparse\n",
    "import os\n",
    "import glob\n",
    "\n",
    "import numpy as np\n",
    "from matplotlib import pyplot as plt\n",
    "from tqdm.auto import tqdm, trange\n",
    "from tqdm.contrib.concurrent import process_map, thread_map\n",
    "from matplotlib import cm\n",
    "from functools import partial\n",
    "import random\n",
    "import open3d as o3d\n",
    "from matplotlib import cm\n",
    "from plyfile import PlyData, PlyElement\n",
    "from nuscenes.utils.data_classes import PointCloud, LidarPointCloud, RadarPointCloud, Box\n",
    "\n",
    "\n",
    "from sphere import Sphere\n",
    "from dh_grid import DHGrid\n",
    "\n",
    "\n",
    "%matplotlib inline\n",
    "%load_ext autoreload\n",
    "%autoreload 2"
   ]
  },
  {
   "cell_type": "code",
   "execution_count": 61,
   "id": "9b7dadc5-d4c1-42c5-8c9e-b1d6d4590591",
   "metadata": {},
   "outputs": [],
   "source": [
    "def loadPointCloudFromPath(path_to_point_cloud):\n",
    "        # print(f'Loading point cloud from {path_to_point_cloud}')\n",
    "        plydata = PlyData.read(path_to_point_cloud)\n",
    "        vertex = plydata['vertex']\n",
    "        x = vertex['x']\n",
    "        y = vertex['y']\n",
    "        z = vertex['z']\n",
    "        if 'scalar' in vertex._property_lookup:\n",
    "            i = vertex['scalar']\n",
    "        elif 'intensity' in vertex._property_lookup:\n",
    "            i = vertex['intensity']\n",
    "        else:\n",
    "            i = plydata['vertex'][plydata.elements[0].properties[3].name]\n",
    "\n",
    "        s = np.zeros(x.shape[0])\n",
    "        return np.concatenate((x, y, z, i, s), axis=0).reshape(5, len(x)).transpose()\n",
    "\n",
    "def mapIntensityToRGB(i):\n",
    "    mask = np.where(i < 0)    \n",
    "    colors = cm.jet(plt.Normalize(min(i), max(i))(i))\n",
    "    colors[mask] = 0\n",
    "    return colors\n",
    "\n",
    "def prepare_for_viz(cloud):\n",
    "    pcd = o3d.geometry.PointCloud()\n",
    "    pcd.points = o3d.utility.Vector3dVector(cloud[:, 0:3])\n",
    "    colors = mapIntensityToRGB(cloud[:, 3])\n",
    "    pcd.colors = o3d.utility.Vector3dVector(colors[:,0:3])    \n",
    "    return pcd\n",
    "\n",
    "def visualize_pointcloud(cloud):\n",
    "    pcd = prepare_for_viz(cloud)        \n",
    "    o3d.visualization.draw_geometries([pcd])\n",
    "        \n"
   ]
  },
  {
   "cell_type": "code",
   "execution_count": 62,
   "id": "ce175fad-5e70-4ca2-b4c9-3d745d9162d2",
   "metadata": {},
   "outputs": [
    {
     "name": "stdout",
     "output_type": "stream",
     "text": [
      "Loaded 200 clouds from disk.\n",
      "Shape of one cloud is (131072, 5)\n"
     ]
    }
   ],
   "source": [
    "\n",
    "\n",
    "# export_ds = '/media/berlukas/Data2/datasets/nuscenes/processed/raw'\n",
    "export_ds = '/media/berlukas/Data2/datasets/nuscenes/processed/os0'\n",
    "\n",
    "all_files = sorted(glob.glob(export_ds + '/*.ply'))\n",
    "\n",
    "n_scans = 200\n",
    "all_sem_clouds = []\n",
    "for i in range(0, n_scans):    \n",
    "    all_sem_clouds.append(loadPointCloudFromPath(all_files[i]))\n",
    "\n",
    "print(f'Loaded {len(all_sem_clouds)} clouds from disk.')\n",
    "print(f'Shape of one cloud is {all_sem_clouds[0].shape}')\n",
    "visualize_pointcloud(loadPointCloudFromPath(all_files[0]))"
   ]
  },
  {
   "cell_type": "code",
   "execution_count": 21,
   "id": "1f7c273d-0fe8-49e1-b15a-e4425df3a2b5",
   "metadata": {},
   "outputs": [],
   "source": [
    "for i in range(0, n_scans):\n",
    "    filename = f\"{export_ds}/processed/scan{i}.npy\"\n",
    "    np.save(filename, all_sem_clouds[i])"
   ]
  },
  {
   "cell_type": "code",
   "execution_count": 63,
   "id": "b2dc052b-d3c7-4a2b-80db-38dadbc4c632",
   "metadata": {},
   "outputs": [],
   "source": [
    "def progresser(sample_idx, grid, auto_position=True, write_safe=False, blocking=True, progress=False):    \n",
    "    sample_sphere = Sphere(all_sem_clouds[sample_idx])    \n",
    "    features = sample_sphere.sampleUsingGrid(grid)\n",
    "    return features"
   ]
  },
  {
   "cell_type": "code",
   "execution_count": 64,
   "id": "ef83e551-fe47-4c88-a262-5fa852a6b964",
   "metadata": {},
   "outputs": [
    {
     "data": {
      "application/vnd.jupyter.widget-view+json": {
       "model_id": "58142b84ee264ed6b5cb2b912e8bbcbe",
       "version_major": 2,
       "version_minor": 0
      },
      "text/plain": [
       "  0%|          | 0/200 [00:00<?, ?it/s]"
      ]
     },
     "metadata": {},
     "output_type": "display_data"
    },
    {
     "name": "stdout",
     "output_type": "stream",
     "text": [
      "Processing done.\n"
     ]
    }
   ],
   "source": [
    "bw = 100\n",
    "grid, _ = DHGrid.CreateGrid(bw)\n",
    "sem_idx = np.arange(0, len(all_sem_clouds))\n",
    "sample_func = partial(progresser, grid=grid)\n",
    "sem_features = process_map(sample_func, sem_idx, max_workers=10, chunksize=25)            \n",
    "print(f\"Processing done.\")"
   ]
  },
  {
   "cell_type": "code",
   "execution_count": 65,
   "id": "39c3a810-2e2e-4860-9fed-c48eac37b3e8",
   "metadata": {},
   "outputs": [
    {
     "name": "stdout",
     "output_type": "stream",
     "text": [
      "Wrote features to /media/berlukas/Data2/datasets/nuscenes/processed/os0/features/os0.npy.\n"
     ]
    }
   ],
   "source": [
    "filename = f\"{export_ds}/features/os0.npy\"\n",
    "np.save(filename, sem_features)\n",
    "print(f\"Wrote features to {filename}.\")"
   ]
  },
  {
   "cell_type": "markdown",
   "id": "035cc843-a744-4bc0-94d0-fab2a00e0bd5",
   "metadata": {},
   "source": [
    "# Visualize\n",
    "----------------------"
   ]
  },
  {
   "cell_type": "code",
   "execution_count": 54,
   "id": "6bd26ba6-6510-411a-bc5a-82d4d180c65e",
   "metadata": {},
   "outputs": [],
   "source": [
    "def mapIntensityToRGB(i):\n",
    "    return cm.jet(plt.Normalize(min(i), max(i))(i))\n",
    "\n",
    "def visualizeRawPointcloud(pcl, val):\n",
    "    pcd = o3d.geometry.PointCloud()\n",
    "    pcd.points = o3d.utility.Vector3dVector(pcl[:, 0:3])\n",
    "    colors = mapIntensityToRGB(val)\n",
    "#     colors = scan.sem_color_lut[pcl[:,4].astype(np.int)]\n",
    "    pcd.colors = o3d.utility.Vector3dVector(colors[:,0:3])\n",
    "    o3d.visualization.draw_geometries([pcd])    \n",
    "    \n",
    "def createGrid_old(bw):\n",
    "    n_grid = 2 * bw\n",
    "    k = 0;\n",
    "    points = np.empty([n_grid * n_grid, 2])\n",
    "    for i in range(n_grid):\n",
    "        for j in range(n_grid):\n",
    "            points[k, 0] = (np.pi*(2*i+1))/(4*bw)\n",
    "            points[k, 1] = (2*np.pi*j)/(2*bw);\n",
    "            k = k + 1;\n",
    "    return points\n",
    "    \n",
    "def convertGridToEuclidean_old(grid):\n",
    "    cart_grid = np.zeros([ grid.shape[0], 3])\n",
    "    cart_grid[:,0] = np.multiply(np.sin(grid[:,0]), np.cos(grid[:,1]))\n",
    "    cart_grid[:,1] = np.multiply(np.sin(grid[:,0]), np.sin(grid[:,1]))\n",
    "    cart_grid[:,2] = np.cos(grid[:,0])\n",
    "    return cart_grid\n",
    "\n",
    "def create_sampling_sphere(bw):\n",
    "    grid = createGrid_old(bw)\n",
    "    xyz_grid = convertGridToEuclidean_old(grid)\n",
    "    intensities = np.zeros((xyz_grid.shape[0],1))\n",
    "    sampling_grid = np.hstack((xyz_grid, np.ones((xyz_grid.shape[0], 1), dtype=xyz_grid.dtype)))\n",
    "    return sampling_grid.T\n",
    "\n",
    "class SamplingPointCloud(PointCloud):\n",
    "\n",
    "    @staticmethod\n",
    "    def nbr_dims() -> int:\n",
    "        return 4\n",
    "    \n",
    "    @classmethod\n",
    "    def from_file(cls, file_name: str) -> 'SamplingPointCloud':\n",
    "        return None\n",
    "    \n",
    "    @classmethod\n",
    "    def from_bw(cls, bw, scale = 100) -> 'SamplingPointCloud':\n",
    "        grid = createGrid_old(bw)\n",
    "        xyz_grid = convertGridToEuclidean_old(grid) * scale\n",
    "        intensities = np.zeros((xyz_grid.shape[0],1))\n",
    "        sampling_grid = np.hstack((xyz_grid, np.ones((xyz_grid.shape[0], 1), dtype=xyz_grid.dtype)))\n",
    "        return cls(sampling_grid.T)\n",
    "\n",
    "\n",
    "def create_spherical_pc(feature, trans = 0, bw = 100):\n",
    "    pc = SamplingPointCloud.from_bw(bw, 1)   \n",
    "    points_xyz = pc.points.T[:,0:3]\n",
    "    points_xyz[:,0] = points_xyz[:,0] + trans\n",
    "    \n",
    "    pcd = o3d.geometry.PointCloud()\n",
    "    pcd.points = o3d.utility.Vector3dVector(points_xyz[:, 0:3])\n",
    "    colors = mapIntensityToRGB(feature[:, 0])\n",
    "    pcd.colors = o3d.utility.Vector3dVector(colors[:,0:3])\n",
    "    return pcd   \n",
    "\n",
    "def prepare_for_viz(cloud):\n",
    "    pcd = o3d.geometry.PointCloud()\n",
    "    pcd.points = o3d.utility.Vector3dVector(cloud[:, 0:3])\n",
    "    if cloud.shape[1] == 4:\n",
    "        colors = mapIntensityToRGB(cloud[:, 3])\n",
    "        pcd.colors = o3d.utility.Vector3dVector(colors[:,0:3])\n",
    "    if cloud.shape[1] == 6:\n",
    "        pcd.colors = o3d.utility.Vector3dVector(cloud[:,3:6] / 255.0)\n",
    "    return pcd\n",
    "\n",
    "def convert_sphere(sph, feature_idx, n_features, bw, trans = 0.0):\n",
    "    sph = np.reshape(sph, (n_features, -1)).T\n",
    "    \n",
    "    pc = SamplingPointCloud.from_bw(bw, 1)\n",
    "    points_xyz = pc.points.T[:,0:3]\n",
    "    points_xyz[:,0] = points_xyz[:,0] + trans\n",
    "    return np.column_stack((points_xyz, sph[:,feature_idx]))\n",
    "    \n",
    "def visualize_pointcloud(cloud):\n",
    "    pcd = prepare_for_viz(cloud)\n",
    "    o3d.visualization.draw_geometries([pcd])\n",
    "\n",
    "def visualize_sphere(sph, feature_idx = 0, n_features = 3, bw = 100):\n",
    "    points_xyzi = convert_sphere(sph, feature_idx, n_features, bw)\n",
    "    visualize_pointcloud(points_xyzi)"
   ]
  },
  {
   "cell_type": "code",
   "execution_count": 57,
   "id": "91945b9d-921e-4696-8404-20a73f84b2cc",
   "metadata": {},
   "outputs": [
    {
     "name": "stdout",
     "output_type": "stream",
     "text": [
      "sampling pointcloud shape is (40000, 3)\n",
      "feature shape is (40000, 2)\n"
     ]
    }
   ],
   "source": [
    "cur_sem_cloud = sem_features[0]\n",
    "cur_sem_cloud = np.reshape(cur_sem_cloud, (2, -1)).T\n",
    "\n",
    "pc = create_sampling_sphere(bw)\n",
    "points_xyz = pc.T[:,0:3]\n",
    "print(f\"sampling pointcloud shape is {points_xyz.shape}\")\n",
    "print(f\"feature shape is {cur_sem_cloud.shape}\")\n",
    "\n",
    "visualize_sphere(sem_features[0], 1, 2, 100)"
   ]
  }
 ],
 "metadata": {
  "kernelspec": {
   "display_name": "Python 3 (ipykernel)",
   "language": "python",
   "name": "python3"
  },
  "language_info": {
   "codemirror_mode": {
    "name": "ipython",
    "version": 3
   },
   "file_extension": ".py",
   "mimetype": "text/x-python",
   "name": "python",
   "nbconvert_exporter": "python",
   "pygments_lexer": "ipython3",
   "version": "3.10.4"
  }
 },
 "nbformat": 4,
 "nbformat_minor": 5
}
