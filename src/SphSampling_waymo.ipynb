{
 "cells": [
  {
   "cell_type": "markdown",
   "metadata": {},
   "source": [
    "## Create Sampled Dataset of KITTI\n"
   ]
  },
  {
   "cell_type": "code",
   "execution_count": 10,
   "metadata": {},
   "outputs": [
    {
     "name": "stdout",
     "output_type": "stream",
     "text": [
      "The autoreload extension is already loaded. To reload it, use:\n",
      "  %reload_ext autoreload\n"
     ]
    }
   ],
   "source": [
    "import argparse\n",
    "import os\n",
    "import yaml\n",
    "import numpy as np\n",
    "import open3d as o3d\n",
    "import pandas as pd\n",
    "from matplotlib import pyplot as plt\n",
    "from tqdm.auto import tqdm, trange\n",
    "from tqdm.contrib.concurrent import process_map, thread_map\n",
    "from matplotlib import cm\n",
    "from functools import partial\n",
    "import concurrent.futures\n",
    "import random\n",
    "from semantic_classes import SemanticClasses\n",
    "\n",
    "from sphere import Sphere\n",
    "from dh_grid import DHGrid\n",
    "from laserscan import SemLaserScan\n",
    "\n",
    "import os\n",
    "import time\n",
    "import matplotlib.pyplot as plt\n",
    "\n",
    "import numpy as np\n",
    "\n",
    "\n",
    "%matplotlib inline\n",
    "%load_ext autoreload\n",
    "%autoreload 2"
   ]
  },
  {
   "cell_type": "code",
   "execution_count": null,
   "metadata": {},
   "outputs": [],
   "source": [
    "import tensorflow.compat.v1 as tf\n",
    "tf.enable_eager_execution()\n",
    "\n",
    "from waymo_open_dataset.utils import  frame_utils\n",
    "from waymo_open_dataset import dataset_pb2 as open_dataset\n",
    "from waymo_open_dataset.protos import segmentation_metrics_pb2\n",
    "from waymo_open_dataset.protos import segmentation_submission_pb2"
   ]
  },
  {
   "cell_type": "code",
   "execution_count": 2,
   "metadata": {},
   "outputs": [
    {
     "name": "stdout",
     "output_type": "stream",
     "text": [
      "Setting dataroot to /media/scratch/berlukas/waymo/segments.\n",
      "Found 25 elements in the folder.\n"
     ]
    }
   ],
   "source": [
    "# dataroot = '/media/scratch/berlukas/waymo/segments'\n",
    "dataroot = '/media/berlukas/SSD_1TB/s2ae/waymo'\n",
    "segments = os.listdir(dataroot)\n",
    "\n",
    "print(f'Setting dataroot to {dataroot}.')\n",
    "print(f'Found {len(segments)} elements in the folder.')"
   ]
  },
  {
   "cell_type": "code",
   "execution_count": 3,
   "metadata": {},
   "outputs": [],
   "source": [
    "def convert_range_image_to_point_cloud_labels(frame,\n",
    "                                              range_images,\n",
    "                                              segmentation_labels,\n",
    "                                              ri_index=0):\n",
    "    \"\"\"Convert segmentation labels from range images to point clouds.\n",
    "\n",
    "    Args:\n",
    "    frame: open dataset frame\n",
    "    range_images: A dict of {laser_name, [range_image_first_return,\n",
    "       range_image_second_return]}.\n",
    "    segmentation_labels: A dict of {laser_name, [range_image_first_return,\n",
    "       range_image_second_return]}.\n",
    "    ri_index: 0 for the first return, 1 for the second return.\n",
    "\n",
    "    Returns:\n",
    "    point_labels: {[N, 2]} list of 3d lidar points's segmentation labels. 0 for\n",
    "      points that are not labeled.\n",
    "    \"\"\"\n",
    "    calibrations = sorted(frame.context.laser_calibrations, key=lambda c: c.name)\n",
    "    point_labels = []\n",
    "    for c in calibrations:\n",
    "        range_image = range_images[c.name][ri_index]\n",
    "        range_image_tensor = tf.reshape(\n",
    "            tf.convert_to_tensor(range_image.data), range_image.shape.dims)\n",
    "        range_image_mask = range_image_tensor[..., 0] > 0\n",
    "\n",
    "        if c.name in segmentation_labels:\n",
    "            sl = segmentation_labels[c.name][ri_index]\n",
    "            sl_tensor = tf.reshape(tf.convert_to_tensor(sl.data), sl.shape.dims)\n",
    "            sl_points_tensor = tf.gather_nd(sl_tensor, tf.where(range_image_mask))\n",
    "        else:\n",
    "            num_valid_point = tf.math.reduce_sum(tf.cast(range_image_mask, tf.int32))\n",
    "            sl_points_tensor = tf.zeros([num_valid_point, 2], dtype=tf.int32)\n",
    "\n",
    "        point_labels.append(sl_points_tensor.numpy())\n",
    "    return point_labels"
   ]
  },
  {
   "cell_type": "code",
   "execution_count": 5,
   "metadata": {},
   "outputs": [
    {
     "data": {
      "application/vnd.jupyter.widget-view+json": {
       "model_id": "9ce8bdcd2ecd4211b2fb1e1353f61584",
       "version_major": 2,
       "version_minor": 0
      },
      "text/plain": [
       "  0%|          | 0/25 [00:00<?, ?it/s]"
      ]
     },
     "metadata": {},
     "output_type": "display_data"
    },
    {
     "name": "stdout",
     "output_type": "stream",
     "text": [
      "Finished Loading 710 clouds.\n"
     ]
    }
   ],
   "source": [
    "all_sem_clouds = []\n",
    "k = 0    \n",
    "for segment in tqdm(segments):\n",
    "    FILENAME = f'{dataroot}/{segment}'    \n",
    "    dataset = tf.data.TFRecordDataset(FILENAME, compression_type='')\n",
    "    for data in dataset:\n",
    "        frame = open_dataset.Frame()\n",
    "        frame.ParseFromString(bytearray(data.numpy()))\n",
    "\n",
    "        if frame.lasers[0].ri_return1.segmentation_label_compressed:\n",
    "            (range_images, camera_projections, segmentation_labels, range_image_top_pose) = frame_utils.parse_range_image_and_camera_projection(frame)\n",
    "            points, cp_points = frame_utils.convert_range_image_to_point_cloud(frame, range_images, camera_projections, range_image_top_pose, keep_polar_features=True)\n",
    "            point_labels = convert_range_image_to_point_cloud_labels(frame, range_images, segmentation_labels)\n",
    "\n",
    "            points_all = np.concatenate(points, axis=0) # 3d points in vehicle frame.\n",
    "            points_all = points_all[:, [3, 4, 5, 1]]\n",
    "            point_labels_all = np.concatenate(point_labels, axis=0) # point labels.\n",
    "            point_labels_all = np.reshape(point_labels_all[:,1], (point_labels_all.shape[0], 1))\n",
    "\n",
    "            point_xyzil = np.hstack((points_all, point_labels_all))\n",
    "            all_sem_clouds.append(point_xyzil)\n",
    "\n",
    "print(f'Finished Loading {len(all_sem_clouds)} clouds.')"
   ]
  },
  {
   "cell_type": "code",
   "execution_count": 6,
   "metadata": {},
   "outputs": [
    {
     "name": "stderr",
     "output_type": "stream",
     "text": [
      "/home/berlukas/.local/lib/python3.7/site-packages/numpy/core/_asarray.py:136: VisibleDeprecationWarning: Creating an ndarray from ragged nested sequences (which is a list-or-tuple of lists-or-tuples-or ndarrays with different lengths or shapes) is deprecated. If you meant to do this, you must specify 'dtype=object' when creating the ndarray\n",
      "  return array(a, dtype, copy=False, order=order, subok=True)\n"
     ]
    },
    {
     "name": "stdout",
     "output_type": "stream",
     "text": [
      "Saved clouds to /media/scratch/berlukas/waymo/segments/archive11.npy\n"
     ]
    }
   ],
   "source": [
    "filename = 'archive11'\n",
    "np.save(f'{dataroot}/{filename}.npy', all_sem_clouds)\n",
    "print(f'Saved clouds to {dataroot}/{filename}.npy')"
   ]
  },
  {
   "cell_type": "code",
   "execution_count": 64,
   "metadata": {},
   "outputs": [
    {
     "name": "stdout",
     "output_type": "stream",
     "text": [
      "Computing features for 670 clouds.\n"
     ]
    },
    {
     "data": {
      "application/vnd.jupyter.widget-view+json": {
       "model_id": "30e51a541e364483bd44f7a331e745c9",
       "version_major": 2,
       "version_minor": 0
      },
      "text/plain": [
       "  0%|          | 0/670 [00:00<?, ?it/s]"
      ]
     },
     "metadata": {},
     "output_type": "display_data"
    },
    {
     "name": "stdout",
     "output_type": "stream",
     "text": [
      "It took 33.660639794193095 ms on average per sample.\n"
     ]
    }
   ],
   "source": [
    "def progresser(sample_idx, grid, auto_position=True, write_safe=False, blocking=True, progress=False):    \n",
    "    sample = all_sem_clouds2[sample_idx]\n",
    "    sample_sphere = Sphere(sample)\n",
    "    # sample_sphere = all_sem_clouds[sample_idx]\n",
    "    features = sample_sphere.sampleUsingGrid(grid)\n",
    "    return features\n",
    "\n",
    "print(f\"Computing features for {len(all_sem_clouds)} clouds.\")\n",
    "bw = 50\n",
    "grid, _ = DHGrid.CreateGrid(bw)\n",
    "\n",
    "sem_idx = np.arange(0, len(all_sem_clouds))\n",
    "sample_func = partial(progresser, grid=grid)\n",
    "start_time = time.time() * 1000\n",
    "sem_features = process_map(sample_func, sem_idx, max_workers=16)\n",
    "executionTime = (time.time() * 1000 - start_time)\n",
    "\n",
    "print(f\"It took {executionTime / len(all_sem_clouds)} ms on average per sample.\")"
   ]
  },
  {
   "cell_type": "code",
   "execution_count": 8,
   "metadata": {},
   "outputs": [
    {
     "name": "stdout",
     "output_type": "stream",
     "text": [
      "Wrote features to /media/scratch/berlukas/waymo/segments/features11.npy.\n"
     ]
    }
   ],
   "source": [
    "filename = f\"{dataroot}/features11.npy\"\n",
    "np.save(filename, sem_features)\n",
    "print(f\"Wrote features to {filename}.\")"
   ]
  },
  {
   "cell_type": "markdown",
   "metadata": {},
   "source": [
    "# Resample Archive"
   ]
  },
  {
   "cell_type": "code",
   "execution_count": 2,
   "metadata": {},
   "outputs": [
    {
     "name": "stdout",
     "output_type": "stream",
     "text": [
      "Loaded 670 from /media/berlukas/Data/data/datasets/s2ae/waymo/pointclouds//archive01.npy.\n"
     ]
    }
   ],
   "source": [
    "dataroot = '/media/berlukas/Data/data/datasets/s2ae/waymo/pointclouds/'\n",
    "filename = 'archive01'\n",
    "archive = f'{dataroot}/{filename}.npy'\n",
    "all_sem_clouds = np.load(archive, allow_pickle=True)\n",
    "print(f'Loaded {len(all_sem_clouds)} from {archive}.')"
   ]
  },
  {
   "cell_type": "markdown",
   "metadata": {},
   "source": [
    "## Visualize extracted pointclouds"
   ]
  },
  {
   "cell_type": "code",
   "execution_count": 23,
   "metadata": {},
   "outputs": [],
   "source": [
    "def mapIntensityToRGB(i):\n",
    "    return cm.jet(plt.Normalize(min(i), max(i))(i))\n",
    "\n",
    "def visualizeRawPointcloud(pcl, val):\n",
    "    pcd = o3d.geometry.PointCloud()\n",
    "    pcd.points = o3d.utility.Vector3dVector(pcl[:, 0:3])\n",
    "    colors = mapIntensityToRGB(val)\n",
    "#     colors = scan.sem_color_lut[pcl[:,4].astype(np.int)]\n",
    "    pcd.colors = o3d.utility.Vector3dVector(colors[:,0:3])\n",
    "    o3d.visualization.draw_geometries([pcd], width=640,  height=480)    \n",
    "    \n",
    "def createGrid_old(bw):\n",
    "    n_grid = 2 * bw\n",
    "    k = 0;\n",
    "    points = np.empty([n_grid * n_grid, 2])\n",
    "    for i in range(n_grid):\n",
    "        for j in range(n_grid):\n",
    "            points[k, 0] = (np.pi*(2*i+1))/(4*bw)\n",
    "            points[k, 1] = (2*np.pi*j)/(2*bw);\n",
    "            k = k + 1;\n",
    "    return points\n",
    "    \n",
    "def convertGridToEuclidean_old(grid):\n",
    "    cart_grid = np.zeros([ grid.shape[0], 3])\n",
    "    cart_grid[:,0] = np.multiply(np.sin(grid[:,0]), np.cos(grid[:,1]))\n",
    "    cart_grid[:,1] = np.multiply(np.sin(grid[:,0]), np.sin(grid[:,1]))\n",
    "    cart_grid[:,2] = np.cos(grid[:,0])\n",
    "    return cart_grid\n",
    "\n",
    "def create_sampling_sphere(bw):\n",
    "    grid = createGrid_old(bw)\n",
    "    xyz_grid = convertGridToEuclidean_old(grid)\n",
    "    intensities = np.zeros((xyz_grid.shape[0],1))\n",
    "    sampling_grid = np.hstack((xyz_grid, np.ones((xyz_grid.shape[0], 1), dtype=xyz_grid.dtype)))\n",
    "    return sampling_grid.T\n"
   ]
  },
  {
   "cell_type": "code",
   "execution_count": 70,
   "metadata": {},
   "outputs": [
    {
     "data": {
      "application/vnd.jupyter.widget-view+json": {
       "model_id": "fc02bf38079341fd93647155c1e4d36e",
       "version_major": 2,
       "version_minor": 0
      },
      "text/plain": [
       "  0%|          | 0/670 [00:00<?, ?it/s]"
      ]
     },
     "metadata": {},
     "output_type": "display_data"
    },
    {
     "ename": "KeyboardInterrupt",
     "evalue": "",
     "output_type": "error",
     "traceback": [
      "\u001b[0;31m---------------------------------------------------------------------------\u001b[0m",
      "\u001b[0;31mKeyboardInterrupt\u001b[0m                         Traceback (most recent call last)",
      "Input \u001b[0;32mIn [70]\u001b[0m, in \u001b[0;36m<cell line: 3>\u001b[0;34m()\u001b[0m\n\u001b[1;32m     21\u001b[0m all_sem_clouds2\u001b[38;5;241m.\u001b[39mappend(cloud)\n\u001b[1;32m     22\u001b[0m \u001b[38;5;66;03m# viz after\u001b[39;00m\n\u001b[0;32m---> 23\u001b[0m \u001b[43mvisualizeRawPointcloud\u001b[49m\u001b[43m(\u001b[49m\u001b[43mcloud\u001b[49m\u001b[43m,\u001b[49m\u001b[43m \u001b[49m\u001b[43mcloud\u001b[49m\u001b[43m[\u001b[49m\u001b[43m:\u001b[49m\u001b[43m,\u001b[49m\u001b[43m \u001b[49m\u001b[38;5;241;43m4\u001b[39;49m\u001b[43m]\u001b[49m\u001b[43m)\u001b[49m\n",
      "Input \u001b[0;32mIn [23]\u001b[0m, in \u001b[0;36mvisualizeRawPointcloud\u001b[0;34m(pcl, val)\u001b[0m\n\u001b[1;32m      8\u001b[0m \u001b[38;5;66;03m#     colors = scan.sem_color_lut[pcl[:,4].astype(np.int)]\u001b[39;00m\n\u001b[1;32m      9\u001b[0m     pcd\u001b[38;5;241m.\u001b[39mcolors \u001b[38;5;241m=\u001b[39m o3d\u001b[38;5;241m.\u001b[39mutility\u001b[38;5;241m.\u001b[39mVector3dVector(colors[:,\u001b[38;5;241m0\u001b[39m:\u001b[38;5;241m3\u001b[39m])\n\u001b[0;32m---> 10\u001b[0m     \u001b[43mo3d\u001b[49m\u001b[38;5;241;43m.\u001b[39;49m\u001b[43mvisualization\u001b[49m\u001b[38;5;241;43m.\u001b[39;49m\u001b[43mdraw_geometries\u001b[49m\u001b[43m(\u001b[49m\u001b[43m[\u001b[49m\u001b[43mpcd\u001b[49m\u001b[43m]\u001b[49m\u001b[43m,\u001b[49m\u001b[43m \u001b[49m\u001b[43mwidth\u001b[49m\u001b[38;5;241;43m=\u001b[39;49m\u001b[38;5;241;43m640\u001b[39;49m\u001b[43m,\u001b[49m\u001b[43m  \u001b[49m\u001b[43mheight\u001b[49m\u001b[38;5;241;43m=\u001b[39;49m\u001b[38;5;241;43m480\u001b[39;49m\u001b[43m)\u001b[49m\n",
      "\u001b[0;31mKeyboardInterrupt\u001b[0m: "
     ]
    }
   ],
   "source": [
    "n_clouds = len(all_sem_clouds)\n",
    "all_sem_clouds2 = []\n",
    "for i in tqdm(range(0, n_clouds)):\n",
    "    cloud = np.copy(all_sem_clouds[i])\n",
    "    # viz before\n",
    "    # visualize_pointcloud(cloud[:, [0, 1, 2, 4]]) \n",
    "    \n",
    "    # map semantic label\n",
    "    cloud[:,4] = list(map(SemanticClasses.map_waymo_to_nuscenes_label, cloud[:,4]))\n",
    "    \n",
    "    # cap range        \n",
    "    ranges = np.linalg.norm(cloud[:,0:3], axis=1)\n",
    "    # cloud = np.delete(cloud, np.where(ranges > 30), axis=0)    \n",
    "    cloud[ranges > 30, 4] = 0  \n",
    "    \n",
    "    # center cloud\n",
    "    mu = cloud[:,0:3].mean()\n",
    "    std = cloud[:,0:3].std()\n",
    "    cloud[:,0:3] = (cloud[:,0:3]-mu)\n",
    "    \n",
    "    all_sem_clouds2.append(cloud)\n",
    "    # viz after\n",
    "    visualizeRawPointcloud(cloud, cloud[:, 4])\n",
    "    # break"
   ]
  },
  {
   "cell_type": "code",
   "execution_count": 56,
   "metadata": {},
   "outputs": [],
   "source": [
    "pc = all_sem_clouds2[210]\n",
    "visualizeRawPointcloud(pc, pc[:, 4])"
   ]
  },
  {
   "cell_type": "code",
   "execution_count": 66,
   "metadata": {},
   "outputs": [
    {
     "name": "stdout",
     "output_type": "stream",
     "text": [
      "(10000, 3)\n"
     ]
    }
   ],
   "source": [
    "feature_ds = '/media/berlukas/Data/data/datasets/s2ae/waymo'\n",
    "filename = f'{feature_ds}/features01.npy'\n",
    "sem_features = np.load(filename)\n",
    "\n",
    "cur_sem_cloud = sem_features[210]\n",
    "cur_sem_cloud = np.reshape(cur_sem_cloud, (3, -1)).T\n",
    "print(f'{cur_sem_cloud.shape}')\n",
    "pc = create_sampling_sphere(bw)\n",
    "points_xyz = pc.T[:,0:3]\n",
    "# print(f\"sampling pointcloud shape is {points_xyz.shape}\")\n",
    "# print(f\"feature shape is {cur_sem_cloud.shape}\")\n",
    "points_xyzl = np.column_stack((points_xyz, cur_sem_cloud[:,2]))\n",
    "# points_xyzn = np.column_stack((points_xyz, cur_sem_cloud[:,2]))\n",
    "\n",
    "visualizeRawPointcloud(points_xyzl, points_xyzl[:, 3])"
   ]
  },
  {
   "cell_type": "code",
   "execution_count": 31,
   "metadata": {},
   "outputs": [],
   "source": []
  }
 ],
 "metadata": {
  "kernelspec": {
   "display_name": "Python 3 (ipykernel)",
   "language": "python",
   "name": "python3"
  },
  "language_info": {
   "codemirror_mode": {
    "name": "ipython",
    "version": 3
   },
   "file_extension": ".py",
   "mimetype": "text/x-python",
   "name": "python",
   "nbconvert_exporter": "python",
   "pygments_lexer": "ipython3",
   "version": "3.10.4"
  },
  "vscode": {
   "interpreter": {
    "hash": "31f2aee4e71d21fbe5cf8b01ff0e069b9275f58929596ceb00d14d90e3e16cd6"
   }
  }
 },
 "nbformat": 4,
 "nbformat_minor": 4
}
