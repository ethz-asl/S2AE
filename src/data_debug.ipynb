{
 "cells": [
  {
   "cell_type": "markdown",
   "metadata": {},
   "source": [
    "# Training Data Debug"
   ]
  },
  {
   "cell_type": "code",
   "execution_count": 2,
   "metadata": {},
   "outputs": [],
   "source": [
    "import math\n",
    "import sys\n",
    "import time\n",
    "\n",
    "import matplotlib.pyplot as plt\n",
    "import numpy as np\n",
    "import open3d as o3d\n",
    "from scipy import spatial\n",
    "from matplotlib import cm\n",
    "\n",
    "import torch\n",
    "from torch.utils.tensorboard import SummaryWriter\n",
    "from torchsummary import summary\n",
    "from tqdm.auto import tqdm\n",
    "\n",
    "from sphere import Sphere\n",
    "from visualize import Visualize\n",
    "from dh_grid import DHGrid\n",
    "    \n",
    "%matplotlib inline\n",
    "%load_ext autoreload\n",
    "%autoreload 2"
   ]
  },
  {
   "cell_type": "markdown",
   "metadata": {},
   "source": [
    "## Load the previous (old) data format"
   ]
  },
  {
   "cell_type": "code",
   "execution_count": 3,
   "metadata": {},
   "outputs": [
    {
     "name": "stdout",
     "output_type": "stream",
     "text": [
      "Loading clouds from /media/berlukas/T7 Touch/data/nuscenes/processed/old/clouds1.npy\n",
      "Shape of clouds is (11230, 2, 200, 200) and sem clouds is (11230, 200, 200)\n"
     ]
    }
   ],
   "source": [
    "export_ds = '/media/berlukas/T7 Touch/data/nuscenes/processed/old'\n",
    "\n",
    "cloud_filename = f\"{export_ds}/clouds1.npy\"\n",
    "sem_clouds_filename = f\"{export_ds}/new_sem_classes_gt1.npy\"\n",
    "\n",
    "print(f\"Loading clouds from {cloud_filename}\")\n",
    "cloud_features_old = np.load(cloud_filename)\n",
    "sem_cloud_features_old = np.load(sem_clouds_filename)\n",
    "print(f\"Shape of clouds is {cloud_features_old.shape} and sem clouds is {sem_cloud_features_old.shape}\")"
   ]
  },
  {
   "cell_type": "markdown",
   "metadata": {},
   "source": [
    "# Load the current data format"
   ]
  },
  {
   "cell_type": "code",
   "execution_count": 4,
   "metadata": {},
   "outputs": [
    {
     "name": "stdout",
     "output_type": "stream",
     "text": [
      "Loading clouds from /mnt/data/datasets/nuscenes/processed/clouds_fixed_sem.npy\n",
      "Shape of clouds is (11230, 2, 200, 200)\n"
     ]
    }
   ],
   "source": [
    "export_ds = '/mnt/data/datasets/nuscenes/processed'\n",
    "\n",
    "cloud_filename = f\"{export_ds}/clouds_fixed_sem.npy\"\n",
    "\n",
    "print(f\"Loading clouds from {cloud_filename}\")\n",
    "cloud_features = np.load(cloud_filename)\n",
    "sem_cloud_features = cloud_features[:, 2, :, :]\n",
    "cloud_features = cloud_features[:, 0:2, :, :]\n",
    "\n",
    "print(f\"Shape of clouds is {cloud_features.shape}\")\n",
    "# print(f\"Shape of clouds is {cloud_features.shape} and sem clouds is {sem_cloud_features.shape}\")"
   ]
  },
  {
   "cell_type": "markdown",
   "metadata": {},
   "source": [
    "## Compare the two datasets"
   ]
  },
  {
   "cell_type": "code",
   "execution_count": 5,
   "metadata": {},
   "outputs": [],
   "source": [
    "def mapIntensityToRGB(i):\n",
    "    mask = np.where(i < 0)    \n",
    "    colors = cm.jet(plt.Normalize(min(i), max(i))(i))\n",
    "    colors[mask] = 0\n",
    "    return colors\n",
    "\n",
    "def prepare_for_viz(cloud):\n",
    "    pcd = o3d.geometry.PointCloud()\n",
    "    pcd.points = o3d.utility.Vector3dVector(cloud[:, 0:3])\n",
    "    if cloud.shape[1] == 4:\n",
    "        colors = mapIntensityToRGB(cloud[:, 3])\n",
    "        pcd.colors = o3d.utility.Vector3dVector(colors[:,0:3])\n",
    "    if cloud.shape[1] == 6:\n",
    "        pcd.colors = o3d.utility.Vector3dVector(cloud[:,3:6] / 255.0)\n",
    "    return pcd\n",
    "\n",
    "def visualize_pointcloud(cloud):\n",
    "    pcd = prepare_for_viz(cloud)        \n",
    "    o3d.visualization.draw_geometries([pcd])\n",
    "    \n",
    "def visualize_sphere(cloud, ndim = 1, bw = 100):    \n",
    "    _, points = DHGrid.CreateGrid(bw)\n",
    "    cur_sem_cloud = np.reshape(cloud, (ndim, -1)).T\n",
    "    points_xyz = DHGrid.ConvertPointsToEuclidean(points)        \n",
    "    points_xyzi = np.column_stack((points_xyz, cur_sem_cloud[:,0]))\n",
    "    visualize_pointcloud(points_xyzi)\n",
    "    \n",
    "def writeRawPointCloud(cloud, filename):\n",
    "    pcd = o3d.geometry.PointCloud()\n",
    "    pcd.points = o3d.utility.Vector3dVector(cloud[:, 0:3])\n",
    "    colors = mapIntensityToRGB(cloud[:, 3])\n",
    "    pcd.colors = o3d.utility.Vector3dVector(colors[:,0:3])\n",
    "    o3d.io.write_point_cloud(filename, pcd)\n",
    "    "
   ]
  },
  {
   "cell_type": "code",
   "execution_count": 8,
   "metadata": {},
   "outputs": [],
   "source": [
    "visualize_sphere(sem_cloud_features_old[0,:,:], 1)\n",
    "visualize_sphere(sem_cloud_features[0,:,:], 1, 100)"
   ]
  },
  {
   "cell_type": "code",
   "execution_count": 6,
   "metadata": {},
   "outputs": [
    {
     "name": "stdout",
     "output_type": "stream",
     "text": [
      "old classes are [0. 1. 2. 3. 4. 5. 7. 8.]\n",
      "new classes are [1. 2. 3. 4. 5. 7. 8.]\n"
     ]
    }
   ],
   "source": [
    "old_classes = np.unique(sem_cloud_features_old[0,:,:])\n",
    "new_classes = np.unique(sem_cloud_features[0,:,:])\n",
    "print(f'old classes are {old_classes}')\n",
    "print(f'new classes are {new_classes}')"
   ]
  },
  {
   "cell_type": "code",
   "execution_count": 7,
   "metadata": {},
   "outputs": [
    {
     "data": {
      "text/plain": [
       "False"
      ]
     },
     "execution_count": 7,
     "metadata": {},
     "output_type": "execute_result"
    }
   ],
   "source": [
    "np.array_equal(sem_cloud_features_old[0:10,:,:], sem_cloud_features[0:10,:,:])"
   ]
  },
  {
   "cell_type": "code",
   "execution_count": 17,
   "metadata": {},
   "outputs": [
    {
     "data": {
      "text/plain": [
       "False"
      ]
     },
     "execution_count": 17,
     "metadata": {},
     "output_type": "execute_result"
    }
   ],
   "source": [
    "np.array_equal(cloud_features_old[1,0,:,:], cloud_features[1,0,:,:])"
   ]
  },
  {
   "cell_type": "code",
   "execution_count": 18,
   "metadata": {},
   "outputs": [],
   "source": [
    "visualize_sphere(cloud_features_old[1,0,:,:], 1, 100)\n",
    "visualize_sphere(cloud_features[1,0,:,:], 1, 100)"
   ]
  },
  {
   "cell_type": "code",
   "execution_count": 22,
   "metadata": {},
   "outputs": [],
   "source": [
    "diff = cloud_features_old[1,0,:,:] - cloud_features[1,0,:,:]\n",
    "# visualize_sphere(diff)\n",
    "visualize_sphere(cloud_features[1,0,:,:] + (diff*100000))"
   ]
  }
 ],
 "metadata": {
  "kernelspec": {
   "display_name": "Python 3",
   "language": "python",
   "name": "python3"
  },
  "language_info": {
   "codemirror_mode": {
    "name": "ipython",
    "version": 3
   },
   "file_extension": ".py",
   "mimetype": "text/x-python",
   "name": "python",
   "nbconvert_exporter": "python",
   "pygments_lexer": "ipython3",
   "version": "3.6.9"
  }
 },
 "nbformat": 4,
 "nbformat_minor": 4
}
