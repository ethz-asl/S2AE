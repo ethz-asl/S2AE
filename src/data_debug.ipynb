{
 "cells": [
  {
   "cell_type": "markdown",
   "metadata": {},
   "source": [
    "# Training Data Debug"
   ]
  },
  {
   "cell_type": "code",
   "execution_count": 3,
   "metadata": {},
   "outputs": [
    {
     "name": "stdout",
     "output_type": "stream",
     "text": [
      "The autoreload extension is already loaded. To reload it, use:\n",
      "  %reload_ext autoreload\n"
     ]
    }
   ],
   "source": [
    "import math\n",
    "import sys\n",
    "import time\n",
    "\n",
    "import matplotlib.pyplot as plt\n",
    "import numpy as np\n",
    "import open3d as o3d\n",
    "from scipy import spatial\n",
    "from matplotlib import cm\n",
    "\n",
    "from tqdm.auto import tqdm\n",
    "\n",
    "from sphere import Sphere\n",
    "from dh_grid import DHGrid\n",
    "    \n",
    "%matplotlib inline\n",
    "%load_ext autoreload\n",
    "%autoreload 2"
   ]
  },
  {
   "cell_type": "markdown",
   "metadata": {},
   "source": [
    "## Load the previous (old) data format"
   ]
  },
  {
   "cell_type": "code",
   "execution_count": 9,
   "metadata": {},
   "outputs": [
    {
     "name": "stdout",
     "output_type": "stream",
     "text": [
      "Shape of clouds is (200, 200, 200)\n"
     ]
    }
   ],
   "source": [
    "export_ds = '/media/berlukas/Data/data/nuscenes/'\n",
    "\n",
    "cloud_filename = f\"{export_ds}/sem_clouds_decoded.npy\"\n",
    "cloud_features_decoded = np.load(cloud_filename)\n",
    "# cloud_features_decoded = np.argmax(cloud_features_decoded, axis=1)\n",
    "\n",
    "print(f\"Shape of clouds is {cloud_features_decoded.shape}\")"
   ]
  },
  {
   "cell_type": "markdown",
   "metadata": {},
   "source": [
    "# Load the current data format"
   ]
  },
  {
   "cell_type": "code",
   "execution_count": 64,
   "metadata": {},
   "outputs": [
    {
     "name": "stdout",
     "output_type": "stream",
     "text": [
      "Loading clouds from /media/berlukas/Data/data/nuscenes//sem_clouds_val_kitti_final.npy\n",
      "Initial shape of clouds is (200, 3, 200, 200)\n",
      "Shape of clouds is (200, 2, 200, 200)\n"
     ]
    }
   ],
   "source": [
    "export_ds = '/media/berlukas/Data/data/nuscenes/'\n",
    "\n",
    "# cloud_filename = f\"{export_ds}/sem_clouds_08.npy\"\n",
    "cloud_filename = f\"{export_ds}/sem_clouds_val_kitti_final.npy\"\n",
    "# cloud_filename = f\"{export_ds}/sem_clouds_decoded.npy\"\n",
    "\n",
    "print(f\"Loading clouds from {cloud_filename}\")\n",
    "cloud_features = np.load(cloud_filename)\n",
    "print(f\"Initial shape of clouds is {cloud_features.shape}\")\n",
    "sem_cloud_features = cloud_features[:, 2, :, :]\n",
    "cloud_features = cloud_features[:, 0:2, :, :]\n",
    "\n",
    "print(f\"Shape of clouds is {cloud_features.shape}\")\n",
    "# print(f\"Shape of clouds is {cloud_features.shape} and sem clouds is {sem_cloud_features.shape}\")"
   ]
  },
  {
   "cell_type": "markdown",
   "metadata": {},
   "source": [
    "## Compare the two datasets"
   ]
  },
  {
   "cell_type": "code",
   "execution_count": 5,
   "metadata": {},
   "outputs": [],
   "source": [
    "def mapIntensityToRGB(i):\n",
    "    mask = np.where(i < 0)    \n",
    "    colors = cm.jet(plt.Normalize(min(i), max(i))(i))\n",
    "    colors[mask] = 0\n",
    "    return colors\n",
    "\n",
    "def prepare_for_viz(cloud):\n",
    "    pcd = o3d.geometry.PointCloud()\n",
    "    pcd.points = o3d.utility.Vector3dVector(cloud[:, 0:3])\n",
    "    if cloud.shape[1] == 4:\n",
    "        colors = mapIntensityToRGB(cloud[:, 3])\n",
    "        pcd.colors = o3d.utility.Vector3dVector(colors[:,0:3])\n",
    "    if cloud.shape[1] == 6:\n",
    "        pcd.colors = o3d.utility.Vector3dVector(cloud[:,3:6] / 255.0)\n",
    "    return pcd\n",
    "\n",
    "def visualize_pointcloud(cloud):\n",
    "    pcd = prepare_for_viz(cloud)        \n",
    "    o3d.visualization.draw_geometries([pcd])\n",
    "    \n",
    "def visualize_sphere(cloud, ndim = 1, bw = 100, idx = 0):\n",
    "    _, points = DHGrid.CreateGrid(bw)\n",
    "    cur_sem_cloud = np.reshape(cloud, (ndim, -1)).T        \n",
    "    \n",
    "    points_xyz = DHGrid.ConvertPointsToEuclidean(points)                    \n",
    "    points_xyzi = np.column_stack((points_xyz, cur_sem_cloud[:,idx]))    \n",
    "    visualize_pointcloud(points_xyzi)\n",
    "    return points_xyzi\n",
    "    \n",
    "def writeRawPointCloud(cloud, filename):\n",
    "    pcd = o3d.geometry.PointCloud()\n",
    "    pcd.points = o3d.utility.Vector3dVector(cloud[:, 0:3])\n",
    "    colors = mapIntensityToRGB(cloud[:, 3])\n",
    "    pcd.colors = o3d.utility.Vector3dVector(colors[:,0:3])\n",
    "    o3d.io.write_point_cloud(filename, pcd)\n",
    "    "
   ]
  },
  {
   "cell_type": "code",
   "execution_count": 67,
   "metadata": {},
   "outputs": [],
   "source": [
    "xyzi = visualize_sphere(cloud_features[150,:,:,:], 2, 100, 1)"
   ]
  },
  {
   "cell_type": "code",
   "execution_count": 10,
   "metadata": {},
   "outputs": [
    {
     "data": {
      "text/plain": [
       "array([[ 7.85390089e-03,  0.00000000e+00,  9.99969158e-01,\n",
       "         0.00000000e+00],\n",
       "       [ 7.85002546e-03,  2.46696989e-04,  9.99969158e-01,\n",
       "         0.00000000e+00],\n",
       "       [ 7.83840301e-03,  4.93150517e-04,  9.99969158e-01,\n",
       "         0.00000000e+00],\n",
       "       ...,\n",
       "       [ 7.81904500e-03, -7.39117366e-04, -9.99969158e-01,\n",
       "         0.00000000e+00],\n",
       "       [ 7.83840301e-03, -4.93150517e-04, -9.99969158e-01,\n",
       "         0.00000000e+00],\n",
       "       [ 7.85002546e-03, -2.46696989e-04, -9.99969158e-01,\n",
       "         0.00000000e+00]])"
      ]
     },
     "execution_count": 10,
     "metadata": {},
     "output_type": "execute_result"
    }
   ],
   "source": [
    "visualize_sphere(cloud_features_decoded[150,:,:], 1, 100, 0)"
   ]
  }
 ],
 "metadata": {
  "kernelspec": {
   "display_name": "Python 3 (ipykernel)",
   "language": "python",
   "name": "python3"
  },
  "language_info": {
   "codemirror_mode": {
    "name": "ipython",
    "version": 3
   },
   "file_extension": ".py",
   "mimetype": "text/x-python",
   "name": "python",
   "nbconvert_exporter": "python",
   "pygments_lexer": "ipython3",
   "version": "3.10.4"
  }
 },
 "nbformat": 4,
 "nbformat_minor": 4
}
