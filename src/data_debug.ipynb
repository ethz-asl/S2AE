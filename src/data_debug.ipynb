{
 "cells": [
  {
   "cell_type": "markdown",
   "metadata": {},
   "source": [
    "# Training Data Debug"
   ]
  },
  {
   "cell_type": "code",
   "execution_count": 3,
   "metadata": {},
   "outputs": [],
   "source": [
    "import math\n",
    "import sys\n",
    "import time\n",
    "\n",
    "import matplotlib.pyplot as plt\n",
    "import numpy as np\n",
    "import open3d as o3d\n",
    "from scipy import spatial\n",
    "from matplotlib import cm\n",
    "\n",
    "from tqdm.auto import tqdm\n",
    "\n",
    "from sphere import Sphere\n",
    "from dh_grid import DHGrid\n",
    "    \n",
    "%matplotlib inline\n",
    "%load_ext autoreload\n",
    "%autoreload 2"
   ]
  },
  {
   "cell_type": "markdown",
   "metadata": {},
   "source": [
    "## Load the previous (old) data format"
   ]
  },
  {
   "cell_type": "code",
   "execution_count": 78,
   "metadata": {},
   "outputs": [
    {
     "name": "stdout",
     "output_type": "stream",
     "text": [
      "Shape of clouds is (100, 200, 200)\n"
     ]
    }
   ],
   "source": [
    "export_ds = '/media/berlukas/Data/data/nuscenes/'\n",
    "\n",
    "cloud_filename = f\"{export_ds}/sem_clouds_decoded.npy\"\n",
    "cloud_features_decoded = np.load(cloud_filename)\n",
    "cloud_features_decoded = np.argmax(cloud_features_decoded, axis=1)\n",
    "\n",
    "print(f\"Shape of clouds is {cloud_features_decoded.shape}\")"
   ]
  },
  {
   "cell_type": "markdown",
   "metadata": {},
   "source": [
    "# Load the current data format"
   ]
  },
  {
   "cell_type": "code",
   "execution_count": 96,
   "metadata": {},
   "outputs": [
    {
     "name": "stdout",
     "output_type": "stream",
     "text": [
      "Loading clouds from /media/berlukas/Data/data/nuscenes//sem_clouds_val_kitti_final.npy\n",
      "Initial shape of clouds is (100, 3, 200, 200)\n",
      "Shape of clouds is (100, 2, 200, 200)\n"
     ]
    }
   ],
   "source": [
    "export_ds = '/media/berlukas/Data/data/nuscenes/'\n",
    "\n",
    "# cloud_filename = f\"{export_ds}/sem_clouds_08.npy\"\n",
    "cloud_filename = f\"{export_ds}/sem_clouds_val_kitti_final.npy\"\n",
    "# cloud_filename = f\"{export_ds}/sem_clouds_decoded.npy\"\n",
    "\n",
    "print(f\"Loading clouds from {cloud_filename}\")\n",
    "cloud_features = np.load(cloud_filename)\n",
    "print(f\"Initial shape of clouds is {cloud_features.shape}\")\n",
    "sem_cloud_features = cloud_features[:, 2, :, :]\n",
    "cloud_features = cloud_features[:, 0:2, :, :]\n",
    "\n",
    "print(f\"Shape of clouds is {cloud_features.shape}\")\n",
    "# print(f\"Shape of clouds is {cloud_features.shape} and sem clouds is {sem_cloud_features.shape}\")"
   ]
  },
  {
   "cell_type": "markdown",
   "metadata": {},
   "source": [
    "## Compare the two datasets"
   ]
  },
  {
   "cell_type": "code",
   "execution_count": 93,
   "metadata": {},
   "outputs": [],
   "source": [
    "def mapIntensityToRGB(i):\n",
    "    mask = np.where(i < 0)    \n",
    "    colors = cm.jet(plt.Normalize(min(i), max(i))(i))\n",
    "    colors[mask] = 0\n",
    "    return colors\n",
    "\n",
    "def prepare_for_viz(cloud):\n",
    "    pcd = o3d.geometry.PointCloud()\n",
    "    pcd.points = o3d.utility.Vector3dVector(cloud[:, 0:3])\n",
    "    if cloud.shape[1] == 4:\n",
    "        colors = mapIntensityToRGB(cloud[:, 3])\n",
    "        pcd.colors = o3d.utility.Vector3dVector(colors[:,0:3])\n",
    "    if cloud.shape[1] == 6:\n",
    "        pcd.colors = o3d.utility.Vector3dVector(cloud[:,3:6] / 255.0)\n",
    "    return pcd\n",
    "\n",
    "def visualize_pointcloud(cloud):\n",
    "    pcd = prepare_for_viz(cloud)        \n",
    "    o3d.visualization.draw_geometries([pcd])\n",
    "    \n",
    "def visualize_sphere(cloud, ndim = 1, bw = 100, idx = 0):\n",
    "    _, points = DHGrid.CreateGrid(bw)\n",
    "    cur_sem_cloud = np.reshape(cloud, (ndim, -1)).T\n",
    "    cur_sem_cloud[:,idx] = cur_sem_cloud[:,idx] * 200\n",
    "    cur_sem_cloud[cur_sem_cloud[:,idx] < 0] = -1\n",
    "    \n",
    "    points_xyz = DHGrid.ConvertPointsToEuclidean(points)                    \n",
    "    points_xyzi = np.column_stack((points_xyz, cur_sem_cloud[:,idx]))    \n",
    "    visualize_pointcloud(points_xyzi)\n",
    "    return points_xyzi\n",
    "    \n",
    "def writeRawPointCloud(cloud, filename):\n",
    "    pcd = o3d.geometry.PointCloud()\n",
    "    pcd.points = o3d.utility.Vector3dVector(cloud[:, 0:3])\n",
    "    colors = mapIntensityToRGB(cloud[:, 3])\n",
    "    pcd.colors = o3d.utility.Vector3dVector(colors[:,0:3])\n",
    "    o3d.io.write_point_cloud(filename, pcd)\n",
    "    "
   ]
  },
  {
   "cell_type": "code",
   "execution_count": 79,
   "metadata": {},
   "outputs": [
    {
     "data": {
      "text/plain": [
       "array([[ 7.85390089e-03,  0.00000000e+00,  9.99969158e-01,\n",
       "         1.00000000e+00],\n",
       "       [ 7.85002546e-03,  2.46696989e-04,  9.99969158e-01,\n",
       "         1.00000000e+00],\n",
       "       [ 7.83840301e-03,  4.93150517e-04,  9.99969158e-01,\n",
       "         1.00000000e+00],\n",
       "       ...,\n",
       "       [ 7.81904500e-03, -7.39117366e-04, -9.99969158e-01,\n",
       "         1.00000000e+00],\n",
       "       [ 7.83840301e-03, -4.93150517e-04, -9.99969158e-01,\n",
       "         1.00000000e+00],\n",
       "       [ 7.85002546e-03, -2.46696989e-04, -9.99969158e-01,\n",
       "         1.00000000e+00]])"
      ]
     },
     "execution_count": 79,
     "metadata": {},
     "output_type": "execute_result"
    }
   ],
   "source": [
    "visualize_sphere(cloud_features_decoded[15, :, :], 1, 100)"
   ]
  },
  {
   "cell_type": "code",
   "execution_count": 97,
   "metadata": {},
   "outputs": [],
   "source": [
    "xyzi = visualize_sphere(cloud_features[15,:,:], 2, 100, 1)"
   ]
  },
  {
   "cell_type": "code",
   "execution_count": 98,
   "metadata": {},
   "outputs": [
    {
     "name": "stdout",
     "output_type": "stream",
     "text": [
      "[ -1.           0.           1.99999996   3.99999991   5.99999987\n",
      "   7.99999982  10.00000015  11.99999973  14.00000006  15.99999964\n",
      "  18.00000072  20.0000003   21.99999988  23.99999946  25.99999905\n",
      "  28.00000012  30.00000119  31.99999928  34.00000036  36.00000143\n",
      "  37.99999952  40.0000006   41.99999869  43.99999976  46.00000083\n",
      "  47.99999893  50.          51.99999809  54.00000215  56.00000024\n",
      "  57.99999833  60.00000238  62.00000048  63.99999857  66.00000262\n",
      "  68.00000072  69.99999881  72.00000286  74.00000095  75.99999905\n",
      "  77.99999714  80.00000119  81.99999928  83.99999738  86.00000143\n",
      "  87.99999952  89.99999762  92.00000167  93.99999976  95.99999785\n",
      "  98.00000191 100.         101.99999809 103.99999619 105.99999428\n",
      " 108.00000429 110.00000238 112.00000048 113.99999857 115.99999666\n",
      " 117.99999475 120.00000477 122.00000286 124.00000095 125.99999905\n",
      " 127.99999714 129.99999523 132.00000525 134.00000334 136.00000143\n",
      " 137.99999952 139.99999762 144.00000572 146.00000381 148.00000191\n",
      " 150.         163.99999857 174.00000095 182.00000525 186.00000143\n",
      " 198.00000191]\n"
     ]
    }
   ],
   "source": [
    "test = np.unique(xyzi[:, 3])\n",
    "print(test)"
   ]
  },
  {
   "cell_type": "code",
   "execution_count": 63,
   "metadata": {},
   "outputs": [
    {
     "data": {
      "text/plain": [
       "array([-1., -1., -1., -1., -1., -1., -1., -1., -1.])"
      ]
     },
     "execution_count": 63,
     "metadata": {},
     "output_type": "execute_result"
    }
   ],
   "source": [
    "[ -1.   0.   1.   2.   3.   4.   5.   6.   7.   8.   9.  10.  11.  12.\n",
    "  13.  14.  15.  16.  17.  18.  19.  20.  21.  22.  23.  24.  25.  26.\n",
    "  27.  28.  29.  30.  31.  32.  33.  34.  35.  36.  37.  38.  39.  40.\n",
    "  41.  42.  43.  44.  45.  46.  47.  48.  49.  50.  51.  52.  53.  54.\n",
    "  55.  56.  57.  58.  59.  60.  61.  62.  63.  64.  65.  66.  67.  68.\n",
    "  69.  70.  71.  72.  73.  74.  75.  76.  77.  78.  79.  80.  81.  82.\n",
    "  83.  84.  85.  86.  87.  88.  89.  90.  91.  92.  93.  94.  96.  97.\n",
    "  98.  99. 100. 101. 102. 103. 106. 107. 109. 120. 174.]"
   ]
  }
 ],
 "metadata": {
  "kernelspec": {
   "display_name": "Python 3 (ipykernel)",
   "language": "python",
   "name": "python3"
  },
  "language_info": {
   "codemirror_mode": {
    "name": "ipython",
    "version": 3
   },
   "file_extension": ".py",
   "mimetype": "text/x-python",
   "name": "python",
   "nbconvert_exporter": "python",
   "pygments_lexer": "ipython3",
   "version": "3.10.4"
  }
 },
 "nbformat": 4,
 "nbformat_minor": 4
}
