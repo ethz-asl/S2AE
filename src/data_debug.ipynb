{
 "cells": [
  {
   "cell_type": "markdown",
   "metadata": {},
   "source": [
    "# Training Data Debug"
   ]
  },
  {
   "cell_type": "code",
   "execution_count": 15,
   "metadata": {},
   "outputs": [
    {
     "name": "stdout",
     "output_type": "stream",
     "text": [
      "The autoreload extension is already loaded. To reload it, use:\n",
      "  %reload_ext autoreload\n"
     ]
    }
   ],
   "source": [
    "import math\n",
    "import sys\n",
    "import time\n",
    "\n",
    "import matplotlib.pyplot as plt\n",
    "import numpy as np\n",
    "import open3d as o3d\n",
    "from scipy import spatial\n",
    "from matplotlib import cm\n",
    "\n",
    "import torch\n",
    "from torch.utils.tensorboard import SummaryWriter\n",
    "from torchsummary import summary\n",
    "from tqdm.auto import tqdm\n",
    "\n",
    "from sphere import Sphere\n",
    "from visualize import Visualize\n",
    "from dh_grid import DHGrid\n",
    "    \n",
    "%matplotlib inline\n",
    "%load_ext autoreload\n",
    "%autoreload 2"
   ]
  },
  {
   "cell_type": "markdown",
   "metadata": {},
   "source": [
    "## Load the previous (old) data format"
   ]
  },
  {
   "cell_type": "code",
   "execution_count": 5,
   "metadata": {},
   "outputs": [
    {
     "name": "stdout",
     "output_type": "stream",
     "text": [
      "Loading clouds from /media/scratch/berlukas/nuscenes_old/clouds1.npy\n",
      "Shape of clouds is (4766, 2, 400, 400) and sem clouds is (4766, 400, 400)\n"
     ]
    }
   ],
   "source": [
    "export_ds = '/media/scratch/berlukas/nuscenes_old'\n",
    "\n",
    "cloud_filename = f\"{export_ds}/clouds1.npy\"\n",
    "sem_clouds_filename = f\"{export_ds}/new_sem_classes_gt1.npy\"\n",
    "\n",
    "print(f\"Loading clouds from {cloud_filename}\")\n",
    "cloud_features_old = np.load(cloud_filename)\n",
    "sem_cloud_features_old = np.load(sem_clouds_filename)\n",
    "print(f\"Shape of clouds is {cloud_features.shape} and sem clouds is {sem_cloud_features.shape}\")"
   ]
  },
  {
   "cell_type": "markdown",
   "metadata": {},
   "source": [
    "# Load the current data format"
   ]
  },
  {
   "cell_type": "code",
   "execution_count": 3,
   "metadata": {},
   "outputs": [
    {
     "name": "stdout",
     "output_type": "stream",
     "text": [
      "Loading clouds from /media/scratch/berlukas/nuscenes/clouds.npy\n",
      "Shape of clouds is (4766, 2, 400, 400)\n"
     ]
    }
   ],
   "source": [
    "export_ds = '/media/scratch/berlukas/nuscenes'\n",
    "\n",
    "cloud_filename = f\"{export_ds}/clouds.npy\"\n",
    "\n",
    "print(f\"Loading clouds from {cloud_filename}\")\n",
    "cloud_features = np.load(cloud_filename)\n",
    "sem_cloud_features = cloud_features[:, 2, :, :]\n",
    "cloud_features = cloud_features[:, 0:2, :, :]\n",
    "print(f\"Shape of clouds is {cloud_features.shape}\")"
   ]
  },
  {
   "cell_type": "markdown",
   "metadata": {},
   "source": [
    "## Compare the two datasets"
   ]
  },
  {
   "cell_type": "code",
   "execution_count": 13,
   "metadata": {},
   "outputs": [],
   "source": [
    "def mapIntensityToRGB(i):\n",
    "    mask = np.where(i < 0)    \n",
    "    colors = cm.jet(plt.Normalize(min(i), max(i))(i))\n",
    "    colors[mask] = 0\n",
    "    return colors\n",
    "\n",
    "def prepare_for_viz(cloud):\n",
    "    pcd = o3d.geometry.PointCloud()\n",
    "    pcd.points = o3d.utility.Vector3dVector(cloud[:, 0:3])\n",
    "    if cloud.shape[1] == 4:\n",
    "        colors = mapIntensityToRGB(cloud[:, 3])\n",
    "        pcd.colors = o3d.utility.Vector3dVector(colors[:,0:3])\n",
    "    if cloud.shape[1] == 6:\n",
    "        pcd.colors = o3d.utility.Vector3dVector(cloud[:,3:6] / 255.0)\n",
    "    return pcd\n",
    "\n",
    "def visualize_pointcloud(cloud):\n",
    "    pcd = prepare_for_viz(cloud)        \n",
    "    o3d.visualization.draw_geometries([pcd])\n",
    "    \n",
    "def visualize_sphere(cloud, ndim = 1):    \n",
    "    bw = 100\n",
    "    _, points = DHGrid.CreateGrid(bw)\n",
    "    cur_sem_cloud = np.reshape(cloud, (ndim, -1)).T\n",
    "    points_xyz = DHGrid.ConvertPointsToEuclidean(points)        \n",
    "    points_xyzi = np.column_stack((points_xyz, cur_sem_cloud[:,0]))\n",
    "    visualize_pointcloud(points_xyzi)\n",
    "    "
   ]
  },
  {
   "cell_type": "code",
   "execution_count": 16,
   "metadata": {},
   "outputs": [
    {
     "ename": "RuntimeError",
     "evalue": "\u001b[1;31m[Open3D ERROR] GLFW Error: X11: The DISPLAY environment variable is missing\u001b[0;m",
     "output_type": "error",
     "traceback": [
      "\u001b[0;31m---------------------------------------------------------------------------\u001b[0m",
      "\u001b[0;31mRuntimeError\u001b[0m                              Traceback (most recent call last)",
      "\u001b[0;32m<ipython-input-16-dcc00a3ca809>\u001b[0m in \u001b[0;36m<module>\u001b[0;34m\u001b[0m\n\u001b[0;32m----> 1\u001b[0;31m \u001b[0mvisualize_sphere\u001b[0m\u001b[0;34m(\u001b[0m\u001b[0msem_cloud_features_old\u001b[0m\u001b[0;34m[\u001b[0m\u001b[0;36m0\u001b[0m\u001b[0;34m,\u001b[0m\u001b[0;34m:\u001b[0m\u001b[0;34m,\u001b[0m\u001b[0;34m:\u001b[0m\u001b[0;34m]\u001b[0m\u001b[0;34m,\u001b[0m \u001b[0;36m1\u001b[0m\u001b[0;34m)\u001b[0m\u001b[0;34m\u001b[0m\u001b[0;34m\u001b[0m\u001b[0m\n\u001b[0m",
      "\u001b[0;32m<ipython-input-13-59bf76347780>\u001b[0m in \u001b[0;36mvisualize_sphere\u001b[0;34m(cloud, ndim)\u001b[0m\n\u001b[1;32m     25\u001b[0m     \u001b[0mpoints_xyz\u001b[0m \u001b[0;34m=\u001b[0m \u001b[0mDHGrid\u001b[0m\u001b[0;34m.\u001b[0m\u001b[0mConvertPointsToEuclidean\u001b[0m\u001b[0;34m(\u001b[0m\u001b[0mpoints\u001b[0m\u001b[0;34m)\u001b[0m\u001b[0;34m\u001b[0m\u001b[0;34m\u001b[0m\u001b[0m\n\u001b[1;32m     26\u001b[0m     \u001b[0mpoints_xyzi\u001b[0m \u001b[0;34m=\u001b[0m \u001b[0mnp\u001b[0m\u001b[0;34m.\u001b[0m\u001b[0mcolumn_stack\u001b[0m\u001b[0;34m(\u001b[0m\u001b[0;34m(\u001b[0m\u001b[0mpoints_xyz\u001b[0m\u001b[0;34m,\u001b[0m \u001b[0mcur_sem_cloud\u001b[0m\u001b[0;34m[\u001b[0m\u001b[0;34m:\u001b[0m\u001b[0;34m,\u001b[0m\u001b[0;36m0\u001b[0m\u001b[0;34m]\u001b[0m\u001b[0;34m)\u001b[0m\u001b[0;34m)\u001b[0m\u001b[0;34m\u001b[0m\u001b[0;34m\u001b[0m\u001b[0m\n\u001b[0;32m---> 27\u001b[0;31m     \u001b[0mvisualize_pointcloud\u001b[0m\u001b[0;34m(\u001b[0m\u001b[0mpoints_xyzi\u001b[0m\u001b[0;34m)\u001b[0m\u001b[0;34m\u001b[0m\u001b[0;34m\u001b[0m\u001b[0m\n\u001b[0m\u001b[1;32m     28\u001b[0m \u001b[0;34m\u001b[0m\u001b[0m\n",
      "\u001b[0;32m<ipython-input-13-59bf76347780>\u001b[0m in \u001b[0;36mvisualize_pointcloud\u001b[0;34m(cloud)\u001b[0m\n\u001b[1;32m     17\u001b[0m \u001b[0;32mdef\u001b[0m \u001b[0mvisualize_pointcloud\u001b[0m\u001b[0;34m(\u001b[0m\u001b[0mcloud\u001b[0m\u001b[0;34m)\u001b[0m\u001b[0;34m:\u001b[0m\u001b[0;34m\u001b[0m\u001b[0;34m\u001b[0m\u001b[0m\n\u001b[1;32m     18\u001b[0m     \u001b[0mpcd\u001b[0m \u001b[0;34m=\u001b[0m \u001b[0mprepare_for_viz\u001b[0m\u001b[0;34m(\u001b[0m\u001b[0mcloud\u001b[0m\u001b[0;34m)\u001b[0m\u001b[0;34m\u001b[0m\u001b[0;34m\u001b[0m\u001b[0m\n\u001b[0;32m---> 19\u001b[0;31m     \u001b[0mo3d\u001b[0m\u001b[0;34m.\u001b[0m\u001b[0mvisualization\u001b[0m\u001b[0;34m.\u001b[0m\u001b[0mdraw_geometries\u001b[0m\u001b[0;34m(\u001b[0m\u001b[0;34m[\u001b[0m\u001b[0mpcd\u001b[0m\u001b[0;34m]\u001b[0m\u001b[0;34m)\u001b[0m\u001b[0;34m\u001b[0m\u001b[0;34m\u001b[0m\u001b[0m\n\u001b[0m\u001b[1;32m     20\u001b[0m \u001b[0;34m\u001b[0m\u001b[0m\n\u001b[1;32m     21\u001b[0m \u001b[0;32mdef\u001b[0m \u001b[0mvisualize_sphere\u001b[0m\u001b[0;34m(\u001b[0m\u001b[0mcloud\u001b[0m\u001b[0;34m,\u001b[0m \u001b[0mndim\u001b[0m \u001b[0;34m=\u001b[0m \u001b[0;36m1\u001b[0m\u001b[0;34m)\u001b[0m\u001b[0;34m:\u001b[0m\u001b[0;34m\u001b[0m\u001b[0;34m\u001b[0m\u001b[0m\n",
      "\u001b[0;31mRuntimeError\u001b[0m: \u001b[1;31m[Open3D ERROR] GLFW Error: X11: The DISPLAY environment variable is missing\u001b[0;m"
     ]
    }
   ],
   "source": [
    "visualize_sphere(sem_cloud_features_old[0,:,:], 1)"
   ]
  }
 ],
 "metadata": {
  "kernelspec": {
   "display_name": "Python 3",
   "language": "python",
   "name": "python3"
  },
  "language_info": {
   "codemirror_mode": {
    "name": "ipython",
    "version": 3
   },
   "file_extension": ".py",
   "mimetype": "text/x-python",
   "name": "python",
   "nbconvert_exporter": "python",
   "pygments_lexer": "ipython3",
   "version": "3.6.7"
  }
 },
 "nbformat": 4,
 "nbformat_minor": 4
}
