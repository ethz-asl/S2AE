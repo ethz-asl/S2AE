{
 "cells": [
  {
   "cell_type": "markdown",
   "metadata": {},
   "source": [
    "# SPH Sampling"
   ]
  },
  {
   "cell_type": "code",
   "execution_count": 1,
   "metadata": {},
   "outputs": [],
   "source": [
    "from nuscenes.nuscenes import NuScenes\n",
    "from pyquaternion.quaternion import Quaternion\n",
    "from nuscenes.utils.geometry_utils import view_points, box_in_image, BoxVisibility, transform_matrix\n",
    "from nuscenes.utils.data_classes import PointCloud, LidarPointCloud, RadarPointCloud, Box\n",
    "import numpy as np\n",
    "import shutil\n",
    "from PIL import Image\n",
    "import os.path as osp\n",
    "import cv2\n",
    "import matplotlib.pyplot as plt\n",
    "import open3d as o3d\n",
    "from matplotlib import cm\n",
    "from sphere import Sphere\n",
    "from tqdm.auto import tqdm, trange\n",
    "from tqdm.contrib.concurrent import process_map, thread_map\n",
    "from functools import partial\n",
    "from dh_grid import DHGrid\n",
    "from sphere import Sphere\n",
    "from img_sphere import ImageSphere, ColorImageSphere\n",
    "from average_meter import AverageMeter\n",
    "import random\n",
    "import time\n",
    "\n",
    "%matplotlib inline\n",
    "%load_ext autoreload\n",
    "%autoreload 2"
   ]
  },
  {
   "cell_type": "code",
   "execution_count": 2,
   "metadata": {},
   "outputs": [
    {
     "name": "stdout",
     "output_type": "stream",
     "text": [
      "======\n",
      "Loading NuScenes tables for version v1.0-trainval...\n",
      "Loading nuScenes-lidarseg...\n",
      "32 category,\n",
      "8 attribute,\n",
      "4 visibility,\n",
      "64386 instance,\n",
      "12 sensor,\n",
      "10200 calibrated_sensor,\n",
      "2631083 ego_pose,\n",
      "68 log,\n",
      "850 scene,\n",
      "34149 sample,\n",
      "2631083 sample_data,\n",
      "1166187 sample_annotation,\n",
      "4 map,\n",
      "34149 lidarseg,\n",
      "Done loading in 90.723 seconds.\n",
      "======\n",
      "Reverse indexing ...\n",
      "Done reverse indexing in 7.1 seconds.\n",
      "======\n"
     ]
    }
   ],
   "source": [
    "# dataset_path = '/media/scratch/berlukas/nuscenes'\n",
    "# dataset_path = '/mnt/data/datasets/nuscenes/v1.0-mini/'\n",
    "dataset_path = '/media/berlukas/T7 Touch/data/nuscenes'\n",
    "nusc = NuScenes(version='v1.0-trainval', dataroot=dataset_path, verbose=True)\n",
    "# nusc = NuScenes(version='v1.0-mini', dataroot=dataset_path, verbose=True)\n",
    "all_cam_strings = ['CAM_FRONT','CAM_FRONT_RIGHT','CAM_BACK_RIGHT','CAM_BACK','CAM_BACK_LEFT','CAM_FRONT_LEFT']\n",
    "lidar_string = 'LIDAR_TOP'"
   ]
  },
  {
   "cell_type": "code",
   "execution_count": 3,
   "metadata": {},
   "outputs": [],
   "source": [
    "def CreateGrid(bw):\n",
    "    n_grid = 2 * bw\n",
    "    k = 0;\n",
    "    points = np.empty([2, n_grid, n_grid])\n",
    "    for i in range(n_grid):\n",
    "        for j in range(n_grid):\n",
    "            points[0, i, j] = (np.pi*(2*i+1))/(4*bw)\n",
    "            points[1, i, j] = (2*np.pi*j)/(2*bw);\n",
    "            k = k + 1;\n",
    "    return points\n",
    "\n",
    "def createGrid_old(bw):\n",
    "        n_grid = 2 * bw\n",
    "        k = 0;\n",
    "        points = np.empty([n_grid * n_grid, 2])\n",
    "        for i in range(n_grid):\n",
    "            for j in range(n_grid):\n",
    "                points[k, 0] = (np.pi*(2*i+1))/(4*bw)\n",
    "                points[k, 1] = (2*np.pi*j)/(2*bw);\n",
    "                k = k + 1;\n",
    "        return points\n",
    "\n",
    "def ConvertGridToEuclidean(grid):\n",
    "    cart_grid = np.zeros([3, grid.shape[1], grid.shape[2]])\n",
    "    cart_grid[0,:,:] = np.multiply(np.sin(grid[0, :,:]), np.cos(grid[1,:,:]))\n",
    "    cart_grid[1,:,:] = np.multiply(np.sin(grid[0, :, :]), np.sin(grid[1, :, :]))\n",
    "    cart_grid[2,:,:] = np.cos(grid[0, :, :])    \n",
    "    return cart_grid\n",
    "\n",
    "def convertGridToEuclidean_old(grid):\n",
    "    cart_grid = np.zeros([ grid.shape[0], 3])\n",
    "    cart_grid[:,0] = np.multiply(np.sin(grid[:,0]), np.cos(grid[:,1]))\n",
    "    cart_grid[:,1] = np.multiply(np.sin(grid[:,0]), np.sin(grid[:,1]))\n",
    "    cart_grid[:,2] = np.cos(grid[:,0])    \n",
    "    return cart_grid\n",
    "\n",
    "def rgb_to_greyscale(r,g,b):\n",
    "    return 0.2126*r + 0.7152*g + 0.0722*b\n",
    "#     return 0.3*r + 0.59*g + 0.11*b    \n",
    "\n",
    "def transform_from_pcl_to_cam(nusc, pointsensor, cam, pc):\n",
    "    # Points live in the point sensor frame. So they need to be transformed via global to the image plane.\n",
    "    # First step: transform the pointcloud to the ego vehicle frame for the timestamp of the sweep.\n",
    "    cs_record = nusc.get('calibrated_sensor', pointsensor['calibrated_sensor_token'])\n",
    "    pc.rotate(Quaternion(cs_record['rotation']).rotation_matrix)\n",
    "    pc.translate(np.array(cs_record['translation']))\n",
    "\n",
    "    # Second step: transform from ego to the global frame.\n",
    "    poserecord = nusc.get('ego_pose', pointsensor['ego_pose_token'])\n",
    "    pc.rotate(Quaternion(poserecord['rotation']).rotation_matrix)\n",
    "    pc.translate(np.array(poserecord['translation']))\n",
    "\n",
    "    # Third step: transform from global into the ego vehicle frame for the timestamp of the image.\n",
    "    poserecord = nusc.get('ego_pose', cam['ego_pose_token'])\n",
    "    pc.translate(-np.array(poserecord['translation']))\n",
    "    pc.rotate(Quaternion(poserecord['rotation']).rotation_matrix.T)\n",
    "\n",
    "    # Fourth step: transform from ego into the camera.\n",
    "    cs_record = nusc.get('calibrated_sensor', cam['calibrated_sensor_token'])\n",
    "    pc.translate(-np.array(cs_record['translation']))\n",
    "    pc.rotate(Quaternion(cs_record['rotation']).rotation_matrix.T)\n",
    "    \n",
    "    return pc\n",
    "\n",
    "def transform_from_cam_to_pcl(nusc, pointsensor, cam, pc):\n",
    "    # Transform from the camera into the vehicle's ego frame\n",
    "    cs_record = nusc.get('calibrated_sensor', cam['calibrated_sensor_token'])    \n",
    "    pc.rotate(Quaternion(cs_record['rotation']).rotation_matrix)\n",
    "    pc.translate(np.array(cs_record['translation']))\n",
    "    \n",
    "    # Transform from the ego frame (cam) to the global frame\n",
    "    poserecord = nusc.get('ego_pose', cam['ego_pose_token'])\n",
    "    pc.rotate(Quaternion(poserecord['rotation']).rotation_matrix)\n",
    "    pc.translate(np.array(poserecord['translation']))\n",
    "        \n",
    "    # Transform from the global frame to the ego frame of the LiDAR.\n",
    "    poserecord = nusc.get('ego_pose', pointsensor['ego_pose_token'])    \n",
    "    pc.translate(-np.array(poserecord['translation']))\n",
    "    pc.rotate(Quaternion(poserecord['rotation']).rotation_matrix.T)\n",
    "        \n",
    "    # Transform from the ego frame (LiDAR) to the LiDAR frame\n",
    "    cs_record = nusc.get('calibrated_sensor', pointsensor['calibrated_sensor_token'])    \n",
    "    pc.translate(-np.array(cs_record['translation']))\n",
    "    pc.rotate(Quaternion(cs_record['rotation']).rotation_matrix.T)\n",
    "    \n",
    "    return pc\n",
    "\n",
    "def project_pc_on_cam(pc, cam_intrinsics, depths, im):\n",
    "    # Take the actual picture (matrix multiplication with camera-matrix + renormalization).\n",
    "    points = view_points(pc.points[:3, :], cam_intrinsics, normalize=True)\n",
    "\n",
    "    # Remove points that are either outside or behind the camera. Leave a margin of 1 pixel for aesthetic reasons.\n",
    "    # Also make sure points are at least 1m in front of the camera to avoid seeing the lidar points on the camera\n",
    "    # casing for non-keyframes which are slightly out of sync.\n",
    "    min_dist = 0.0001\n",
    "    mask = np.ones(depths.shape[0], dtype=bool)\n",
    "    mask = np.logical_and(mask, depths < -1.0)\n",
    "    mask = np.logical_and(mask, points[0, :] > 1)\n",
    "    mask = np.logical_and(mask, points[0, :] < im.size[0] - 1)\n",
    "    mask = np.logical_and(mask, points[1, :] > 1)\n",
    "    mask = np.logical_and(mask, points[1, :] < im.size[1] - 1)\n",
    "    return points, mask\n",
    "\n",
    "def sample_mono_from_image(im, pc, mask, points):\n",
    "    n_mask = len(mask)\n",
    "        \n",
    "    for i in range(0,n_mask):    \n",
    "        visible = mask[i]\n",
    "        if not visible:\n",
    "            continue\n",
    "        cur_point = (points[0,i], points[1,i])    \n",
    "        px = im.getpixel(cur_point)    \n",
    "        intensity = rgb_to_greyscale(px[0], px[1], px[2])\n",
    "        pc.points[3,i] = intensity\n",
    "    return pc\n",
    "\n",
    "def sample_color_from_image(im, pc, mask, points):\n",
    "    n_mask = len(mask)    \n",
    "    \n",
    "    for i in range(0,n_mask):    \n",
    "        visible = mask[i]\n",
    "        if not visible:\n",
    "            continue\n",
    "        cur_point = (points[0,i], points[1,i])            \n",
    "        pc.points[3:6,i] = im.getpixel(cur_point)\n",
    "    return pc\n",
    "\n",
    "def prepare_for_viz(cloud):\n",
    "    pcd = o3d.geometry.PointCloud()\n",
    "    pcd.points = o3d.utility.Vector3dVector(cloud[:, 0:3])\n",
    "    if cloud.shape[1] == 4:\n",
    "        colors = mapIntensityToRGB(cloud[:, 3])\n",
    "        pcd.colors = o3d.utility.Vector3dVector(colors[:,0:3])\n",
    "    if cloud.shape[1] == 6:\n",
    "        pcd.colors = o3d.utility.Vector3dVector(cloud[:,3:6] / 255.0)\n",
    "    return pcd\n",
    "\n",
    "def visualize_pointcloud(cloud, jupyter = False):\n",
    "    pcd = prepare_for_viz(cloud)\n",
    "    \n",
    "    if jupyter:\n",
    "        self.__visualizeJupyter(pcd)\n",
    "    else:\n",
    "        o3d.visualization.draw_geometries([pcd])\n",
    "        \n",
    "def mapIntensityToRGB(i):\n",
    "    mask = np.where(i < 0)    \n",
    "    colors = cm.jet(plt.Normalize(min(i), max(i))(i))\n",
    "    colors[mask] = 0\n",
    "    return colors\n",
    "\n",
    "def write_pointcloud(cloud, filename):\n",
    "    pcd = prepare_for_viz(cloud)\n",
    "    o3d.io.write_point_cloud(filename, pcd)\n",
    "    \n",
    "def construct_transformation_matrix(R, t):\n",
    "    T = np.eye(4)\n",
    "    T[0:3, 0:3] = R\n",
    "    T[0:3, 3] = t\n",
    "    return T\n",
    "  \n",
    "class SamplingPointCloud(PointCloud):\n",
    "\n",
    "    @staticmethod\n",
    "    def nbr_dims() -> int:\n",
    "        \"\"\"\n",
    "        Returns the number of dimensions.\n",
    "        :return: Number of dimensions.\n",
    "        \"\"\"\n",
    "        return 4\n",
    "    \n",
    "    @classmethod\n",
    "    def from_file(cls, file_name: str) -> 'SamplingPointCloud':\n",
    "        return None\n",
    "    \n",
    "    @classmethod\n",
    "    def from_bw(cls, bw, scale = 100) -> 'SamplingPointCloud':\n",
    "        grid = createGrid_old(bw)\n",
    "        xyz_grid = convertGridToEuclidean_old(grid) * scale\n",
    "        intensities = np.zeros((xyz_grid.shape[0],1), dtype=xyz_grid.dtype)\n",
    "        sampling_grid = np.hstack((xyz_grid, intensities))\n",
    "        return cls(sampling_grid.T)\n",
    "    \n",
    "class ColorSamplingPointCloud(PointCloud):\n",
    "\n",
    "    @staticmethod\n",
    "    def nbr_dims() -> int:\n",
    "        \"\"\"\n",
    "        Returns the number of dimensions.\n",
    "        :return: Number of dimensions.\n",
    "        \"\"\"\n",
    "        return 6\n",
    "    \n",
    "    @classmethod\n",
    "    def from_file(cls, file_name: str) -> 'ColorSamplingPointCloud':\n",
    "        return None\n",
    "    \n",
    "    @classmethod\n",
    "    def from_bw(cls, bw, scale = 100) -> 'ColorSamplingPointCloud':\n",
    "        grid = createGrid_old(bw)\n",
    "        xyz_grid = convertGridToEuclidean_old(grid) * scale\n",
    "        rgb = np.zeros((xyz_grid.shape[0], 3), dtype=xyz_grid.dtype)\n",
    "        sampling_grid = np.hstack((xyz_grid, rgb))\n",
    "        return cls(sampling_grid.T)"
   ]
  },
  {
   "cell_type": "markdown",
   "metadata": {},
   "source": [
    "--------------------\n",
    "# Convert dataset to PLY"
   ]
  },
  {
   "cell_type": "code",
   "execution_count": 4,
   "metadata": {},
   "outputs": [],
   "source": [
    "export_ds = '/media/berlukas/Data2/datasets/nuscenes/processed/'\n",
    "# export_ds = '/media/scratch/berlukas/nuscenes'\n",
    "# export_images = export_ds + '/SPH_IMAGES/'\n",
    "# export_clouds = export_ds + '/SPH_CLOUDS/'\n",
    "poses_out = export_ds + '/poses.npy'\n",
    "\n",
    "bw = 120\n",
    "scale = 100"
   ]
  },
  {
   "cell_type": "code",
   "execution_count": 5,
   "metadata": {},
   "outputs": [
    {
     "name": "stdout",
     "output_type": "stream",
     "text": [
      "n_scenes = 850\n",
      "chunk 1 [0, 283]\n",
      "chunk 2 [283, 566]\n",
      "chunk 3 [566, 850]\n"
     ]
    }
   ],
   "source": [
    "n_scenes = len(nusc.scene)\n",
    "per_chunk = int(n_scenes / 3)\n",
    "\n",
    "chunk1_start = 0\n",
    "chunk1_end = per_chunk\n",
    "# chunk1_end = 10\n",
    "chunk2_start = chunk1_end\n",
    "chunk2_end = chunk2_start + per_chunk\n",
    "chunk3_start = chunk2_end\n",
    "chunk3_end = n_scenes\n",
    "\n",
    "print(f\"n_scenes = {n_scenes}\")\n",
    "print(f\"chunk 1 [{chunk1_start}, {chunk1_end}]\")\n",
    "print(f\"chunk 2 [{chunk2_start}, {chunk2_end}]\")\n",
    "print(f\"chunk 3 [{chunk3_start}, {chunk3_end}]\")"
   ]
  },
  {
   "cell_type": "markdown",
   "metadata": {},
   "source": [
    "## Retrieve the global LiDAR poses"
   ]
  },
  {
   "cell_type": "code",
   "execution_count": 12,
   "metadata": {},
   "outputs": [],
   "source": [
    "def get_global_lidar_pose_from_token(sample_token):\n",
    "    sample = nusc.get('sample', sample_token)\n",
    "    pointsensor = nusc.get('sample_data', sample['data'][lidar_string])\n",
    "    \n",
    "    cs_record = nusc.get('calibrated_sensor', pointsensor['calibrated_sensor_token'])\n",
    "    R = Quaternion(cs_record['rotation']).rotation_matrix\n",
    "    t = np.array(cs_record['translation'])\n",
    "    T_E_L = construct_transformation_matrix(R, t)\n",
    "\n",
    "    # Second step: transform from ego to the global frame.\n",
    "    poserecord = nusc.get('ego_pose', pointsensor['ego_pose_token'])\n",
    "    R = Quaternion(poserecord['rotation']).rotation_matrix\n",
    "    t = np.array(poserecord['translation'])\n",
    "    T_G_E = construct_transformation_matrix(R, t)\n",
    "         \n",
    "    # T_G_L\n",
    "    return np.matmul(T_G_E, T_E_L), sample['next']\n",
    "\n",
    "def visualize_poses(Ts):\n",
    "    n_poses = len(Ts)\n",
    "    xy = np.empty((2, n_poses))\n",
    "    for i in range(0, n_poses):\n",
    "        xy[0:2, i] = Ts[i][0:2, 3]\n",
    "    \n",
    "    plt.scatter(xy[0,:], xy[1,:])\n",
    "    plt.show()"
   ]
  },
  {
   "cell_type": "code",
   "execution_count": 15,
   "metadata": {},
   "outputs": [
    {
     "name": "stdout",
     "output_type": "stream",
     "text": [
      "Processing scenes from 0 to 120.\n"
     ]
    },
    {
     "data": {
      "application/vnd.jupyter.widget-view+json": {
       "model_id": "1206a65471af47b7967ebb31234e72ab",
       "version_major": 2,
       "version_minor": 0
      },
      "text/plain": [
       "HBox(children=(FloatProgress(value=0.0, max=120.0), HTML(value='')))"
      ]
     },
     "metadata": {},
     "output_type": "display_data"
    },
    {
     "name": "stdout",
     "output_type": "stream",
     "text": [
      "\n",
      "Loading complete. Found 4766 poses.\n"
     ]
    },
    {
     "data": {
      "image/png": "[encoded data removed]",
      "text/plain": [
       "<Figure size 432x288 with 1 Axes>"
      ]
     },
     "metadata": {
      "needs_background": "light"
     },
     "output_type": "display_data"
    },
    {
     "name": "stdout",
     "output_type": "stream",
     "text": [
      "Poses extraction complete.\n"
     ]
    }
   ],
   "source": [
    "start = chunk1_start\n",
    "end = chunk1_end\n",
    "\n",
    "print(f\"Processing scenes from {start} to {end}.\")\n",
    "\n",
    "all_poses = []\n",
    "all_scene_poses = [None] * n_scenes\n",
    "for i in tqdm(range(start, end)):\n",
    "    scene_poses = []\n",
    "    scene = nusc.scene[i]\n",
    "    first_sample_token = scene['first_sample_token']\n",
    "    pose_first, next_sample_token = get_global_lidar_pose_from_token(first_sample_token)\n",
    "    all_poses.append(pose_first)\n",
    "    scene_poses.append(pose_first)\n",
    "    \n",
    "    while next_sample_token != '':    \n",
    "        pose_next, next_sample_token = get_global_lidar_pose_from_token(next_sample_token)    \n",
    "        all_poses.append(pose_next)\n",
    "        scene_poses.append(pose_next)\n",
    "    all_scene_poses[i] = scene_poses    \n",
    "    \n",
    "print(f\"Loading complete. Found {len(all_poses)} poses.\")    \n",
    "visualize_poses(all_poses)\n",
    "np.save(poses_out, all_poses)\n",
    "print(f\"Poses extraction complete.\")"
   ]
  },
  {
   "cell_type": "markdown",
   "metadata": {},
   "source": [
    "## Convert the images to spherical data"
   ]
  },
  {
   "cell_type": "code",
   "execution_count": 17,
   "metadata": {},
   "outputs": [],
   "source": [
    "def progresser_images(sample, grid, auto_position=True, write_safe=False, blocking=True, progress=False):    \n",
    "    sample_sphere = ImageSphere(sample)\n",
    "    return sample_sphere.sampleUsingGrid(grid)\n",
    "\n",
    "def progresser_color_images(sample, grid, auto_position=True, write_safe=False, blocking=True, progress=False):    \n",
    "    sample_sphere = ColorImageSphere(sample)\n",
    "    return sample_sphere.sampleUsingGrid(grid)\n",
    "\n",
    "def get_sampled_image_sphere_from_token(sample_token):\n",
    "    sample = nusc.get('sample', sample_token)\n",
    "    pointsensor = nusc.get('sample_data', sample['data'][lidar_string])\n",
    "    pc = SamplingPointCloud.from_bw(bw, scale)\n",
    "\n",
    "    for cam_str in all_cam_strings:          \n",
    "        cam = nusc.get('sample_data', sample['data'][cam_str])\n",
    "        im = Image.open(osp.join(dataset_path, cam['filename']))        \n",
    "\n",
    "        # Transform pointcloud into the camera frame\n",
    "        pc = transform_from_pcl_to_cam(nusc, pointsensor, cam, pc)\n",
    "        # Grab the depths (camera frame z axis points away from the camera).\n",
    "        depths = pc.points[2, :]\n",
    "\n",
    "        # Project the points onto the image plane\n",
    "        cs_record = nusc.get('calibrated_sensor', cam['calibrated_sensor_token'])\n",
    "        intrinsics = np.array(cs_record['camera_intrinsic'])\n",
    "        points, mask = project_pc_on_cam(pc, intrinsics, depths, im)\n",
    "        filtered_points = points[:, mask]\n",
    "        \n",
    "        # Sample the intensity values from the image\n",
    "        # and transform back into the LiDAR frame.\n",
    "        pc = sample_mono_from_image(im, pc, mask, points) \n",
    "        pc = transform_from_cam_to_pcl(nusc, pointsensor, cam, pc) \n",
    "    \n",
    "    # Scale back to the original value but only use xyz.\n",
    "    cloud = pc.points.T\n",
    "    cloud[:,0:3] = cloud[:,0:3] / scale\n",
    "    \n",
    "    return cloud / scale, sample['next']\n",
    "\n",
    "def crop_image(im):\n",
    "    width, height = im.size   # Get dimensions\n",
    "\n",
    "    new_height = 562\n",
    "    new_width = 1000\n",
    "    left = (width - new_width)/2\n",
    "    top = (height - new_height)/2\n",
    "    right = (width + new_width)/2\n",
    "    bottom = (height + new_height)/2\n",
    "\n",
    "    # Crop the center of the image\n",
    "    return im.crop((left, top, right, bottom))\n",
    "\n",
    "def get_sampled_color_image_sphere_from_token(sample_token):\n",
    "    sample = nusc.get('sample', sample_token)\n",
    "    pointsensor = nusc.get('sample_data', sample['data'][lidar_string])\n",
    "    pc = ColorSamplingPointCloud.from_bw(bw, scale)\n",
    "\n",
    "    for cam_str in all_cam_strings:                  \n",
    "        cam = nusc.get('sample_data', sample['data'][cam_str])\n",
    "        im = Image.open(osp.join(dataset_path, cam['filename']))\n",
    "#         im.show()\n",
    "                \n",
    "        # Transform pointcloud into the camera frame\n",
    "        pc = transform_from_pcl_to_cam(nusc, pointsensor, cam, pc)\n",
    "        # Grab the depths (camera frame z axis points away from the camera).\n",
    "        depths = pc.points[2, :]\n",
    "\n",
    "        # Project the points onto the image plane\n",
    "        cs_record = nusc.get('calibrated_sensor', cam['calibrated_sensor_token'])\n",
    "        intrinsics = np.array(cs_record['camera_intrinsic'])\n",
    "        points, mask = project_pc_on_cam(pc, intrinsics, depths, im)\n",
    "        filtered_points = points[:, mask]\n",
    "        \n",
    "        # Sample the intensity values from the image\n",
    "        # and transform back into the LiDAR frame.\n",
    "        pc = sample_color_from_image(im, pc, mask, points) \n",
    "        pc = transform_from_cam_to_pcl(nusc, pointsensor, cam, pc) \n",
    "    \n",
    "    # Scale back to the original value but only use xyz.\n",
    "    cloud = pc.points.T\n",
    "    cloud[:,0:3] = cloud[:,0:3] / scale\n",
    "    return cloud, sample['next']\n",
    "\n",
    "def get_calib(sample_token):\n",
    "    sample = nusc.get('sample', sample_token)\n",
    "    pointsensor = nusc.get('sample_data', sample['data'][lidar_string])    \n",
    "\n",
    "    all_cams = {}\n",
    "    for cam_str in all_cam_strings:                  \n",
    "        cam = nusc.get('sample_data', sample['data'][cam_str])\n",
    "        all_cams[cam_str] = cam\n",
    "    return pointsensor, all_cams\n",
    "\n",
    "def get_sampled_color_image_sphere_from_token_with_calib(sample_token, lidar_sensor, all_cams):\n",
    "    sample = nusc.get('sample', sample_token)\n",
    "    pointsensor = nusc.get('sample_data', sample['data'][lidar_string])\n",
    "    pc = ColorSamplingPointCloud.from_bw(bw, scale)\n",
    "\n",
    "    for cam_str in all_cam_strings:                  \n",
    "        cam = nusc.get('sample_data', sample['data'][cam_str])\n",
    "        im = Image.open(osp.join(dataset_path, cam['filename']))\n",
    "                \n",
    "        # Transform pointcloud into the camera frame\n",
    "        pc = transform_from_pcl_to_cam(nusc, lidar_sensor, all_cams[cam_str], pc)\n",
    "        # Grab the depths (camera frame z axis points away from the camera).\n",
    "        depths = pc.points[2, :]\n",
    "\n",
    "        # Project the points onto the image plane\n",
    "        cs_record = nusc.get('calibrated_sensor', cam['calibrated_sensor_token'])\n",
    "        intrinsics = np.array(cs_record['camera_intrinsic'])\n",
    "        points, mask = project_pc_on_cam(pc, intrinsics, depths, im)\n",
    "        filtered_points = points[:, mask]\n",
    "        \n",
    "        # Sample the intensity values from the image\n",
    "        # and transform back into the LiDAR frame.\n",
    "        pc = sample_color_from_image(im, pc, mask, points) \n",
    "        pc = transform_from_cam_to_pcl(nusc, lidar_sensor, all_cams[cam_str], pc) \n",
    "    \n",
    "    # Scale back to the original value but only use xyz.\n",
    "    cloud = pc.points.T\n",
    "    cloud[:,0:3] = cloud[:,0:3] / scale\n",
    "    return cloud, sample['next']"
   ]
  },
  {
   "cell_type": "code",
   "execution_count": null,
   "metadata": {},
   "outputs": [],
   "source": [
    "start = chunk1_start\n",
    "end = chunk1_end\n",
    "\n",
    "print(f\"Processing scenes from {start} to {end}.\")\n",
    "\n",
    "all_sph_images = []\n",
    "for i in tqdm(range(start, end)):    \n",
    "    scene = nusc.scene[i]\n",
    "    first_sample_token = scene['first_sample_token']\n",
    "    pc, next_sample_token = get_sampled_image_sphere_from_token(first_sample_token)        \n",
    "    all_sph_images.append(pc)    \n",
    "    \n",
    "    while next_sample_token != '':    \n",
    "        pc, next_sample_token = get_sampled_image_sphere_from_token(next_sample_token)    \n",
    "        all_sph_images.append(pc)\n",
    "    \n",
    "print(f\"Loading complete. Found {len(all_sph_images)} images.\")\n",
    "print(f\"Computing features now...\")    \n",
    "grid, _ = DHGrid.CreateGrid(bw)\n",
    "img_features = process_map(partial(progresser_images, grid=grid), all_sph_images, max_workers=8)\n",
    "\n",
    "filename = f\"{export_ds}/images.npy\"\n",
    "np.save(filename, img_features)\n",
    "print(f\"Wrote sph mono image features to {filename}.\")"
   ]
  },
  {
   "cell_type": "code",
   "execution_count": 21,
   "metadata": {},
   "outputs": [
    {
     "name": "stdout",
     "output_type": "stream",
     "text": [
      "Processing scenes from 283 to 293.\n"
     ]
    },
    {
     "data": {
      "application/vnd.jupyter.widget-view+json": {
       "model_id": "38a5690ba1bf4583b88991599e1ac13a",
       "version_major": 2,
       "version_minor": 0
      },
      "text/plain": [
       "  0%|          | 0/10 [00:00<?, ?it/s]"
      ]
     },
     "metadata": {},
     "output_type": "display_data"
    },
    {
     "name": "stdout",
     "output_type": "stream",
     "text": [
      "Loading complete. Found 401 images.\n",
      "It took 151.14681679590086 ms.\n",
      "Computing features now...\n"
     ]
    },
    {
     "data": {
      "application/vnd.jupyter.widget-view+json": {
       "model_id": "d8654f256f1f4acea215c9d7d53313ad",
       "version_major": 2,
       "version_minor": 0
      },
      "text/plain": [
       "  0%|          | 0/401 [00:00<?, ?it/s]"
      ]
     },
     "metadata": {},
     "output_type": "display_data"
    },
    {
     "name": "stdout",
     "output_type": "stream",
     "text": [
      "It took 225.83812258903524 ms.\n"
     ]
    }
   ],
   "source": [
    "## start = chunk1_start\n",
    "start = chunk2_start\n",
    "end = chunk2_start+10\n",
    "\n",
    "print(f\"Processing scenes from {start} to {end}.\")\n",
    "scale = 123\n",
    "all_color_sph_images = []\n",
    "runtime = 0\n",
    "for i in tqdm(range(start, end)):    \n",
    "    scene = nusc.scene[i]\n",
    "    first_sample_token = scene['first_sample_token']\n",
    "    lidar_sensor, all_cams = get_calib(first_sample_token)\n",
    "    \n",
    "    pc, next_sample_token = get_sampled_color_image_sphere_from_token(first_sample_token)        \n",
    "    all_color_sph_images.append(pc)    \n",
    "    \n",
    "    while next_sample_token != '':    \n",
    "#         pc, next_sample_token = get_sampled_color_image_sphere_from_token_with_calib(next_sample_token, lidar_sensor, all_cams)    \n",
    "        start_time = time.time() * 1000\n",
    "        pc, next_sample_token = get_sampled_color_image_sphere_from_token(next_sample_token)    \n",
    "        executionTime = (time.time() * 1000 - start_time)\n",
    "        runtime = runtime + executionTime\n",
    "        all_color_sph_images.append(pc)\n",
    "    \n",
    "print(f\"Loading complete. Found {len(all_color_sph_images)} images.\")\n",
    "print(f\"It took {runtime / len(all_color_sph_images)} ms.\")\n",
    "print(f\"Computing features now...\")\n",
    "grid, _ = DHGrid.CreateGrid(bw)\n",
    "\n",
    "start_time = time.time() * 1000\n",
    "color_img_features = process_map(partial(progresser_color_images, grid=grid), all_color_sph_images, max_workers=8, chunksize=100)\n",
    "executionTime = (time.time() * 1000 - start_time)\n",
    "print(f\"It took {executionTime / len(all_color_sph_images)} ms.\")\n",
    "\n",
    "# filename = f\"{export_ds}/color_images_test.npy\"\n",
    "# np.save(filename, color_img_features)\n",
    "# print(f\"Wrote sph color image features to {filename}.\")"
   ]
  },
  {
   "cell_type": "code",
   "execution_count": 10,
   "metadata": {},
   "outputs": [],
   "source": [
    "i=0\n",
    "cur_color_image = color_img_features[i]\n",
    "cur_color_image = np.reshape(cur_color_image, (3, -1)).T\n",
    "pc = SamplingPointCloud.from_bw(bw, 1)\n",
    "points_xyz = pc.points.T[:,0:3]\n",
    "points_xyzrgb = np.column_stack((points_xyz, cur_color_image[:, 0:3]))\n",
    "visualize_pointcloud(points_xyzrgb)"
   ]
  },
  {
   "cell_type": "markdown",
   "metadata": {},
   "source": [
    "## Convert the pointclouds to spherical data"
   ]
  },
  {
   "cell_type": "code",
   "execution_count": 6,
   "metadata": {},
   "outputs": [],
   "source": [
    "def progresser_lidar(sample, grid, auto_position=True, write_safe=False, blocking=True, progress=False):    \n",
    "    sample_sphere = Sphere(sample)\n",
    "    return sample_sphere.sampleUsingGrid(grid, True)\n",
    "\n",
    "def writeRawPointCloud(cloud, filename):\n",
    "    pcd = o3d.geometry.PointCloud()\n",
    "    pcd.points = o3d.utility.Vector3dVector(cloud[:, 0:3])\n",
    "    colors = mapIntensityToRGB(cloud[:, 3])\n",
    "    pcd.colors = o3d.utility.Vector3dVector(colors[:,0:3])\n",
    "    o3d.io.write_point_cloud(filename, pcd)\n",
    "    \n",
    "def get_data_from_token(sample_token):\n",
    "    sample = nusc.get('sample', sample_token)\n",
    "    pointsensor = nusc.get('sample_data', sample['data'][lidar_string])\n",
    "    # Load a single lidar point cloud.\n",
    "    pcl_path = osp.join(dataset_path, pointsensor['filename'])\n",
    "    pc = LidarPointCloud.from_file(pcl_path)    \n",
    "    return pc.points.T, sample['next']"
   ]
  },
  {
   "cell_type": "code",
   "execution_count": 7,
   "metadata": {},
   "outputs": [],
   "source": [
    "def get_semantic_point_cloud_from_token(sample_token):\n",
    "    sample = nusc.get('sample', sample_token)\n",
    "    pointsensor = nusc.get('sample_data', sample['data'][lidar_string])\n",
    "    # Load a single lidar point cloud.\n",
    "    pcl_path = osp.join(dataset_path, pointsensor['filename'])\n",
    "    pc = LidarPointCloud.from_file(pcl_path)\n",
    "    points_xyzi = pc.points.T\n",
    "    \n",
    "    # Load the semantic segmentation.\n",
    "    sample_data_token = sample['data'][lidar_string]\n",
    "    lidarseg_labels_filename = osp.join(nusc.dataroot, nusc.get('lidarseg', sample_data_token)['filename'])\n",
    "    points_label = np.fromfile(lidarseg_labels_filename, dtype=np.uint8)  # [num_points]\n",
    "\n",
    "    # Combine the two.\n",
    "    return np.column_stack((points_xyzi, points_label)), sample['next']\n",
    "\n",
    "def combine_pointclouds(pointclouds, poses):\n",
    "    n_data = len(poses)    \n",
    "    pivot = n_data // 2  \n",
    "    T_G_L_pivot = poses[pivot]\n",
    "    T_L_pivot_G = np.linalg.inv(T_G_L_pivot)\n",
    "\n",
    "    acc_points = pointclouds[pivot]\n",
    "    for i in range(0, n_data):\n",
    "        if i == pivot:\n",
    "            continue\n",
    "        T_G_L = poses[i]\n",
    "        T_L_pivot_L = T_L_pivot_G @ T_G_L\n",
    "\n",
    "        points = Utils.transform_pointcloud(pointclouds[i], T_L_pivot_L)\n",
    "        acc_points = np.append(acc_points, points, axis=0)\n",
    "                        \n",
    "    return acc_points, pivot\n",
    "\n",
    "def combine_every_nth_point_cloud(pointclouds, poses, n=3):\n",
    "    n_poses = len(poses)    \n",
    "    \n",
    "    # Generate combinations.\n",
    "    combined = []\n",
    "    pivot_indices = []\n",
    "    for i in range(0, n_poses, 1):\n",
    "        if i+3 >= n_poses:\n",
    "            break\n",
    "            \n",
    "        indices = np.arange(i, i+3, 1)        \n",
    "        local_clouds = []\n",
    "        local_poses = []\n",
    "        for idx in indices:        \n",
    "            local_clouds.append(pointclouds[idx])\n",
    "            local_poses.append(poses[idx])\n",
    "        acc_points, pivot = combine_pointclouds(local_clouds, local_poses)\n",
    "        combined.append(acc_points)\n",
    "        pivot_indices.append(indices[pivot])\n",
    "    return combined, pivot_indices"
   ]
  },
  {
   "cell_type": "code",
   "execution_count": 8,
   "metadata": {},
   "outputs": [
    {
     "name": "stdout",
     "output_type": "stream",
     "text": [
      "Processing scenes from 0 to 283.\n"
     ]
    },
    {
     "data": {
      "application/vnd.jupyter.widget-view+json": {
       "model_id": "456c3d386db0453ab51db0f95137de9a",
       "version_major": 2,
       "version_minor": 0
      },
      "text/plain": [
       "  0%|          | 0/283 [00:00<?, ?it/s]"
      ]
     },
     "metadata": {},
     "output_type": "display_data"
    },
    {
     "name": "stdout",
     "output_type": "stream",
     "text": [
      "Loading complete. Found 11230 clouds.\n",
      "Computing features...\n"
     ]
    },
    {
     "data": {
      "application/vnd.jupyter.widget-view+json": {
       "model_id": "7ce87f4a934e46cdabbf44c933a45fb9",
       "version_major": 2,
       "version_minor": 0
      },
      "text/plain": [
       "  0%|          | 0/11230 [00:00<?, ?it/s]"
      ]
     },
     "metadata": {},
     "output_type": "display_data"
    },
    {
     "name": "stdout",
     "output_type": "stream",
     "text": [
      "It took 116.40371095924004 ms.\n"
     ]
    }
   ],
   "source": [
    "start = chunk1_start\n",
    "end = chunk1_end\n",
    "\n",
    "# start = n_scenes-10\n",
    "# end = n_scenes\n",
    "\n",
    "print(f\"Processing scenes from {start} to {end}.\")\n",
    "\n",
    "all_sem_clouds = []\n",
    "for i in tqdm(range(start, end)):\n",
    "    scene_clouds = []\n",
    "    scene = nusc.scene[i]\n",
    "    first_sample_token = scene['first_sample_token']\n",
    "    pc, next_sample_token = get_semantic_point_cloud_from_token(first_sample_token)\n",
    "    all_sem_clouds.append(pc)\n",
    "    \n",
    "    while next_sample_token != '':            \n",
    "        pc, next_sample_token = get_semantic_point_cloud_from_token(next_sample_token)        \n",
    "        all_sem_clouds.append(pc)   \n",
    "\n",
    "# This is the code for combining/accumulating multiple clouds to one pointcloud\n",
    "# all_pivots = []\n",
    "# for i in tqdm(range(start, end)):\n",
    "#     scene_clouds = []\n",
    "#     scene = nusc.scene[i]\n",
    "#     first_sample_token = scene['first_sample_token']\n",
    "#     pc, next_sample_token = get_semantic_point_cloud_from_token(first_sample_token)\n",
    "#     scene_clouds.append(pc)\n",
    "    \n",
    "#     while next_sample_token != '':    \n",
    "#         pc, next_sample_token = get_semantic_point_cloud_from_token(next_sample_token)    \n",
    "#         scene_clouds.append(pc)   \n",
    "    \n",
    "#     combined_clouds, pivot_indices = combine_every_nth_point_cloud(scene_clouds, all_scene_poses[i], 3)\n",
    "#     all_sem_clouds.append(combined_clouds)\n",
    "#     all_pivots.append(pivot_indices)\n",
    "\n",
    "print(f\"Loading complete. Found {len(all_sem_clouds)} clouds.\")    \n",
    "print(f\"Computing features...\")    \n",
    "grid, _ = DHGrid.CreateGrid(bw)\n",
    "\n",
    "start_time = time.time() * 1000\n",
    "sem_features = process_map(partial(progresser_lidar, grid=grid), all_sem_clouds, max_workers=8, chunksize=100)\n",
    "executionTime = (time.time() * 1000 - start_time)\n",
    "print(f\"It took {executionTime / len(all_sem_clouds)} ms.\")\n",
    "\n",
    "# filename = f\"{export_ds}/clouds1.npy\"\n",
    "# np.save(filename, sem_features)\n",
    "# print(f\"Wrote sph cloud features to {filename}.\")"
   ]
  },
  {
   "cell_type": "code",
   "execution_count": 14,
   "metadata": {},
   "outputs": [
    {
     "data": {
      "text/plain": [
       "(2, 240, 240)"
      ]
     },
     "execution_count": 14,
     "metadata": {},
     "output_type": "execute_result"
    }
   ],
   "source": [
    "# print(f\"It took {executionTime / len(all_sem_clouds)} ms.\")\n",
    "n_features = len(sem_features)\n",
    "for i in range(n_features):\n",
    "  sem_features[i] = sem_features[i][[0, 2],:,:]"
   ]
  },
  {
   "cell_type": "code",
   "execution_count": 9,
   "metadata": {},
   "outputs": [
    {
     "name": "stdout",
     "output_type": "stream",
     "text": [
      "[[-0.44698834 -0.32775307 -0.28538856  1.         31.        ]\n",
      " [-3.2120266  -0.18916991 -1.8257709  10.         24.        ]]\n",
      "[[-2.7298481  -0.12322364 -1.617994   27.         27.        ]\n",
      " [-2.848908   -0.12197054 -1.5995693  29.         27.        ]]\n"
     ]
    }
   ],
   "source": [
    "print(all_sem_clouds[0][0:2])\n",
    "np.random.shuffle(all_sem_clouds)\n",
    "print(all_sem_clouds[0][0:2])"
   ]
  },
  {
   "cell_type": "code",
   "execution_count": 10,
   "metadata": {},
   "outputs": [],
   "source": [
    "n_scans = len(all_sem_clouds)\n",
    "n_scans = 1000\n",
    "for i in range(0, n_scans):\n",
    "    filename = f\"{export_ds}/raw/10/scan{i}.npy\"\n",
    "    np.save(filename, all_sem_clouds[i])"
   ]
  },
  {
   "cell_type": "code",
   "execution_count": 12,
   "metadata": {},
   "outputs": [],
   "source": [
    "i = 4110\n",
    "cur_sem_cloud = sem_features[i]\n",
    "cur_sem_cloud = np.reshape(cur_sem_cloud, (3, -1)).T\n",
    "\n",
    "pc = SamplingPointCloud.from_bw(bw, 1)\n",
    "points_xyz = pc.points.T[:,0:3]\n",
    "points_xyzi = np.column_stack((points_xyz, cur_sem_cloud[:,0]))\n",
    "points_xyzl = np.column_stack((points_xyz, cur_sem_cloud[:, 2]))\n",
    "\n",
    "visualize_pointcloud(points_xyzi)"
   ]
  },
  {
   "cell_type": "code",
   "execution_count": 13,
   "metadata": {},
   "outputs": [],
   "source": [
    "i = 21\n",
    "cur_sem_cloud = sem_features[i]\n",
    "# cur_image = img_features[i]\n",
    "cur_color_image = color_img_features[i]\n",
    "\n",
    "cur_sem_cloud = np.reshape(cur_sem_cloud, (3, -1)).T\n",
    "# cur_image = np.reshape(cur_image, (1, -1)).T\n",
    "cur_color_image = np.reshape(cur_color_image, (3, -1)).T\n",
    "\n",
    "\n",
    "pc = SamplingPointCloud.from_bw(bw, 1)\n",
    "points_xyz = pc.points.T[:,0:3]\n",
    "points_xyzi = np.column_stack((points_xyz, cur_sem_cloud[:,2]))\n",
    "# points_xyzp = np.column_stack((points_xyz, cur_image))\n",
    "points_xyzl = np.column_stack((points_xyz, cur_sem_cloud[:, 2]))\n",
    "points_xyzrgb = np.column_stack((points_xyz, cur_color_image[:, 0:3]))\n",
    "\n",
    "visualize_pointcloud(points_xyzi)\n",
    "# visualize_pointcloud(points_xyzp)\n",
    "# visualize_pointcloud(points_xyzl)\n",
    "visualize_pointcloud(points_xyzrgb)\n",
    "# visualize_on_top(points_xyzrgb, points_xyzi)"
   ]
  },
  {
   "cell_type": "code",
   "execution_count": 74,
   "metadata": {},
   "outputs": [],
   "source": [
    "# Write pointclouds\n",
    "write_pointcloud(points_xyzrgb, '/tmp/sph_image.pcd')\n",
    "write_pointcloud(points_xyzi, '/tmp/sph_cloud.pcd')"
   ]
  },
  {
   "cell_type": "markdown",
   "metadata": {},
   "source": [
    "# Validation Set Count"
   ]
  },
  {
   "cell_type": "code",
   "execution_count": 8,
   "metadata": {},
   "outputs": [
    {
     "name": "stdout",
     "output_type": "stream",
     "text": [
      "Processing scenes from 700 to 850.\n"
     ]
    },
    {
     "data": {
      "application/vnd.jupyter.widget-view+json": {
       "model_id": "45971b9790514d33806c8c6461c27acc",
       "version_major": 2,
       "version_minor": 0
      },
      "text/plain": [
       "HBox(children=(FloatProgress(value=0.0, max=150.0), HTML(value='')))"
      ]
     },
     "metadata": {},
     "output_type": "display_data"
    },
    {
     "name": "stdout",
     "output_type": "stream",
     "text": [
      "\n",
      "We have 6053 clouds in the validation set.\n"
     ]
    }
   ],
   "source": [
    "def get_next_token(sample_token):\n",
    "    sample = nusc.get('sample', sample_token)    \n",
    "    return sample['next']\n",
    "\n",
    "\n",
    "start = 700\n",
    "end = 850\n",
    "\n",
    "print(f\"Processing scenes from {start} to {end}.\")\n",
    "\n",
    "n_clouds = 0\n",
    "for i in tqdm(range(start, end)):\n",
    "    scene_clouds = []\n",
    "    scene = nusc.scene[i]\n",
    "    first_sample_token = scene['first_sample_token']\n",
    "    next_sample_token = get_next_token(first_sample_token)\n",
    "    n_clouds = n_clouds + 1\n",
    "    \n",
    "    while next_sample_token != '':    \n",
    "        next_sample_token = get_next_token(next_sample_token)    \n",
    "        n_clouds = n_clouds + 1\n",
    "        \n",
    "print(f'We have {n_clouds} clouds in the validation set.')"
   ]
  }
 ],
 "metadata": {
  "kernelspec": {
   "display_name": "Python 3 (ipykernel)",
   "language": "python",
   "name": "python3"
  },
  "language_info": {
   "codemirror_mode": {
    "name": "ipython",
    "version": 3
   },
   "file_extension": ".py",
   "mimetype": "text/x-python",
   "name": "python",
   "nbconvert_exporter": "python",
   "pygments_lexer": "ipython3",
   "version": "3.7.5"
  },
  "vscode": {
   "interpreter": {
    "hash": "31f2aee4e71d21fbe5cf8b01ff0e069b9275f58929596ceb00d14d90e3e16cd6"
   }
  }
 },
 "nbformat": 4,
 "nbformat_minor": 4
}
