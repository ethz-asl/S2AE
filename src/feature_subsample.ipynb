{
 "cells": [
  {
   "cell_type": "markdown",
   "metadata": {},
   "source": [
    "# Feature Sub-Sampling "
   ]
  },
  {
   "cell_type": "code",
   "execution_count": 1,
   "metadata": {},
   "outputs": [],
   "source": [
    "from tqdm.auto import tqdm\n",
    "from dh_grid import DHGrid\n",
    "from sub_sampler import SubSampler\n",
    "from matplotlib import cm\n",
    "\n",
    "import matplotlib.pyplot as plt\n",
    "import open3d as o3d\n",
    "import numpy as np\n",
    "\n",
    "%matplotlib inline\n",
    "%load_ext autoreload\n",
    "%autoreload 2"
   ]
  },
  {
   "cell_type": "code",
   "execution_count": 2,
   "metadata": {},
   "outputs": [],
   "source": [
    "export_ds = '/mnt/data/datasets/nuscenes/processed'\n",
    "cloud_filename = f\"{export_ds}/clouds.npy\"\n",
    "cloud_features = np.load(cloud_filename)"
   ]
  },
  {
   "cell_type": "code",
   "execution_count": 3,
   "metadata": {},
   "outputs": [
    {
     "name": "stdout",
     "output_type": "stream",
     "text": [
      "Shape of clouds is (10, 3, 400, 400).\n"
     ]
    }
   ],
   "source": [
    "n_process = 10\n",
    "cloud_features = cloud_features[0:n_process, :, :, :]\n",
    "print(f\"Shape of clouds is {cloud_features.shape}.\")"
   ]
  },
  {
   "cell_type": "code",
   "execution_count": 4,
   "metadata": {},
   "outputs": [
    {
     "data": {
      "application/vnd.jupyter.widget-view+json": {
       "model_id": "b5b7615ee4254c35a8ec9e7f2a20790c",
       "version_major": 2,
       "version_minor": 0
      },
      "text/plain": [
       "HBox(children=(FloatProgress(value=0.0, max=10.0), HTML(value='')))"
      ]
     },
     "metadata": {},
     "output_type": "display_data"
    },
    {
     "name": "stdout",
     "output_type": "stream",
     "text": [
      "\n",
      "Shape of the subsampled clouds is (10, 3, 200, 200).\n"
     ]
    }
   ],
   "source": [
    "lf_bw = 100\n",
    "sampler = SubSampler(cloud_features, lf_bw)\n",
    "sampled_cloud_features = sampler.compute_output_data()\n",
    "print(f\"Shape of the subsampled clouds is {sampled_cloud_features.shape}.\")"
   ]
  },
  {
   "cell_type": "code",
   "execution_count": 5,
   "metadata": {},
   "outputs": [],
   "source": [
    "def mapIntensityToRGB(i):\n",
    "    mask = np.where(i < 0)    \n",
    "    colors = cm.jet(plt.Normalize(min(i), max(i))(i))\n",
    "    colors[mask] = 0\n",
    "    return colors\n",
    "\n",
    "def prepare_for_viz(cloud):\n",
    "    pcd = o3d.geometry.PointCloud()\n",
    "    pcd.points = o3d.utility.Vector3dVector(cloud[:, 0:3])\n",
    "    if cloud.shape[1] == 4:\n",
    "        colors = mapIntensityToRGB(cloud[:, 3])\n",
    "        pcd.colors = o3d.utility.Vector3dVector(colors[:,0:3])\n",
    "    if cloud.shape[1] == 6:\n",
    "        pcd.colors = o3d.utility.Vector3dVector(cloud[:,3:6] / 255.0)\n",
    "    return pcd\n",
    "\n",
    "def visualize_pointcloud(cloud):\n",
    "    pcd = prepare_for_viz(cloud)        \n",
    "    o3d.visualization.draw_geometries([pcd])\n",
    "    \n",
    "def visualize_sphere(cloud, points):    \n",
    "    cur_sem_cloud = np.reshape(cloud, (3, -1)).T\n",
    "    points_xyz = DHGrid.ConvertPointsToEuclidean(points)        \n",
    "    points_xyzi = np.column_stack((points_xyz, cur_sem_cloud[:,0]))\n",
    "    visualize_pointcloud(points_xyzi)"
   ]
  },
  {
   "cell_type": "code",
   "execution_count": 8,
   "metadata": {},
   "outputs": [],
   "source": [
    "hf_bw = int(cloud_features.shape[3] / 2)\n",
    "_, hf_points = grid, points = DHGrid.CreateGrid(hf_bw)\n",
    "visualize_sphere(cloud_features[0,:,:,:], hf_points)"
   ]
  },
  {
   "cell_type": "code",
   "execution_count": 7,
   "metadata": {},
   "outputs": [],
   "source": [
    "_, lf_points = grid, points = DHGrid.CreateGrid(lf_bw)\n",
    "visualize_sphere(sampled_cloud_features[0,:,:,:], lf_points)"
   ]
  }
 ],
 "metadata": {
  "kernelspec": {
   "display_name": "Python 3",
   "language": "python",
   "name": "python3"
  },
  "language_info": {
   "codemirror_mode": {
    "name": "ipython",
    "version": 3
   },
   "file_extension": ".py",
   "mimetype": "text/x-python",
   "name": "python",
   "nbconvert_exporter": "python",
   "pygments_lexer": "ipython3",
   "version": "3.6.9"
  }
 },
 "nbformat": 4,
 "nbformat_minor": 4
}
