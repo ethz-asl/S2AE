{
 "cells": [
  {
   "cell_type": "markdown",
   "metadata": {},
   "source": [
    "# Class Weight Compution"
   ]
  },
  {
   "cell_type": "code",
   "execution_count": 1,
   "metadata": {},
   "outputs": [],
   "source": [
    "import math\n",
    "import sys\n",
    "\n",
    "import matplotlib.pyplot as plt\n",
    "import numpy as np\n",
    "    \n",
    "%matplotlib inline\n",
    "%load_ext autoreload\n",
    "%autoreload 2"
   ]
  },
  {
   "cell_type": "code",
   "execution_count": 2,
   "metadata": {},
   "outputs": [
    {
     "name": "stdout",
     "output_type": "stream",
     "text": [
      "Loading sem clouds from /mnt/data/datasets/nuscenes/processed/sem_clouds1_16.npy\n",
      "Shape of sem clouds is (11230, 3, 200, 200)\n"
     ]
    }
   ],
   "source": [
    "export_ds = '/mnt/data/datasets/nuscenes/processed'\n",
    "# export_ds = '/media/scratch/berlukas/nuscenes'\n",
    "\n",
    "# sem_clouds_filename = f\"{export_ds}/sem_bkp/sem_classes_gt1.npy\"\n",
    "sem_clouds_filename = f\"{export_ds}/sem_clouds1_16.npy\"\n",
    "\n",
    "print(f\"Loading sem clouds from {sem_clouds_filename}\")\n",
    "sem_cloud_features = np.load(sem_clouds_filename).astype(int)\n",
    "print(f\"Shape of sem clouds is {sem_cloud_features.shape}\")"
   ]
  },
  {
   "cell_type": "code",
   "execution_count": null,
   "metadata": {},
   "outputs": [],
   "source": [
    "n_classes = 9\n",
    "class_counts = [0] * n_classes\n",
    "for cl in range(0, n_classes): \n",
    "    print(f'Computing occurrences for {cl}')\n",
    "    class_counts[cl] = np.count_nonzero(sem_cloud_features[:,:,:,:] == cl)    "
   ]
  },
  {
   "cell_type": "code",
   "execution_count": 5,
   "metadata": {},
   "outputs": [
    {
     "name": "stdout",
     "output_type": "stream",
     "text": [
      "Computing occurrences for 0\n",
      "Computing occurrences for 1\n",
      "Computing occurrences for 2\n",
      "Computing occurrences for 3\n",
      "Computing occurrences for 4\n",
      "Computing occurrences for 5\n",
      "Computing occurrences for 6\n",
      "Computing occurrences for 7\n",
      "Computing occurrences for 8\n",
      "Computing occurrences for 9\n",
      "Computing occurrences for 10\n",
      "Computing occurrences for 11\n",
      "Computing occurrences for 12\n",
      "Computing occurrences for 13\n",
      "Computing occurrences for 14\n",
      "Computing occurrences for 15\n",
      "Computing occurrences for 16\n"
     ]
    }
   ],
   "source": [
    "n_classes = 17\n",
    "class_counts = [0] * n_classes\n",
    "for cl in range(0, n_classes): \n",
    "    print(f'Computing occurrences for {cl}')\n",
    "    class_counts[cl] = np.count_nonzero(sem_cloud_features[:,:,:,:] == cl)    "
   ]
  },
  {
   "cell_type": "code",
   "execution_count": 4,
   "metadata": {},
   "outputs": [
    {
     "name": "stdout",
     "output_type": "stream",
     "text": [
      "Counts are \n",
      "[335625162, 14965827, 8374223, 14809519, 56393056, 31147569, 29217096, 9328192, 28645142]\n",
      "Should sum to one: True\n",
      "\n",
      "Rates are\n",
      "====================\n",
      "\n",
      "Background: 0.6350453881312853\n",
      "Vehicle: 0.028317243436952647\n",
      "Living: 0.015845092375204383\n",
      "Objects: 0.028021488869754776\n",
      "Ground: 0.10670281668401639\n",
      "Buildings: 0.058935152320167786\n",
      "Vegetation: 0.055282452480094516\n",
      "Other: 0.017650122755704323\n",
      "Ego: 0.05420024294681989\n",
      "\n",
      "Weights are\n",
      "====================\n",
      "\n",
      "Background: 0.04561932648358934\n",
      "Vehicle: 0.12146034457038092\n",
      "Person: 0.12301936345309945\n",
      "Objects: 0.12149731389128066\n",
      "Ground: 0.11166214791449794\n",
      "Buildings: 0.11763310595997903\n",
      "Vegetation: 0.11808969343998818\n",
      "Other: 0.12279373465553697\n",
      "Ego: 0.11822496963164753\n",
      "\n",
      " ================= \n",
      "\n",
      "Weights sum to one: True (1.0)\n",
      "weights: [0.04561933 0.12146034 0.12301936 0.12149731 0.11166215 0.11763311\n",
      " 0.11808969 0.12279373 0.11822497]\n"
     ]
    }
   ],
   "source": [
    "print(f'Counts are \\n{class_counts}')\n",
    "total_counts = np.sum(class_counts)\n",
    "rates = class_counts / total_counts\n",
    "print(f'Should sum to one: {np.sum(rates) == 1.0}')\n",
    "print(f'\\nRates are\\n====================\\n')\n",
    "print(f'Background: {rates[0]}')\n",
    "print(f'Vehicle: {rates[1]}')\n",
    "print(f'Living: {rates[2]}')\n",
    "print(f'Objects: {rates[3]}')\n",
    "print(f'Ground: {rates[4]}')\n",
    "print(f'Buildings: {rates[5]}')\n",
    "print(f'Vegetation: {rates[6]}')\n",
    "print(f'Other: {rates[7]}')\n",
    "print(f'Ego: {rates[8]}')\n",
    "\n",
    "inv_rates = 1-rates\n",
    "# inv_rates[0] = 0\n",
    "# inv_rates[8] = 0\n",
    "weights = np.round_((inv_rates) / np.sum(inv_rates), 20)\n",
    "\n",
    "print(f'\\nWeights are\\n====================\\n')\n",
    "print(f'Background: {weights[0]}')\n",
    "print(f'Vehicle: {weights[1]}')\n",
    "print(f'Person: {weights[2]}')\n",
    "print(f'Objects: {weights[3]}')\n",
    "print(f'Ground: {weights[4]}')\n",
    "print(f'Buildings: {weights[5]}')\n",
    "print(f'Vegetation: {weights[6]}')\n",
    "print(f'Other: {weights[7]}')\n",
    "print(f'Ego: {weights[8]}')\n",
    "\n",
    "print(f'\\n ================= \\n')\n",
    "print(f'Weights sum to one: {(np.sum(weights) - 1.0) < 1e-3} ({np.sum(weights)})')\n",
    "\n",
    "print(f'weights: {weights}')"
   ]
  },
  {
   "cell_type": "code",
   "execution_count": 6,
   "metadata": {},
   "outputs": [
    {
     "name": "stdout",
     "output_type": "stream",
     "text": [
      "Counts are \n",
      "[380590332, 6742158, 8435364, 15832713, 21224969, 13470274, 12438495, 10936078, 8606765, 7748496, 7704833, 37181191, 6092240, 11121268, 13650220, 25219691, 18987917]\n",
      "Should sum to one: True\n",
      "\n",
      "Rates are\n",
      "====================\n",
      "\n",
      "Noise: 0.6280544660292156\n",
      "Barrier: 0.011125985308987313\n",
      "Bicycle: 0.01392013298115536\n",
      "Bus: 0.026127321881126552\n",
      "Car: 0.03502568365762285\n",
      "Construction Vehicle: 0.022228798350918767\n",
      "Motorcycle: 0.02052614498739308\n",
      "Pedestrian: 0.018046839478686107\n",
      "Traffic Cone: 0.014202980847957907\n",
      "Trailer: 0.012786655646863654\n",
      "Truck: 0.012714602470930026\n",
      "Driveable Surface: 0.061356821486036266\n",
      "Other Flat: 0.010053483282181294\n",
      "Sidewalk: 0.018352442109085952\n",
      "Terrain: 0.02252574727326841\n",
      "Manmade: 0.041617819037050086\n",
      "Vegetation: 0.031334075171520814\n",
      "\n",
      "Weights are\n",
      "====================\n",
      "\n",
      "Noise: 0.023246595873174025\n",
      "Barrier: 0.06180462591818829\n",
      "Bicycle: 0.061629991688677783\n",
      "Bus: 0.06086704238242959\n",
      "Car: 0.060310894771398574\n",
      "Construction Vehicle: 0.06111070010306758\n",
      "Motorcycle: 0.061217115938287936\n",
      "Pedestrian: 0.06137207253258211\n",
      "Traffic Cone: 0.06161231369700263\n",
      "Trailer: 0.06170083402207102\n",
      "Truck: 0.06170533734556687\n",
      "Driveable Surface: 0.05866519865712273\n",
      "Other Flat: 0.061871657294863665\n",
      "Sidewalk: 0.06135297236818213\n",
      "Terrain: 0.061092140795420725\n",
      "Manmade: 0.05989888631018436\n",
      "Vegetation: 0.060541620301779946\n",
      "\n",
      " ================= \n",
      "\n",
      "Weights sum to one: True (0.9999999999999999)\n",
      "weights: [0.0232466  0.06180463 0.06162999 0.06086704 0.06031089 0.0611107\n",
      " 0.06121712 0.06137207 0.06161231 0.06170083 0.06170534 0.0586652\n",
      " 0.06187166 0.06135297 0.06109214 0.05989889 0.06054162]\n"
     ]
    }
   ],
   "source": [
    "print(f'Counts are \\n{class_counts}')\n",
    "total_counts = np.sum(class_counts)\n",
    "rates = class_counts / total_counts\n",
    "print(f'Should sum to one: {np.sum(rates) == 1.0}')\n",
    "print(f'\\nRates are\\n====================\\n')\n",
    "print(f'Noise: {rates[0]}')\n",
    "print(f'Barrier: {rates[1]}')\n",
    "print(f'Bicycle: {rates[2]}')\n",
    "print(f'Bus: {rates[3]}')\n",
    "print(f'Car: {rates[4]}')\n",
    "print(f'Construction Vehicle: {rates[5]}')\n",
    "print(f'Motorcycle: {rates[6]}')\n",
    "print(f'Pedestrian: {rates[7]}')\n",
    "print(f'Traffic Cone: {rates[8]}')\n",
    "print(f'Trailer: {rates[9]}')\n",
    "print(f'Truck: {rates[10]}')\n",
    "print(f'Driveable Surface: {rates[11]}')\n",
    "print(f'Other Flat: {rates[12]}')\n",
    "print(f'Sidewalk: {rates[13]}')\n",
    "print(f'Terrain: {rates[14]}')\n",
    "print(f'Manmade: {rates[15]}')\n",
    "print(f'Vegetation: {rates[16]}')\n",
    "\n",
    "inv_rates = 1-rates\n",
    "# inv_rates[0] = 0\n",
    "# inv_rates[8] = 0\n",
    "weights = np.round_((inv_rates) / np.sum(inv_rates), 20)\n",
    "\n",
    "print(f'\\nWeights are\\n====================\\n')\n",
    "print(f'Noise: {weights[0]}')\n",
    "print(f'Barrier: {weights[1]}')\n",
    "print(f'Bicycle: {weights[2]}')\n",
    "print(f'Bus: {weights[3]}')\n",
    "print(f'Car: {weights[4]}')\n",
    "print(f'Construction Vehicle: {weights[5]}')\n",
    "print(f'Motorcycle: {weights[6]}')\n",
    "print(f'Pedestrian: {weights[7]}')\n",
    "print(f'Traffic Cone: {weights[8]}')\n",
    "print(f'Trailer: {weights[9]}')\n",
    "print(f'Truck: {weights[10]}')\n",
    "print(f'Driveable Surface: {weights[11]}')\n",
    "print(f'Other Flat: {weights[12]}')\n",
    "print(f'Sidewalk: {weights[13]}')\n",
    "print(f'Terrain: {weights[14]}')\n",
    "print(f'Manmade: {weights[15]}')\n",
    "print(f'Vegetation: {weights[16]}')\n",
    "\n",
    "print(f'\\n ================= \\n')\n",
    "print(f'Weights sum to one: {(np.sum(weights) - 1.0) < 1e-3} ({np.sum(weights)})')\n",
    "\n",
    "print(f'weights: {weights}')"
   ]
  },
  {
   "cell_type": "markdown",
   "metadata": {},
   "source": [
    "--------------------------------------------------------------------\n",
    "\n",
    "# Alternative Weight Computations"
   ]
  },
  {
   "cell_type": "code",
   "execution_count": 6,
   "metadata": {},
   "outputs": [
    {
     "name": "stdout",
     "output_type": "stream",
     "text": [
      "Counts are \n",
      "[334092399, 1658322, 5022673, 2507157, 47208762, 20522035, 51577, 15134578, 23002497]\n",
      "\n",
      "Weights are\n",
      "====================\n",
      "\n",
      "Background: 0.14939313573282195\n",
      "Vehicle: 30.09735811929837\n",
      "Person: 9.93716117117541\n",
      "Objects: 19.90745338688846\n",
      "Ground: 1.0572425328821609\n",
      "Buildings: 2.432074163751846\n",
      "Vegetation: 967.7009347405067\n",
      "Other: 3.2978198078011234\n",
      "Ego: 2.169812742986603\n",
      "\n",
      " ================= \n",
      "\n",
      "Weights sum to one: False (1036.7492498010233)\n"
     ]
    }
   ],
   "source": [
    "print(f'Counts are \\n{class_counts}')\n",
    "total_counts = np.sum(class_counts)\n",
    "\n",
    "weights = np.zeros(n_classes)\n",
    "for i in range(0,n_classes):\n",
    "    weights[i] = total_counts / (n_classes * class_counts[i])\n",
    "\n",
    "# weights[0] = 0\n",
    "# weights[8] = 0\n",
    "# weights /= np.sum(weights)\n",
    "    \n",
    "print(f'\\nWeights are\\n====================\\n')\n",
    "print(f'Background: {weights[0]}')\n",
    "print(f'Vehicle: {weights[1]}')\n",
    "print(f'Person: {weights[2]}')\n",
    "print(f'Objects: {weights[3]}')\n",
    "print(f'Ground: {weights[4]}')\n",
    "print(f'Buildings: {weights[5]}')\n",
    "print(f'Vegetation: {weights[6]}')\n",
    "print(f'Other: {weights[7]}')\n",
    "print(f'Ego: {weights[8]}')\n",
    "\n",
    "print(f'\\n ================= \\n')\n",
    "print(f'Weights sum to one: {(np.sum(weights) - 1.0) < 1e-3} ({np.sum(weights)})')"
   ]
  },
  {
   "cell_type": "code",
   "execution_count": 10,
   "metadata": {},
   "outputs": [
    {
     "name": "stdout",
     "output_type": "stream",
     "text": [
      "Counts are \n",
      "[334092399, 1658322, 5022673, 2507157, 47208762, 20522035, 51577, 15134578, 23002497]\n",
      "Maximum is 334092399\n",
      "\n",
      "Weights are\n",
      "====================\n",
      "\n",
      "Background: 1.0\n",
      "Vehicle: 201.4641300061146\n",
      "Person: 66.51685248074084\n",
      "Objects: 133.2554758238116\n",
      "Ground: 7.076915065046611\n",
      "Buildings: 16.279691512074702\n",
      "Vegetation: 6477.546173682068\n",
      "Other: 22.074774665008828\n",
      "Ego: 14.524179657538918\n",
      "\n",
      " ================= \n",
      "\n",
      "Weights sum to one: False (6939.738192892404)\n",
      "weights: [1.00000e+00 2.01460e+02 6.65200e+01 1.33260e+02 7.08000e+00 1.62800e+01\n",
      " 6.47755e+03 2.20700e+01 1.45200e+01]\n"
     ]
    }
   ],
   "source": [
    "print(f'Counts are \\n{class_counts}')\n",
    "max_class = np.amax(class_counts)\n",
    "print(f'Maximum is {max_class}')\n",
    "\n",
    "weights = max_class / class_counts\n",
    "\n",
    "\n",
    "print(f'\\nWeights are\\n====================\\n')\n",
    "print(f'Background: {weights[0]}')\n",
    "print(f'Vehicle: {weights[1]}')\n",
    "print(f'Person: {weights[2]}')\n",
    "print(f'Objects: {weights[3]}')\n",
    "print(f'Ground: {weights[4]}')\n",
    "print(f'Buildings: {weights[5]}')\n",
    "print(f'Vegetation: {weights[6]}')\n",
    "print(f'Other: {weights[7]}')\n",
    "print(f'Ego: {weights[8]}')\n",
    "\n",
    "print(f'\\n ================= \\n')\n",
    "print(f'Weights sum to one: {(np.sum(weights) - 1.0) < 1e-3} ({np.sum(weights)})')\n",
    "\n",
    "print(f'weights: {np.round(weights,2)}')"
   ]
  },
  {
   "cell_type": "code",
   "execution_count": 7,
   "metadata": {},
   "outputs": [
    {
     "data": {
      "text/plain": [
       "array([0.04588137, 0.12121614, 0.12271229, 0.12114611, 0.11166511,\n",
       "       0.11739331, 0.11899189, 0.12276144, 0.11823234])"
      ]
     },
     "execution_count": 7,
     "metadata": {},
     "output_type": "execute_result"
    }
   ],
   "source": [
    "w1 = np.array([0.04614341, 0.12097193, 0.12240521, 0.12079491, 0.11166807, 0.11715352, 0.11989409, 0.12272914, 0.11823971])\n",
    "w2 = np.array([0.04561933, 0.12146034, 0.12301936, 0.12149731, 0.11166215, 0.11763311, 0.11808969, 0.12279373, 0.11822497])\n",
    "np.mean([w1, w2], axis=0)"
   ]
  }
 ],
 "metadata": {
  "kernelspec": {
   "display_name": "Python 3",
   "language": "python",
   "name": "python3"
  },
  "language_info": {
   "codemirror_mode": {
    "name": "ipython",
    "version": 3
   },
   "file_extension": ".py",
   "mimetype": "text/x-python",
   "name": "python",
   "nbconvert_exporter": "python",
   "pygments_lexer": "ipython3",
   "version": "3.6.9"
  }
 },
 "nbformat": 4,
 "nbformat_minor": 4
}
