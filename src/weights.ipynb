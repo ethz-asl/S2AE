{
 "cells": [
  {
   "cell_type": "markdown",
   "metadata": {},
   "source": [
    "# Class Weight Compution"
   ]
  },
  {
   "cell_type": "code",
   "execution_count": 3,
   "metadata": {},
   "outputs": [
    {
     "name": "stdout",
     "output_type": "stream",
     "text": [
      "The autoreload extension is already loaded. To reload it, use:\n",
      "  %reload_ext autoreload\n"
     ]
    }
   ],
   "source": [
    "import math\n",
    "import sys\n",
    "import os\n",
    "\n",
    "import matplotlib.pyplot as plt\n",
    "import numpy as np\n",
    "    \n",
    "%matplotlib inline\n",
    "%load_ext autoreload\n",
    "%autoreload 2\n",
    "np.set_printoptions(suppress=True) # don't use scientific notation"
   ]
  },
  {
   "cell_type": "code",
   "execution_count": null,
   "metadata": {},
   "outputs": [],
   "source": [
    "export_ds = '/media/berlukas/Data2/datasets/nuscenes/processed/'\n",
    "# export_ds = '/media/scratch/berlukas/nuscenes'\n",
    "\n",
    "# sem_clouds_filename = f\"{export_ds}/sem_bkp/sem_classes_gt1.npy\"\n",
    "sem_clouds_filename = f\"{export_ds}/sem_clouds2.npy\"\n",
    "\n",
    "print(f\"Loading sem clouds from {sem_clouds_filename}\")\n",
    "sem_cloud_features = np.load(sem_clouds_filename).astype(int)\n",
    "print(f\"Shape of sem clouds is {sem_cloud_features.shape}\")"
   ]
  },
  {
   "cell_type": "code",
   "execution_count": 5,
   "metadata": {},
   "outputs": [
    {
     "name": "stdout",
     "output_type": "stream",
     "text": [
      "Loading from sem clouds from /media/berlukas/Data/data/datasets/s2ae/cluster/training_kitti/sem_clouds_kitti_bw50.npy\n",
      "Shape of sem clouds is (18859, 2, 100, 100)\n"
     ]
    }
   ],
   "source": [
    "# export_ds = '/media/scratch/berlukas/nuscenes/training'\n",
    "export_ds = '/media/berlukas/Data/data/datasets/s2ae/cluster/training_kitti'\n",
    "samples = os.listdir(export_ds)\n",
    "sem_cloud_features = None\n",
    "for sample in samples:\n",
    "    sem_clouds_filename = f\"{export_ds}/{sample}\"    \n",
    "    print(f\"Loading from sem clouds from {sem_clouds_filename}\")\n",
    "    if sem_cloud_features is None:\n",
    "        sem_cloud_features = np.load(sem_clouds_filename).astype(int)\n",
    "    else:\n",
    "        features = np.load(sem_clouds_filename).astype(int)\n",
    "        sem_cloud_features = np.concatenate((sem_cloud_features, features))\n",
    "print(f\"Shape of sem clouds is {sem_cloud_features.shape}\")"
   ]
  },
  {
   "cell_type": "code",
   "execution_count": 6,
   "metadata": {},
   "outputs": [
    {
     "name": "stdout",
     "output_type": "stream",
     "text": [
      "Computing occurrences for 0: 162899884\n",
      "Computing occurrences for 1: 1648487\n",
      "Computing occurrences for 2: 7624\n",
      "Computing occurrences for 3: 12966034\n",
      "Computing occurrences for 4: 4899243\n",
      "Computing occurrences for 5: 6168728\n"
     ]
    }
   ],
   "source": [
    "n_classes = 6\n",
    "class_counts = [0] * n_classes\n",
    "for cl in range(0, n_classes): \n",
    "    count = np.count_nonzero(sem_cloud_features[:,1,:,:] == cl)\n",
    "    print(f'Computing occurrences for {cl}: {count}')\n",
    "    class_counts[cl] = count"
   ]
  },
  {
   "cell_type": "code",
   "execution_count": 7,
   "metadata": {},
   "outputs": [
    {
     "name": "stdout",
     "output_type": "stream",
     "text": [
      "Counts are \n",
      "[162899884, 1648487, 7624, 12966034, 4899243, 6168728]\n",
      "Should sum to one: False\n",
      "\n",
      "Rates are\n",
      "====================\n",
      "\n",
      "Vehicle: 0.008741115647701362\n",
      "Living: 4.042632165014052e-05\n",
      "Ground: 0.0687525001325627\n",
      "Manmade: 0.02597827562437033\n",
      "Vegetation: 0.03270973010233841\n",
      "\n",
      "Weights are\n",
      "====================\n",
      "\n",
      "Ignore: 1.157704937346671\n",
      "Vehicle: 114.4018727475558\n",
      "Living: 24736.35886673662\n",
      "Ground: 14.544925611023386\n",
      "Manmade: 38.493701986204805\n",
      "Vegetation: 30.571942870556132\n",
      "\n",
      " ================= \n",
      "\n",
      "Weights sum to one: False (24935.529014889307)\n",
      "weights: [    1.15770494   114.40187275 24736.35886674    14.54492561\n",
      "    38.49370199    30.57194287]\n"
     ]
    }
   ],
   "source": [
    "print(f'Counts are \\n{class_counts}')\n",
    "total_counts = np.sum(class_counts)\n",
    "rates = class_counts / total_counts\n",
    "print(f'Should sum to one: {np.sum(rates) == 1.0}')\n",
    "print(f'\\nRates are\\n====================\\n')\n",
    "print(f'Vehicle: {rates[1]}')\n",
    "print(f'Living: {rates[2]}')\n",
    "print(f'Ground: {rates[3]}')\n",
    "print(f'Manmade: {rates[4]}')\n",
    "print(f'Vegetation: {rates[5]}')\n",
    "\n",
    "\n",
    "\n",
    "inv_rates = 1-rates\n",
    "# inv_rates[0] = 0\n",
    "# inv_rates[8] = 0\n",
    "# weights = np.round_((inv_rates) / np.sum(inv_rates), 20)\n",
    "\n",
    "rates = rates[0:]\n",
    "# weights = np.power(np.amax(rates) / rates, 1 / 3.0)\n",
    "weights = 1 / rates\n",
    "\n",
    "print(f'\\nWeights are\\n====================\\n')\n",
    "print(f'Ignore: {weights[0]}')\n",
    "print(f'Vehicle: {weights[1]}')\n",
    "print(f'Living: {weights[2]}')\n",
    "print(f'Ground: {weights[3]}')\n",
    "print(f'Manmade: {weights[4]}')\n",
    "print(f'Vegetation: {weights[5]}')\n",
    "\n",
    "print(f'\\n ================= \\n')\n",
    "print(f'Weights sum to one: {(np.sum(weights) - 1.0) < 1e-3} ({np.sum(weights)})')\n",
    "\n",
    "print(f'weights: {weights}')"
   ]
  },
  {
   "cell_type": "code",
   "execution_count": 8,
   "metadata": {},
   "outputs": [
    {
     "name": "stdout",
     "output_type": "stream",
     "text": [
      "We have a mean of 0.7933497852484225 and a std of 5.9342539028087025\n"
     ]
    }
   ],
   "source": [
    "mu = sem_cloud_features[:,0,:,:].mean()\n",
    "sigma = sem_cloud_features[:,0,:,:].std()\n",
    "print(f'We have a mean of {mu} and a std of {sigma}')"
   ]
  }
 ],
 "metadata": {
  "kernelspec": {
   "display_name": "Python 3 (ipykernel)",
   "language": "python",
   "name": "python3"
  },
  "language_info": {
   "codemirror_mode": {
    "name": "ipython",
    "version": 3
   },
   "file_extension": ".py",
   "mimetype": "text/x-python",
   "name": "python",
   "nbconvert_exporter": "python",
   "pygments_lexer": "ipython3",
   "version": "3.10.4"
  }
 },
 "nbformat": 4,
 "nbformat_minor": 4
}
