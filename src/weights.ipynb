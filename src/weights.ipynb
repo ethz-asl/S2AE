{
 "cells": [
  {
   "cell_type": "markdown",
   "metadata": {},
   "source": [
    "# Class Weight Compution"
   ]
  },
  {
   "cell_type": "code",
   "execution_count": 2,
   "metadata": {},
   "outputs": [],
   "source": [
    "import math\n",
    "import sys\n",
    "\n",
    "import matplotlib.pyplot as plt\n",
    "import numpy as np\n",
    "    \n",
    "%matplotlib inline\n",
    "%load_ext autoreload\n",
    "%autoreload 2"
   ]
  },
  {
   "cell_type": "code",
   "execution_count": 3,
   "metadata": {},
   "outputs": [
    {
     "name": "stdout",
     "output_type": "stream",
     "text": [
      "Loading sem clouds from /mnt/data/datasets/nuscenes/processed/sem_bkp/sem_classes_gt1.npy\n",
      "Shape of sem clouds is (11230, 200, 200)\n"
     ]
    }
   ],
   "source": [
    "export_ds = '/mnt/data/datasets/nuscenes/processed'\n",
    "# export_ds = '/media/scratch/berlukas/nuscenes'\n",
    "\n",
    "sem_clouds_filename = f\"{export_ds}/sem_bkp/sem_classes_gt1.npy\"\n",
    "\n",
    "print(f\"Loading sem clouds from {sem_clouds_filename}\")\n",
    "sem_cloud_features = np.load(sem_clouds_filename).astype(int)\n",
    "print(f\"Shape of sem clouds is {sem_cloud_features.shape}\")"
   ]
  },
  {
   "cell_type": "code",
   "execution_count": 4,
   "metadata": {},
   "outputs": [
    {
     "name": "stdout",
     "output_type": "stream",
     "text": [
      "Computing occurrences for 0\n",
      "Computing occurrences for 1\n",
      "Computing occurrences for 2\n",
      "Computing occurrences for 3\n",
      "Computing occurrences for 4\n",
      "Computing occurrences for 5\n",
      "Computing occurrences for 6\n",
      "Computing occurrences for 7\n",
      "Computing occurrences for 8\n"
     ]
    }
   ],
   "source": [
    "n_classes = 9\n",
    "class_counts = [0] * n_classes\n",
    "for cl in range(0, n_classes): \n",
    "    print(f'Computing occurrences for {cl}')\n",
    "    class_counts[cl] = np.count_nonzero(sem_cloud_features[:,:,:] == cl)    "
   ]
  },
  {
   "cell_type": "code",
   "execution_count": 5,
   "metadata": {},
   "outputs": [
    {
     "name": "stdout",
     "output_type": "stream",
     "text": [
      "Counts are \n",
      "[334092399, 1658322, 5022673, 2507157, 47208762, 20522035, 51577, 15134578, 23002497]\n",
      "Should sum to one: True\n",
      "\n",
      "Rates are\n",
      "====================\n",
      "\n",
      "Background: 0.7437497751558326\n",
      "Vehicle: 0.0036917230632235085\n",
      "Person: 0.01118137355298308\n",
      "Objects: 0.005581382457702583\n",
      "Ground: 0.10509519590382903\n",
      "Buildings: 0.04568574131789849\n",
      "Vegetation: 0.00011481967943009796\n",
      "Other: 0.03369229296527159\n",
      "Ego: 0.05120769590382903\n",
      "\n",
      "Weights are\n",
      "====================\n",
      "\n",
      "Background: 0.03203127810552092\n",
      "Vehicle: 0.12453853461709705\n",
      "Person: 0.12360232830587711\n",
      "Objects: 0.12430232719278717\n",
      "Ground: 0.11186310051202138\n",
      "Buildings: 0.11928928233526268\n",
      "Vegetation: 0.12498564754007124\n",
      "Other: 0.12078846337934107\n",
      "Ego: 0.11859903801202137\n",
      "\n",
      " ================= \n",
      "\n",
      "Weights sum to one: True (1.0)\n",
      "weights: [0.03203128 0.12453853 0.12360233 0.12430233 0.1118631  0.11928928\n",
      " 0.12498565 0.12078846 0.11859904]\n"
     ]
    }
   ],
   "source": [
    "print(f'Counts are \\n{class_counts}')\n",
    "total_counts = np.sum(class_counts)\n",
    "rates = class_counts / total_counts\n",
    "print(f'Should sum to one: {np.sum(rates) == 1.0}')\n",
    "print(f'\\nRates are\\n====================\\n')\n",
    "print(f'Background: {rates[0]}')\n",
    "print(f'Vehicle: {rates[1]}')\n",
    "print(f'Person: {rates[2]}')\n",
    "print(f'Objects: {rates[3]}')\n",
    "print(f'Ground: {rates[4]}')\n",
    "print(f'Buildings: {rates[5]}')\n",
    "print(f'Vegetation: {rates[6]}')\n",
    "print(f'Other: {rates[7]}')\n",
    "print(f'Ego: {rates[8]}')\n",
    "\n",
    "inv_rates = 1-rates\n",
    "# inv_rates[0] = 0\n",
    "# inv_rates[8] = 0\n",
    "weights = np.round_((inv_rates) / np.sum(inv_rates), 20)\n",
    "\n",
    "print(f'\\nWeights are\\n====================\\n')\n",
    "print(f'Background: {weights[0]}')\n",
    "print(f'Vehicle: {weights[1]}')\n",
    "print(f'Person: {weights[2]}')\n",
    "print(f'Objects: {weights[3]}')\n",
    "print(f'Ground: {weights[4]}')\n",
    "print(f'Buildings: {weights[5]}')\n",
    "print(f'Vegetation: {weights[6]}')\n",
    "print(f'Other: {weights[7]}')\n",
    "print(f'Ego: {weights[8]}')\n",
    "\n",
    "print(f'\\n ================= \\n')\n",
    "print(f'Weights sum to one: {(np.sum(weights) - 1.0) < 1e-3} ({np.sum(weights)})')\n",
    "\n",
    "print(f'weights: {weights}')"
   ]
  },
  {
   "cell_type": "code",
   "execution_count": 6,
   "metadata": {},
   "outputs": [
    {
     "name": "stdout",
     "output_type": "stream",
     "text": [
      "Counts are \n",
      "[334092399, 1658322, 5022673, 2507157, 47208762, 20522035, 51577, 15134578, 23002497]\n",
      "\n",
      "Weights are\n",
      "====================\n",
      "\n",
      "Background: 0.14939313573282195\n",
      "Vehicle: 30.09735811929837\n",
      "Person: 9.93716117117541\n",
      "Objects: 19.90745338688846\n",
      "Ground: 1.0572425328821609\n",
      "Buildings: 2.432074163751846\n",
      "Vegetation: 967.7009347405067\n",
      "Other: 3.2978198078011234\n",
      "Ego: 2.169812742986603\n",
      "\n",
      " ================= \n",
      "\n",
      "Weights sum to one: False (1036.7492498010233)\n"
     ]
    }
   ],
   "source": [
    "print(f'Counts are \\n{class_counts}')\n",
    "total_counts = np.sum(class_counts)\n",
    "\n",
    "weights = np.zeros(n_classes)\n",
    "for i in range(0,n_classes):\n",
    "    weights[i] = total_counts / (n_classes * class_counts[i])\n",
    "\n",
    "# weights[0] = 0\n",
    "# weights[8] = 0\n",
    "# weights /= np.sum(weights)\n",
    "    \n",
    "print(f'\\nWeights are\\n====================\\n')\n",
    "print(f'Background: {weights[0]}')\n",
    "print(f'Vehicle: {weights[1]}')\n",
    "print(f'Person: {weights[2]}')\n",
    "print(f'Objects: {weights[3]}')\n",
    "print(f'Ground: {weights[4]}')\n",
    "print(f'Buildings: {weights[5]}')\n",
    "print(f'Vegetation: {weights[6]}')\n",
    "print(f'Other: {weights[7]}')\n",
    "print(f'Ego: {weights[8]}')\n",
    "\n",
    "print(f'\\n ================= \\n')\n",
    "print(f'Weights sum to one: {(np.sum(weights) - 1.0) < 1e-3} ({np.sum(weights)})')"
   ]
  },
  {
   "cell_type": "code",
   "execution_count": 10,
   "metadata": {},
   "outputs": [
    {
     "name": "stdout",
     "output_type": "stream",
     "text": [
      "Counts are \n",
      "[334092399, 1658322, 5022673, 2507157, 47208762, 20522035, 51577, 15134578, 23002497]\n",
      "Maximum is 334092399\n",
      "\n",
      "Weights are\n",
      "====================\n",
      "\n",
      "Background: 1.0\n",
      "Vehicle: 201.4641300061146\n",
      "Person: 66.51685248074084\n",
      "Objects: 133.2554758238116\n",
      "Ground: 7.076915065046611\n",
      "Buildings: 16.279691512074702\n",
      "Vegetation: 6477.546173682068\n",
      "Other: 22.074774665008828\n",
      "Ego: 14.524179657538918\n",
      "\n",
      " ================= \n",
      "\n",
      "Weights sum to one: False (6939.738192892404)\n",
      "weights: [1.00000e+00 2.01460e+02 6.65200e+01 1.33260e+02 7.08000e+00 1.62800e+01\n",
      " 6.47755e+03 2.20700e+01 1.45200e+01]\n"
     ]
    }
   ],
   "source": [
    "print(f'Counts are \\n{class_counts}')\n",
    "max_class = np.amax(class_counts)\n",
    "print(f'Maximum is {max_class}')\n",
    "\n",
    "weights = max_class / class_counts\n",
    "\n",
    "\n",
    "print(f'\\nWeights are\\n====================\\n')\n",
    "print(f'Background: {weights[0]}')\n",
    "print(f'Vehicle: {weights[1]}')\n",
    "print(f'Person: {weights[2]}')\n",
    "print(f'Objects: {weights[3]}')\n",
    "print(f'Ground: {weights[4]}')\n",
    "print(f'Buildings: {weights[5]}')\n",
    "print(f'Vegetation: {weights[6]}')\n",
    "print(f'Other: {weights[7]}')\n",
    "print(f'Ego: {weights[8]}')\n",
    "\n",
    "print(f'\\n ================= \\n')\n",
    "print(f'Weights sum to one: {(np.sum(weights) - 1.0) < 1e-3} ({np.sum(weights)})')\n",
    "\n",
    "print(f'weights: {np.round(weights,2)}')"
   ]
  },
  {
   "cell_type": "code",
   "execution_count": 15,
   "metadata": {},
   "outputs": [
    {
     "data": {
      "text/plain": [
       "5"
      ]
     },
     "execution_count": 15,
     "metadata": {},
     "output_type": "execute_result"
    }
   ],
   "source": [
    "np.amax(np.array([1,2,3,4,5]))"
   ]
  }
 ],
 "metadata": {
  "kernelspec": {
   "display_name": "Python 3",
   "language": "python",
   "name": "python3"
  },
  "language_info": {
   "codemirror_mode": {
    "name": "ipython",
    "version": 3
   },
   "file_extension": ".py",
   "mimetype": "text/x-python",
   "name": "python",
   "nbconvert_exporter": "python",
   "pygments_lexer": "ipython3",
   "version": "3.6.9"
  }
 },
 "nbformat": 4,
 "nbformat_minor": 4
}
