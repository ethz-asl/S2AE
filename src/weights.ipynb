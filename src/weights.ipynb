{
 "cells": [
  {
   "cell_type": "markdown",
   "metadata": {},
   "source": [
    "# Class Weight Compution"
   ]
  },
  {
   "cell_type": "code",
   "execution_count": 11,
   "metadata": {},
   "outputs": [
    {
     "name": "stdout",
     "output_type": "stream",
     "text": [
      "The autoreload extension is already loaded. To reload it, use:\n",
      "  %reload_ext autoreload\n"
     ]
    }
   ],
   "source": [
    "import math\n",
    "import sys\n",
    "import os\n",
    "\n",
    "import matplotlib.pyplot as plt\n",
    "import numpy as np\n",
    "    \n",
    "%matplotlib inline\n",
    "%load_ext autoreload\n",
    "%autoreload 2\n",
    "np.set_printoptions(suppress=True) # don't use scientific notation"
   ]
  },
  {
   "cell_type": "code",
   "execution_count": 2,
   "metadata": {},
   "outputs": [
    {
     "name": "stdout",
     "output_type": "stream",
     "text": [
      "Loading sem clouds from /media/berlukas/Data2/datasets/nuscenes/processed//sem_clouds2.npy\n",
      "Shape of sem clouds is (11452, 3, 200, 200)\n"
     ]
    }
   ],
   "source": [
    "export_ds = '/media/berlukas/Data2/datasets/nuscenes/processed/'\n",
    "# export_ds = '/media/scratch/berlukas/nuscenes'\n",
    "\n",
    "# sem_clouds_filename = f\"{export_ds}/sem_bkp/sem_classes_gt1.npy\"\n",
    "sem_clouds_filename = f\"{export_ds}/sem_clouds2.npy\"\n",
    "\n",
    "print(f\"Loading sem clouds from {sem_clouds_filename}\")\n",
    "sem_cloud_features = np.load(sem_clouds_filename).astype(int)\n",
    "print(f\"Shape of sem clouds is {sem_cloud_features.shape}\")"
   ]
  },
  {
   "cell_type": "code",
   "execution_count": 2,
   "metadata": {},
   "outputs": [
    {
     "name": "stdout",
     "output_type": "stream",
     "text": [
      "Loading from sem clouds from /media/scratch/berlukas/nuscenes/training/sem_clouds_kitti_00_bw50.npy\n",
      "Loading from sem clouds from /media/scratch/berlukas/nuscenes/training/sem_clouds_nuscenes5000_bw50.npy\n",
      "Loading from sem clouds from /media/scratch/berlukas/nuscenes/training/sem_clouds_waymo_bw50.npy\n",
      "Loading from sem clouds from /media/scratch/berlukas/nuscenes/training/sem_clouds_kitti_02_bw50.npy\n",
      "Loading from sem clouds from /media/scratch/berlukas/nuscenes/training/sem_clouds_nuscenes_01_bw50.npy\n",
      "Loading from sem clouds from /media/scratch/berlukas/nuscenes/training/sem_clouds_kitti_05_bw50.npy\n",
      "Shape of sem clouds is (19562, 2, 100, 100)\n"
     ]
    }
   ],
   "source": [
    "export_ds = '/media/scratch/berlukas/nuscenes/training'\n",
    "samples = os.listdir(export_ds)\n",
    "sem_cloud_features = None\n",
    "for sample in samples:\n",
    "    sem_clouds_filename = f\"{export_ds}/{sample}\"    \n",
    "    print(f\"Loading from sem clouds from {sem_clouds_filename}\")\n",
    "    if sem_cloud_features is None:\n",
    "        sem_cloud_features = np.load(sem_clouds_filename).astype(int)\n",
    "    else:\n",
    "        features = np.load(sem_clouds_filename).astype(int)\n",
    "        sem_cloud_features = np.concatenate((sem_cloud_features, features))\n",
    "print(f\"Shape of sem clouds is {sem_cloud_features.shape}\")"
   ]
  },
  {
   "cell_type": "code",
   "execution_count": 4,
   "metadata": {},
   "outputs": [
    {
     "name": "stdout",
     "output_type": "stream",
     "text": [
      "Computing occurrences for 0: 172123974\n",
      "Computing occurrences for 1: 1801972\n",
      "Computing occurrences for 2: 75612\n",
      "Computing occurrences for 3: 12203294\n",
      "Computing occurrences for 4: 4354036\n",
      "Computing occurrences for 5: 4257417\n"
     ]
    }
   ],
   "source": [
    "n_classes = 6\n",
    "class_counts = [0] * n_classes\n",
    "for cl in range(0, n_classes): \n",
    "    count = np.count_nonzero(sem_cloud_features[:,1,:,:] == cl)\n",
    "    print(f'Computing occurrences for {cl}: {count}')\n",
    "    class_counts[cl] = count"
   ]
  },
  {
   "cell_type": "code",
   "execution_count": 12,
   "metadata": {},
   "outputs": [
    {
     "name": "stdout",
     "output_type": "stream",
     "text": [
      "Counts are \n",
      "[172123974, 1801972, 75612, 12203294, 4354036, 4257417]\n",
      "Should sum to one: True\n",
      "\n",
      "Rates are\n",
      "====================\n",
      "\n",
      "Vehicle: 0.009249595407324864\n",
      "Living: 0.0003881194646413194\n",
      "Ground: 0.06264000336111497\n",
      "Manmade: 0.02234944349242226\n",
      "Vegetation: 0.021853494244231764\n",
      "\n",
      "Weights are\n",
      "====================\n",
      "\n",
      "Ignore: 1.131837131531718\n",
      "Vehicle: 108.112836936423\n",
      "Living: 2576.5262788975297\n",
      "Ground: 15.964239245567631\n",
      "Manmade: 44.74384341332961\n",
      "Vegetation: 45.75927258241323\n",
      "\n",
      " ================= \n",
      "\n",
      "Weights sum to one: False (2792.238308206795)\n",
      "weights: [   1.13183713  108.11283694 2576.5262789    15.96423925   44.74384341\n",
      "   45.75927258]\n"
     ]
    }
   ],
   "source": [
    "print(f'Counts are \\n{class_counts}')\n",
    "total_counts = np.sum(class_counts)\n",
    "rates = class_counts / total_counts\n",
    "print(f'Should sum to one: {np.sum(rates) == 1.0}')\n",
    "print(f'\\nRates are\\n====================\\n')\n",
    "print(f'Vehicle: {rates[1]}')\n",
    "print(f'Living: {rates[2]}')\n",
    "print(f'Ground: {rates[3]}')\n",
    "print(f'Manmade: {rates[4]}')\n",
    "print(f'Vegetation: {rates[5]}')\n",
    "\n",
    "\n",
    "\n",
    "inv_rates = 1-rates\n",
    "# inv_rates[0] = 0\n",
    "# inv_rates[8] = 0\n",
    "# weights = np.round_((inv_rates) / np.sum(inv_rates), 20)\n",
    "\n",
    "rates = rates[0:]\n",
    "# weights = np.power(np.amax(rates) / rates, 1 / 3.0)\n",
    "weights = 1 / rates\n",
    "\n",
    "print(f'\\nWeights are\\n====================\\n')\n",
    "print(f'Ignore: {weights[0]}')\n",
    "print(f'Vehicle: {weights[1]}')\n",
    "print(f'Living: {weights[2]}')\n",
    "print(f'Ground: {weights[3]}')\n",
    "print(f'Manmade: {weights[4]}')\n",
    "print(f'Vegetation: {weights[5]}')\n",
    "\n",
    "print(f'\\n ================= \\n')\n",
    "print(f'Weights sum to one: {(np.sum(weights) - 1.0) < 1e-3} ({np.sum(weights)})')\n",
    "\n",
    "print(f'weights: {weights}')"
   ]
  },
  {
   "cell_type": "code",
   "execution_count": 13,
   "metadata": {},
   "outputs": [
    {
     "name": "stdout",
     "output_type": "stream",
     "text": [
      "We have a mean of 1.5984423678560475 and a std of 8.400141767886875\n"
     ]
    }
   ],
   "source": [
    "mu = sem_cloud_features[:,0,:,:].mean()\n",
    "sigma = sem_cloud_features[:,0,:,:].std()\n",
    "print(f'We have a mean of {mu} and a std of {sigma}')"
   ]
  }
 ],
 "metadata": {
  "kernelspec": {
   "display_name": "Python 3 (ipykernel)",
   "language": "python",
   "name": "python3"
  },
  "language_info": {
   "codemirror_mode": {
    "name": "ipython",
    "version": 3
   },
   "file_extension": ".py",
   "mimetype": "text/x-python",
   "name": "python",
   "nbconvert_exporter": "python",
   "pygments_lexer": "ipython3",
   "version": "3.6.7"
  }
 },
 "nbformat": 4,
 "nbformat_minor": 4
}
