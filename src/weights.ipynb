{
 "cells": [
  {
   "cell_type": "markdown",
   "metadata": {},
   "source": [
    "# Class Weight Compution"
   ]
  },
  {
   "cell_type": "code",
   "execution_count": 2,
   "metadata": {},
   "outputs": [
    {
     "name": "stdout",
     "output_type": "stream",
     "text": [
      "The autoreload extension is already loaded. To reload it, use:\n",
      "  %reload_ext autoreload\n"
     ]
    }
   ],
   "source": [
    "import math\n",
    "import sys\n",
    "import os\n",
    "\n",
    "import matplotlib.pyplot as plt\n",
    "import numpy as np\n",
    "    \n",
    "%matplotlib inline\n",
    "%load_ext autoreload\n",
    "%autoreload 2"
   ]
  },
  {
   "cell_type": "code",
   "execution_count": 2,
   "metadata": {},
   "outputs": [
    {
     "name": "stdout",
     "output_type": "stream",
     "text": [
      "Loading sem clouds from /media/berlukas/Data2/datasets/nuscenes/processed//sem_clouds2.npy\n",
      "Shape of sem clouds is (11452, 3, 200, 200)\n"
     ]
    }
   ],
   "source": [
    "export_ds = '/media/berlukas/Data2/datasets/nuscenes/processed/'\n",
    "# export_ds = '/media/scratch/berlukas/nuscenes'\n",
    "\n",
    "# sem_clouds_filename = f\"{export_ds}/sem_bkp/sem_classes_gt1.npy\"\n",
    "sem_clouds_filename = f\"{export_ds}/sem_clouds2.npy\"\n",
    "\n",
    "print(f\"Loading sem clouds from {sem_clouds_filename}\")\n",
    "sem_cloud_features = np.load(sem_clouds_filename).astype(int)\n",
    "print(f\"Shape of sem clouds is {sem_cloud_features.shape}\")"
   ]
  },
  {
   "cell_type": "code",
   "execution_count": 3,
   "metadata": {},
   "outputs": [
    {
     "name": "stdout",
     "output_type": "stream",
     "text": [
      "Loading from sem clouds from /media/scratch/berlukas/nuscenes/training/sem_clouds_waymo_00_11_bw120.npy\n",
      "Loading from sem clouds from /media/scratch/berlukas/nuscenes/training/sem_clouds_02_kitti_bw120.npy\n",
      "Loading from sem clouds from /media/scratch/berlukas/nuscenes/training/sem_clouds_05_kitti_bw120.npy\n",
      "Loading from sem clouds from /media/scratch/berlukas/nuscenes/training/sem_clouds_nuscenes1_bw120.npy\n",
      "Loading from sem clouds from /media/scratch/berlukas/nuscenes/training/sem_clouds_00_kitti_bw120.npy\n",
      "Shape of sem clouds is (31072, 2, 240, 240)\n"
     ]
    }
   ],
   "source": [
    "export_ds = '/media/scratch/berlukas/nuscenes/training'\n",
    "samples = os.listdir(export_ds)\n",
    "sem_cloud_features = None\n",
    "for sample in samples:\n",
    "    sem_clouds_filename = f\"{export_ds}/{sample}\"    \n",
    "    print(f\"Loading from sem clouds from {sem_clouds_filename}\")\n",
    "    if sem_cloud_features is None:\n",
    "        sem_cloud_features = np.load(sem_clouds_filename).astype(int)\n",
    "    else:\n",
    "        features = np.load(sem_clouds_filename).astype(int)\n",
    "        sem_cloud_features = np.concatenate((sem_cloud_features, features))\n",
    "print(f\"Shape of sem clouds is {sem_cloud_features.shape}\")"
   ]
  },
  {
   "cell_type": "code",
   "execution_count": 4,
   "metadata": {},
   "outputs": [
    {
     "name": "stdout",
     "output_type": "stream",
     "text": [
      "Computing occurrences for 1: 20758609\n",
      "Computing occurrences for 2: 779174\n",
      "Computing occurrences for 3: 68154113\n",
      "Computing occurrences for 4: 48083923\n",
      "Computing occurrences for 5: 52855520\n",
      "Computing occurrences for 6: 47849007\n"
     ]
    }
   ],
   "source": [
    "n_classes = 7\n",
    "class_counts = [0] * n_classes\n",
    "for cl in range(1, n_classes): \n",
    "    count = np.count_nonzero(sem_cloud_features[:,1,:,:] == cl)\n",
    "    print(f'Computing occurrences for {cl}: {count}')\n",
    "    class_counts[cl] = count"
   ]
  },
  {
   "cell_type": "code",
   "execution_count": 5,
   "metadata": {},
   "outputs": [
    {
     "name": "stdout",
     "output_type": "stream",
     "text": [
      "Counts are \n",
      "[0, 20758609, 779174, 68154113, 48083923, 52855520, 47849007]\n",
      "Should sum to one: True\n",
      "\n",
      "Rates are\n",
      "====================\n",
      "\n",
      "Vehicle: 0.08704536599422746\n",
      "Living: 0.0032672461822074008\n",
      "Road: 0.28578503068760225\n",
      "Ground: 0.20162635540624382\n",
      "Manmade: 0.2216347002448579\n",
      "Vegetation: 0.20064130148486115\n",
      "\n",
      "Weights are\n",
      "====================\n",
      "\n",
      "Vehicle: 1.4862707824870212\n",
      "Living: 4.439007436362647\n",
      "Road: 1.0\n",
      "Ground: 1.1233042248939462\n",
      "Manmade: 1.088430174964464\n",
      "Vegetation: 1.1251395222200713\n",
      "\n",
      " ================= \n",
      "\n",
      "Weights sum to one: False (10.262152140928148)\n",
      "weights: [1.48627078 4.43900744 1.         1.12330422 1.08843017 1.12513952]\n"
     ]
    }
   ],
   "source": [
    "print(f'Counts are \\n{class_counts}')\n",
    "total_counts = np.sum(class_counts)\n",
    "rates = class_counts / total_counts\n",
    "print(f'Should sum to one: {np.sum(rates) == 1.0}')\n",
    "print(f'\\nRates are\\n====================\\n')\n",
    "print(f'Vehicle: {rates[1]}')\n",
    "print(f'Living: {rates[2]}')\n",
    "print(f'Road: {rates[3]}')\n",
    "print(f'Ground: {rates[4]}')\n",
    "print(f'Manmade: {rates[5]}')\n",
    "print(f'Vegetation: {rates[6]}')\n",
    "\n",
    "\n",
    "\n",
    "inv_rates = 1-rates\n",
    "# inv_rates[0] = 0\n",
    "# inv_rates[8] = 0\n",
    "# weights = np.round_((inv_rates) / np.sum(inv_rates), 20)\n",
    "\n",
    "rates = rates[1:]\n",
    "weights = np.power(np.amax(rates) / rates, 1 / 3.0)\n",
    "\n",
    "print(f'\\nWeights are\\n====================\\n')\n",
    "print(f'Vehicle: {weights[0]}')\n",
    "print(f'Living: {weights[1]}')\n",
    "print(f'Road: {weights[2]}')\n",
    "print(f'Ground: {weights[3]}')\n",
    "print(f'Manmade: {weights[4]}')\n",
    "print(f'Vegetation: {weights[5]}')\n",
    "\n",
    "print(f'\\n ================= \\n')\n",
    "print(f'Weights sum to one: {(np.sum(weights) - 1.0) < 1e-3} ({np.sum(weights)})')\n",
    "\n",
    "print(f'weights: {weights}')"
   ]
  },
  {
   "cell_type": "code",
   "execution_count": null,
   "metadata": {},
   "outputs": [],
   "source": [
    "mu = sem_cloud_features[:,0,:,:].mean()\n",
    "sigma = sem_cloud_features[:,0,:,:].std()\n",
    "print(f'We have a mean of {mu} and a std of {sigma}')"
   ]
  },
  {
   "cell_type": "code",
   "execution_count": 11,
   "metadata": {},
   "outputs": [
    {
     "name": "stdout",
     "output_type": "stream",
     "text": [
      "We have a mean of 1.2839795737632667 and a std of 7.69180843049593\n"
     ]
    }
   ],
   "source": [
    "print(f'We have a mean of {mu} and a std of {sigma}')"
   ]
  }
 ],
 "metadata": {
  "kernelspec": {
   "display_name": "Python 3 (ipykernel)",
   "language": "python",
   "name": "python3"
  },
  "language_info": {
   "codemirror_mode": {
    "name": "ipython",
    "version": 3
   },
   "file_extension": ".py",
   "mimetype": "text/x-python",
   "name": "python",
   "nbconvert_exporter": "python",
   "pygments_lexer": "ipython3",
   "version": "3.6.7"
  }
 },
 "nbformat": 4,
 "nbformat_minor": 4
}
