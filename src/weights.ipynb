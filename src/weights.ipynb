{
 "cells": [
  {
   "cell_type": "markdown",
   "metadata": {},
   "source": [
    "# Class Weight Compution"
   ]
  },
  {
   "cell_type": "code",
   "execution_count": 3,
   "metadata": {},
   "outputs": [
    {
     "name": "stdout",
     "output_type": "stream",
     "text": [
      "The autoreload extension is already loaded. To reload it, use:\n",
      "  %reload_ext autoreload\n"
     ]
    }
   ],
   "source": [
    "import math\n",
    "import sys\n",
    "\n",
    "import matplotlib.pyplot as plt\n",
    "import numpy as np\n",
    "    \n",
    "%matplotlib inline\n",
    "%load_ext autoreload\n",
    "%autoreload 2"
   ]
  },
  {
   "cell_type": "code",
   "execution_count": 38,
   "metadata": {},
   "outputs": [
    {
     "name": "stdout",
     "output_type": "stream",
     "text": [
      "Loading sem clouds from /mnt/data/datasets/nuscenes/processed/sem_classes_gt1.npy\n",
      "Shape of sem clouds is (11230, 200, 200)\n"
     ]
    }
   ],
   "source": [
    "export_ds = '/mnt/data/datasets/nuscenes/processed'\n",
    "# export_ds = '/media/scratch/berlukas/nuscenes'\n",
    "\n",
    "sem_clouds_filename = f\"{export_ds}/sem_classes_gt1.npy\"\n",
    "\n",
    "print(f\"Loading sem clouds from {sem_clouds_filename}\")\n",
    "sem_cloud_features = np.load(sem_clouds_filename).astype(int)\n",
    "print(f\"Shape of sem clouds is {sem_cloud_features.shape}\")"
   ]
  },
  {
   "cell_type": "code",
   "execution_count": 53,
   "metadata": {},
   "outputs": [
    {
     "name": "stdout",
     "output_type": "stream",
     "text": [
      "Computing occurrences for 1\n",
      "Computing occurrences for 2\n",
      "Computing occurrences for 3\n",
      "Computing occurrences for 4\n",
      "Computing occurrences for 5\n",
      "Computing occurrences for 6\n",
      "Computing occurrences for 7\n"
     ]
    }
   ],
   "source": [
    "n_classes = 9\n",
    "class_counts = [0] * n_classes\n",
    "for cl in range(1, 8): \n",
    "    print(f'Computing occurrences for {cl}')\n",
    "    class_counts[cl] = np.count_nonzero(sem_cloud_features[:,:,:] == cl)    "
   ]
  },
  {
   "cell_type": "code",
   "execution_count": 73,
   "metadata": {},
   "outputs": [
    {
     "name": "stdout",
     "output_type": "stream",
     "text": [
      "Counts are \n",
      "[0, 1658322, 5022673, 2507157, 47208762, 20522035, 51577, 15134578, 0]\n",
      "Should sum to one: True\n",
      "\n",
      "Rates are\n",
      "====================\n",
      "\n",
      "Noise: 0.0\n",
      "Vehicle: 0.018004669969212565\n",
      "Person: 0.0545319725169628\n",
      "Objects: 0.027220608751497635\n",
      "Ground: 0.5125531588347156\n",
      "Buildings: 0.22281105073178137\n",
      "Vegetation: 0.0005599798247879944\n",
      "Other: 0.16431855937104203\n",
      "Ego: 0.0\n",
      "\n",
      "Weights are\n",
      "====================\n",
      "\n",
      "Noise: 0.0\n",
      "Vehicle: 0.16366588833846457\n",
      "Person: 0.1575780045805062\n",
      "Objects: 0.16212989854141704\n",
      "Ground: 0.08124114019421406\n",
      "Buildings: 0.12953149154470311\n",
      "Vegetation: 0.16657333669586868\n",
      "Other: 0.13928024010482634\n",
      "Ego: 0.0\n",
      "\n",
      " ================= \n",
      "\n",
      "Weights sum to one: True (1.0)\n",
      "weights: [0.         0.16366589 0.157578   0.1621299  0.08124114 0.12953149\n",
      " 0.16657334 0.13928024 0.        ]\n"
     ]
    }
   ],
   "source": [
    "print(f'Counts are \\n{class_counts}')\n",
    "total_counts = np.sum(class_counts)\n",
    "rates = class_counts / total_counts\n",
    "print(f'Should sum to one: {np.sum(rates) == 1.0}')\n",
    "print(f'\\nRates are\\n====================\\n')\n",
    "print(f'Noise: {rates[0]}')\n",
    "print(f'Vehicle: {rates[1]}')\n",
    "print(f'Person: {rates[2]}')\n",
    "print(f'Objects: {rates[3]}')\n",
    "print(f'Ground: {rates[4]}')\n",
    "print(f'Buildings: {rates[5]}')\n",
    "print(f'Vegetation: {rates[6]}')\n",
    "print(f'Other: {rates[7]}')\n",
    "print(f'Ego: {rates[8]}')\n",
    "\n",
    "inv_rates = 1-rates\n",
    "inv_rates[0] = 0\n",
    "inv_rates[8] = 0\n",
    "weights = np.round_((inv_rates) / np.sum(inv_rates), 20)\n",
    "\n",
    "print(f'\\nWeights are\\n====================\\n')\n",
    "print(f'Noise: {weights[0]}')\n",
    "print(f'Vehicle: {weights[1]}')\n",
    "print(f'Person: {weights[2]}')\n",
    "print(f'Objects: {weights[3]}')\n",
    "print(f'Ground: {weights[4]}')\n",
    "print(f'Buildings: {weights[5]}')\n",
    "print(f'Vegetation: {weights[6]}')\n",
    "print(f'Other: {weights[7]}')\n",
    "print(f'Ego: {weights[8]}')\n",
    "\n",
    "print(f'\\n ================= \\n')\n",
    "print(f'Weights sum to one: {(np.sum(weights) - 1.0) < 1e-3} ({np.sum(weights)})')\n",
    "\n",
    "print(f'weights: {weights}')"
   ]
  },
  {
   "cell_type": "code",
   "execution_count": 71,
   "metadata": {},
   "outputs": [
    {
     "name": "stdout",
     "output_type": "stream",
     "text": [
      "Counts are \n",
      "[0, 1658322, 5022673, 2507157, 47208762, 20522035, 51577, 15134578, 0]\n",
      "\n",
      "Weights are\n",
      "====================\n",
      "\n",
      "Noise: 0.0\n",
      "Vehicle: 7.93444940126224\n",
      "Person: 2.61969513046141\n",
      "Objects: 5.248124469269376\n",
      "Ground: 0.2787167348298606\n",
      "Buildings: 0.6411582477078905\n",
      "Vegetation: 255.1112317505865\n",
      "Other: 0.8693914029185353\n",
      "Ego: 0.0\n",
      "\n",
      " ================= \n",
      "\n",
      "Weights sum to one: False (272.70276713703583)\n"
     ]
    },
    {
     "name": "stderr",
     "output_type": "stream",
     "text": [
      "/usr/local/lib/python3.6/dist-packages/ipykernel_launcher.py:6: RuntimeWarning: divide by zero encountered in long_scalars\n",
      "  \n"
     ]
    }
   ],
   "source": [
    "print(f'Counts are \\n{class_counts}')\n",
    "total_counts = np.sum(class_counts)\n",
    "\n",
    "weights = np.zeros(n_classes)\n",
    "for i in range(0,n_classes):\n",
    "    weights[i] = total_counts / (7 * class_counts[i])\n",
    "\n",
    "weights[0] = 0\n",
    "weights[8] = 0\n",
    "# weights /= np.sum(weights)\n",
    "    \n",
    "print(f'\\nWeights are\\n====================\\n')\n",
    "print(f'Noise: {weights[0]}')\n",
    "print(f'Vehicle: {weights[1]}')\n",
    "print(f'Person: {weights[2]}')\n",
    "print(f'Objects: {weights[3]}')\n",
    "print(f'Ground: {weights[4]}')\n",
    "print(f'Buildings: {weights[5]}')\n",
    "print(f'Vegetation: {weights[6]}')\n",
    "print(f'Other: {weights[7]}')\n",
    "print(f'Ego: {weights[8]}')\n",
    "\n",
    "print(f'\\n ================= \\n')\n",
    "print(f'Weights sum to one: {(np.sum(weights) - 1.0) < 1e-3} ({np.sum(weights)})')"
   ]
  }
 ],
 "metadata": {
  "kernelspec": {
   "display_name": "Python 3",
   "language": "python",
   "name": "python3"
  },
  "language_info": {
   "codemirror_mode": {
    "name": "ipython",
    "version": 3
   },
   "file_extension": ".py",
   "mimetype": "text/x-python",
   "name": "python",
   "nbconvert_exporter": "python",
   "pygments_lexer": "ipython3",
   "version": "3.6.9"
  }
 },
 "nbformat": 4,
 "nbformat_minor": 4
}
