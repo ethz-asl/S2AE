{
 "cells": [
  {
   "cell_type": "markdown",
   "metadata": {},
   "source": [
    "## Generation of the GT for Training"
   ]
  },
  {
   "cell_type": "code",
   "execution_count": 1,
   "metadata": {},
   "outputs": [
    {
     "name": "stdout",
     "output_type": "stream",
     "text": [
      "Jupyter environment detected. Enabling Open3D WebVisualizer.\n",
      "[Open3D INFO] WebRTC GUI backend enabled.\n",
      "[Open3D INFO] WebRTCWindowSystem: HTTP handshake server disabled.\n"
     ]
    }
   ],
   "source": [
    "import math\n",
    "import sys\n",
    "import time\n",
    "\n",
    "import matplotlib.pyplot as plt\n",
    "import numpy as np\n",
    "import pandas as pd\n",
    "from scipy import spatial\n",
    "\n",
    "from tqdm.auto import tqdm, trange\n",
    "from tqdm.contrib.concurrent import process_map, thread_map\n",
    "\n",
    "from sphere import Sphere\n",
    "from visualize import Visualize\n",
    "    \n",
    "%matplotlib inline\n",
    "%load_ext autoreload\n",
    "%autoreload 2"
   ]
  },
  {
   "cell_type": "code",
   "execution_count": 2,
   "metadata": {},
   "outputs": [
    {
     "name": "stdout",
     "output_type": "stream",
     "text": [
      "Loading from sem clouds from /media/scratch/berlukas/nuscenes/clouds1_bw120_range_sem.npy\n",
      "Shape of sem clouds is (11230, 2, 240, 240)\n"
     ]
    }
   ],
   "source": [
    "# export_ds = '/media/berlukas/Data2/datasets/nuscenes/processed/'\n",
    "export_ds = '/media/scratch/berlukas/nuscenes'\n",
    "sem_clouds_filename = f\"{export_ds}/clouds1_bw120_range_sem.npy\"\n",
    "\n",
    "print(f\"Loading from sem clouds from {sem_clouds_filename}\")\n",
    "sem_cloud_features = np.load(sem_clouds_filename)\n",
    "print(f\"Shape of sem clouds is {sem_cloud_features.shape}\")"
   ]
  },
  {
   "cell_type": "code",
   "execution_count": 2,
   "metadata": {},
   "outputs": [
    {
     "name": "stdout",
     "output_type": "stream",
     "text": [
      "Loading from sem clouds from /media/scratch/berlukas/nuscenes/kitti_processed/clouds-08.npy\n",
      "Shape of sem clouds is (4071, 3, 200, 200)\n"
     ]
    }
   ],
   "source": [
    "# export_ds = '/mnt/data/datasets/nuscenes/processed'\n",
    "export_ds = '/media/scratch/berlukas/nuscenes/kitti_processed'\n",
    "sem_clouds_filename = f\"{export_ds}/clouds-08.npy\"\n",
    "\n",
    "print(f\"Loading from sem clouds from {sem_clouds_filename}\")\n",
    "sem_cloud_features = np.load(sem_clouds_filename)\n",
    "print(f\"Shape of sem clouds is {sem_cloud_features.shape}\")"
   ]
  },
  {
   "cell_type": "code",
   "execution_count": 3,
   "metadata": {},
   "outputs": [
    {
     "name": "stdout",
     "output_type": "stream",
     "text": [
      "we have in total 11467\n",
      "we will keep 5414 for training and 6053 for validation.\n"
     ]
    }
   ],
   "source": [
    "# only processing val\n",
    "# n_clouds = sem_cloud_features.shape[0]\n",
    "# print(f'we have in total {n_clouds}')\n",
    "# n_train = n_clouds - 6053\n",
    "# n_val = n_clouds - n_train\n",
    "# print(f'we will keep {n_train} for training and {n_val} for validation.')\n",
    "# sem_cloud_features = sem_cloud_features[n_train:, :, :, :]"
   ]
  },
  {
   "cell_type": "code",
   "execution_count": 3,
   "metadata": {},
   "outputs": [
    {
     "data": {
      "application/vnd.jupyter.widget-view+json": {
       "model_id": "1f50cafd58da4dd79e9edde9fe099c77",
       "version_major": 2,
       "version_minor": 0
      },
      "text/plain": [
       "  0%|          | 0/11230 [00:00<?, ?it/s]"
      ]
     },
     "metadata": {},
     "output_type": "display_data"
    },
    {
     "name": "stdout",
     "output_type": "stream",
     "text": [
      "shape of classes is (11230, 57600)\n",
      "we have 33 classes in the dataset.\n"
     ]
    }
   ],
   "source": [
    "n_clouds = sem_cloud_features.shape[0]\n",
    "idx_sem = 1\n",
    "classes = [None] * n_clouds\n",
    "for i in tqdm(range(0, n_clouds)):\n",
    "    sem_cloud = np.reshape(sem_cloud_features[i,:,:,:], (2, -1)).T    \n",
    "    classes[i] = sem_cloud[:, idx_sem]\n",
    "classes = np.array(classes[:])\n",
    "print(f\"shape of classes is {classes.shape}\")\n",
    "n_unique_classes = len(np.unique(classes))\n",
    "print(f\"we have {n_unique_classes} classes in the dataset.\")"
   ]
  },
  {
   "cell_type": "code",
   "execution_count": 93,
   "metadata": {},
   "outputs": [
    {
     "data": {
      "application/vnd.jupyter.widget-view+json": {
       "model_id": "b7c2708923604fb296b9465e5754913c",
       "version_major": 2,
       "version_minor": 0
      },
      "text/plain": [
       "HBox(children=(FloatProgress(value=0.0, max=4071.0), HTML(value='')))"
      ]
     },
     "metadata": {},
     "output_type": "display_data"
    },
    {
     "name": "stdout",
     "output_type": "stream",
     "text": [
      "\n",
      "shape of classes is (4071, 40000)\n",
      "we have 29 classes in the dataset.\n",
      "[ -1.   0.   1.  10.  11.  15.  18.  20.  30.  31.  32.  40.  44.  48.\n",
      "  49.  50.  51.  52.  60.  70.  71.  72.  80.  81.  99. 252. 253. 254.\n",
      " 259.]\n"
     ]
    }
   ],
   "source": [
    "n_clouds = sem_cloud_features.shape[0]\n",
    "idx_sem = 2\n",
    "classes = [None] * n_clouds\n",
    "for i in tqdm(range(0, n_clouds)):\n",
    "    sem_cloud = np.reshape(sem_cloud_features[i,:,:,:], (3, -1)).T    \n",
    "    classes[i] = sem_cloud[:,idx_sem]\n",
    "classes = np.array(classes[:])\n",
    "print(f\"shape of classes is {classes.shape}\")\n",
    "unique_classes = np.unique(classes)\n",
    "n_unique_classes = len(unique_classes)\n",
    "print(f\"we have {n_unique_classes} classes in the dataset.\")\n",
    "print(unique_classes)"
   ]
  },
  {
   "cell_type": "markdown",
   "metadata": {},
   "source": [
    "## Iterate over the features and generate the GT"
   ]
  },
  {
   "cell_type": "code",
   "execution_count": 4,
   "metadata": {},
   "outputs": [],
   "source": [
    "def map_nuscenes_label_old(label):\n",
    "    noise = [0]\n",
    "    vehicle = [1,2,3,4,5,6,7,8,9,10,11]\n",
    "    living = [12,13,14,15,16,17,18,19]\n",
    "    objects = [20,21,22,23]\n",
    "    ground = [24,25,26,27]\n",
    "    buildings = [28]\n",
    "    vegetation = [29]\n",
    "    other = [30]\n",
    "    ego = [31]\n",
    "    \n",
    "    if label in noise:\n",
    "        return 0\n",
    "    elif label in vehicle:\n",
    "        return 1\n",
    "    elif label in living:\n",
    "        return 2\n",
    "    elif label in objects:\n",
    "        return 3\n",
    "    elif label in ground:\n",
    "        return 4\n",
    "    elif label in buildings:\n",
    "        return 5\n",
    "    elif label in vegetation:\n",
    "        return 6\n",
    "    elif label in other:\n",
    "        return 7\n",
    "    elif label in ego:\n",
    "        return 8\n",
    "    else:\n",
    "        return 0\n",
    "\n",
    "def map_nuscenes_label(label):\n",
    "    noise = [0, 1, 5, 7, 8, 10, 11, 13, 19, 29, 31]\n",
    "    living = [2,3,4,6]\n",
    "    vehicle = [14,15,16,17,18,20,21,22,23]\n",
    "    objects = [9,12]\n",
    "    ground = [24,25,26,27]\n",
    "    buildings = [28]\n",
    "    vegetation = [30]\n",
    "    \n",
    "    if label in noise:\n",
    "        return 0\n",
    "    elif label in vehicle:\n",
    "        return 1\n",
    "    elif label in living:\n",
    "        return 2\n",
    "    elif label in objects:\n",
    "        return 3\n",
    "    elif label in ground:\n",
    "        return 4\n",
    "    elif label in buildings:\n",
    "        return 5\n",
    "    elif label in vegetation:\n",
    "        return 6    \n",
    "    else:\n",
    "        return 0    \n",
    "    \n",
    "def map_kitti_to_nuscenes_label(label):\n",
    "    noise = [0, 1, 11, 15, 16, 20,31,32, 44, 60, 71, 72, 80,81,99,253,255,256,259, 52]\n",
    "    living = [30,254]\n",
    "    vehicle = [10,13,18,252,257,258]\n",
    "    objects = [51, 80, 81]\n",
    "    ground = [40,48,49]\n",
    "    buildings = [50]\n",
    "    vegetation = [70, 71]\n",
    "    \n",
    "    if label in noise:\n",
    "        return 0\n",
    "    elif label in vehicle:\n",
    "        return 1\n",
    "    elif label in living:\n",
    "        return 2\n",
    "    elif label in objects:\n",
    "        return 3\n",
    "    elif label in ground:\n",
    "        return 4\n",
    "    elif label in buildings:\n",
    "        return 5\n",
    "    elif label in vegetation:\n",
    "        return 6    \n",
    "    else:\n",
    "        if label >= 0:\n",
    "            print(f'WARNING CLASS LABEL {label} not handled!!!!')\n",
    "        return 0    \n",
    "    \n",
    "def map_nuscenes_label_16(label):                       \n",
    "    noise = [1, 5, 6, 8, 10, 11, 13, 19, 20, 0, 29, 31]\n",
    "    barrier = [9]\n",
    "    bicycle = [14]\n",
    "    bus = [15, 16]\n",
    "    car = [17]\n",
    "    construction_vehicle = [18]\n",
    "    motorcycle = [21]\n",
    "    pedestrian = [2, 3, 4, 6]\n",
    "    traffic_cone = [12]\n",
    "    trailer = [22]\n",
    "    truck = [23]\n",
    "    driveable_surface = [24]\n",
    "    other_flat = [25]\n",
    "    sidewalk = [26]\n",
    "    terrain = [27]\n",
    "    manmade = [28]\n",
    "    vegetation = [30]\n",
    "        \n",
    "    if label in noise:\n",
    "        return 0\n",
    "    elif label in barrier:\n",
    "        return 1\n",
    "    elif label in bicycle:\n",
    "        return 2\n",
    "    elif label in bus:\n",
    "        return 3\n",
    "    elif label in car:\n",
    "        return 4\n",
    "    elif label in construction_vehicle:\n",
    "        return 5\n",
    "    elif label in motorcycle:\n",
    "        return 6\n",
    "    elif label in pedestrian:\n",
    "        return 7\n",
    "    elif label in traffic_cone:\n",
    "        return 8\n",
    "    elif label in trailer:\n",
    "        return 9\n",
    "    elif label in truck:\n",
    "        return 10\n",
    "    elif label in driveable_surface:\n",
    "        return 11\n",
    "    elif label in other_flat:\n",
    "        return 12\n",
    "    elif label in sidewalk:\n",
    "        return 13\n",
    "    elif label in terrain:\n",
    "        return 14\n",
    "    elif label in manmade:\n",
    "        return 15\n",
    "    elif label in vegetation:\n",
    "        return 16    \n",
    "    else:\n",
    "        return 0"
   ]
  },
  {
   "cell_type": "code",
   "execution_count": 7,
   "metadata": {},
   "outputs": [
    {
     "name": "stdout",
     "output_type": "stream",
     "text": [
      "Iterating for 11230 features and data of size: (240/240)\n"
     ]
    },
    {
     "data": {
      "application/vnd.jupyter.widget-view+json": {
       "model_id": "25872ce071294efa90926cfe6d9a2976",
       "version_major": 2,
       "version_minor": 0
      },
      "text/plain": [
       "  0%|          | 0/11230 [00:00<?, ?it/s]"
      ]
     },
     "metadata": {},
     "output_type": "display_data"
    }
   ],
   "source": [
    "n_features = sem_cloud_features.shape[0]\n",
    "n_rows = sem_cloud_features.shape[2]\n",
    "n_cols = sem_cloud_features.shape[3]\n",
    "idx_sem = 1\n",
    "\n",
    "print(f'Iterating for {n_features} features and data of size: ({n_rows}/{n_cols})')\n",
    "for feature in tqdm(range(n_features)):\n",
    "    for i in range(n_rows):\n",
    "        for j in range(n_cols):\n",
    "            cur_class = int(sem_cloud_features[feature, idx_sem, i, j])\n",
    "#             mapped_class = map_nuscenes_label_old(cur_class)\n",
    "            mapped_class = map_nuscenes_label(cur_class)            \n",
    "            sem_cloud_features[feature, idx_sem, i, j] = mapped_class"
   ]
  },
  {
   "cell_type": "code",
   "execution_count": 5,
   "metadata": {},
   "outputs": [
    {
     "data": {
      "application/vnd.jupyter.widget-view+json": {
       "model_id": "ca3159880c51408497c25a11b5873a0d",
       "version_major": 2,
       "version_minor": 0
      },
      "text/plain": [
       "HBox(children=(FloatProgress(value=0.0, max=4071.0), HTML(value='')))"
      ]
     },
     "metadata": {},
     "output_type": "display_data"
    }
   ],
   "source": [
    "# sem_cloud_features = sem_cloud_features[0:10,:,:,:]\n",
    "idx_sem = 2\n",
    "n_data = sem_cloud_features.shape[0]\n",
    "n_features = sem_cloud_features.shape[1]\n",
    "n_rows = sem_cloud_features.shape[2]\n",
    "n_cols = sem_cloud_features.shape[3]\n",
    "\n",
    "idx_intensity = 1;\n",
    "for feature in tqdm(range(n_data)):\n",
    "    for i in range(n_rows):\n",
    "        for j in range(n_cols):\n",
    "            cur_class = int(sem_cloud_features[feature, idx_sem, i, j])            \n",
    "            mapped_class = map_kitti_to_nuscenes_label(cur_class)\n",
    "            \n",
    "            cur_intensity = sem_cloud_features[feature, idx_intensity, i, j]\n",
    "#             if cur_intensity > 0:\n",
    "#                 cur_intensity = ((cur_intensity ) / 0.16)\n",
    "#                 cur_intensity = cur_intensity * 255 \n",
    "            \n",
    "#             mapped_class = map_nuscenes_label(cur_class)\n",
    "#             mapped_class = map_nuscenes_label_old(cur_class)\n",
    "            sem_cloud_features[feature, idx_sem, i, j] = mapped_class\n",
    "#             sem_cloud_features[feature, idx_intensity, i, j] = int(cur_intensity)\n",
    "#             if cur_intensity > 1:\n",
    "#                 print(sem_cloud_features[feature, idx_intensity, i, j])"
   ]
  },
  {
   "cell_type": "code",
   "execution_count": 8,
   "metadata": {},
   "outputs": [
    {
     "name": "stdout",
     "output_type": "stream",
     "text": [
      "Wrote features to /media/scratch/berlukas/nuscenes/sem_clouds_01_bw120.npy\n",
      "Wrote tiny features to /media/scratch/berlukas/nuscenes/sem_clouds_01_bw120_tiny.npy\n"
     ]
    }
   ],
   "source": [
    "filename = 'sem_clouds_01_bw120'\n",
    "sem_clouds_gt_filename = f'{export_ds}/{filename}.npy'\n",
    "sem_clouds_gt_tiny_filename = f'{export_ds}/{filename}_tiny.npy'\n",
    "np.save(sem_clouds_gt_filename, sem_cloud_features)\n",
    "\n",
    "n_process = 400\n",
    "np.save(sem_clouds_gt_tiny_filename, sem_cloud_features[0:n_process, :, :, :])\n",
    "\n",
    "print(f\"Wrote features to {sem_clouds_gt_filename}\")\n",
    "print(f\"Wrote tiny features to {sem_clouds_gt_tiny_filename}\")"
   ]
  },
  {
   "cell_type": "code",
   "execution_count": 8,
   "metadata": {},
   "outputs": [
    {
     "name": "stdout",
     "output_type": "stream",
     "text": [
      "we have in total 11467\n",
      "we will keep 11067 for training and 400 for validation.\n",
      "init shape is (11467, 3, 200, 200)\n",
      "training shape is (11067, 3, 200, 200), validation shape is (400, 3, 200, 200)\n"
     ]
    }
   ],
   "source": [
    "# Remove a few samples for validation\n",
    "n_clouds = sem_cloud_features.shape[0]\n",
    "print(f'we have in total {n_clouds}')\n",
    "n_val_clouds = 6053\n",
    "n_train = n_clouds - 400\n",
    "n_val = n_clouds - n_train\n",
    "print(f'we will keep {n_train} for training and {n_val} for validation.')\n",
    "\n",
    "print(f'init shape is {sem_cloud_features.shape}')\n",
    "sem_train = sem_cloud_features[:n_train, :, :, :]\n",
    "sem_val = sem_cloud_features[n_train:, :, :, :]\n",
    "print(f'training shape is {sem_train.shape}, validation shape is {sem_val.shape}')\n",
    "\n",
    "np.save(f'{export_ds}/sem_clouds3.npy', sem_train)\n",
    "np.save(f'{export_ds}/sem_clouds_val_200.npy', sem_val)"
   ]
  },
  {
   "cell_type": "code",
   "execution_count": 9,
   "metadata": {},
   "outputs": [],
   "source": [
    "sem_val_tiny = sem_val[:500, :, :, :]\n",
    "np.save(f'{export_ds}/sem_clouds_val_tiny.npy', sem_val_tiny)"
   ]
  }
 ],
 "metadata": {
  "kernelspec": {
   "display_name": "Python 3 (ipykernel)",
   "language": "python",
   "name": "python3"
  },
  "language_info": {
   "codemirror_mode": {
    "name": "ipython",
    "version": 3
   },
   "file_extension": ".py",
   "mimetype": "text/x-python",
   "name": "python",
   "nbconvert_exporter": "python",
   "pygments_lexer": "ipython3",
   "version": "3.7.5"
  }
 },
 "nbformat": 4,
 "nbformat_minor": 4
}
