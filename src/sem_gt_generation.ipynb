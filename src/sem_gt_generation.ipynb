{
 "cells": [
  {
   "cell_type": "markdown",
   "metadata": {},
   "source": [
    "## Generation of the GT for Training"
   ]
  },
  {
   "cell_type": "code",
   "execution_count": 1,
   "metadata": {},
   "outputs": [],
   "source": [
    "import math\n",
    "import sys\n",
    "import time\n",
    "\n",
    "import matplotlib.pyplot as plt\n",
    "import numpy as np\n",
    "import pandas as pd\n",
    "import open3d as o3d\n",
    "from scipy import spatial\n",
    "\n",
    "from tqdm.auto import tqdm, trange\n",
    "from tqdm.contrib.concurrent import process_map, thread_map\n",
    "\n",
    "from sphere import Sphere\n",
    "from visualize import Visualize\n",
    "    \n",
    "%matplotlib inline\n",
    "%load_ext autoreload\n",
    "%autoreload 2"
   ]
  },
  {
   "cell_type": "code",
   "execution_count": 2,
   "metadata": {},
   "outputs": [
    {
     "name": "stdout",
     "output_type": "stream",
     "text": [
      "Loading from sem clouds from /media/scratch/berlukas/nuscenes/clouds_125.npy\n",
      "Shape of sem clouds is (11230, 3, 250, 250)\n"
     ]
    }
   ],
   "source": [
    "#export_ds = '/mnt/data/datasets/nuscenes/processed'\n",
    "export_ds = '/media/scratch/berlukas/nuscenes'\n",
    "sem_clouds_filename = f\"{export_ds}/clouds_125.npy\"\n",
    "\n",
    "print(f\"Loading from sem clouds from {sem_clouds_filename}\")\n",
    "sem_cloud_features = np.load(sem_clouds_filename)\n",
    "print(f\"Shape of sem clouds is {sem_cloud_features.shape}\")"
   ]
  },
  {
   "cell_type": "code",
   "execution_count": null,
   "metadata": {},
   "outputs": [],
   "source": [
    "n_clouds = sem_cloud_features.shape[0]\n",
    "classes = [None] * n_clouds\n",
    "for i in tqdm(range(0, n_clouds)):\n",
    "    sem_cloud = np.reshape(sem_cloud_features[i,:,:,:], (2, -1)).T    \n",
    "    classes[i] = sem_cloud[:,1]\n",
    "classes = np.array(classes[:])\n",
    "print(f\"shape of classes is {classes.shape}\")\n",
    "n_unique_classes = len(np.unique(classes))\n",
    "print(f\"we have {n_unique_classes} classes in the dataset.\")"
   ]
  },
  {
   "cell_type": "code",
   "execution_count": 3,
   "metadata": {},
   "outputs": [
    {
     "data": {
      "application/vnd.jupyter.widget-view+json": {
       "model_id": "27f1e3b2e09c4f57b6493bc5517be4f0",
       "version_major": 2,
       "version_minor": 0
      },
      "text/plain": [
       "HBox(children=(FloatProgress(value=0.0, max=11230.0), HTML(value='')))"
      ]
     },
     "metadata": {},
     "output_type": "display_data"
    },
    {
     "name": "stdout",
     "output_type": "stream",
     "text": [
      "\n",
      "shape of classes is (11230, 62500)\n",
      "we have 33 classes in the dataset.\n"
     ]
    }
   ],
   "source": [
    "n_clouds = sem_cloud_features.shape[0]\n",
    "idx_sem = 2\n",
    "classes = [None] * n_clouds\n",
    "for i in tqdm(range(0, n_clouds)):\n",
    "    sem_cloud = np.reshape(sem_cloud_features[i,:,:,:], (3, -1)).T    \n",
    "    classes[i] = sem_cloud[:,idx_sem]\n",
    "classes = np.array(classes[:])\n",
    "print(f\"shape of classes is {classes.shape}\")\n",
    "n_unique_classes = len(np.unique(classes))\n",
    "print(f\"we have {n_unique_classes} classes in the dataset.\")"
   ]
  },
  {
   "cell_type": "markdown",
   "metadata": {},
   "source": [
    "## Iterate over the features and generate the GT"
   ]
  },
  {
   "cell_type": "code",
   "execution_count": 4,
   "metadata": {},
   "outputs": [],
   "source": [
    "def map_nuscenes_label(label):\n",
    "    noise = []\n",
    "    vehicle = [1,2,3,4,5,6,7,8,9,10,11]\n",
    "    living = [12,13,14,15,16,17,18,19]\n",
    "    objects = [20,21,22,23]\n",
    "    ground = [24,25,26,27]\n",
    "    buildings = [28]\n",
    "    vegetation = [29]\n",
    "    other = [30,0]\n",
    "    ego = [31]\n",
    "    \n",
    "    if label in noise:\n",
    "        return 0\n",
    "    elif label in vehicle:\n",
    "        return 1\n",
    "    elif label in living:\n",
    "        return 2\n",
    "    elif label in objects:\n",
    "        return 3\n",
    "    elif label in ground:\n",
    "        return 4\n",
    "    elif label in buildings:\n",
    "        return 5\n",
    "    elif label in vegetation:\n",
    "        return 6\n",
    "    elif label in other:\n",
    "        return 7\n",
    "    elif label in ego:\n",
    "        return 8\n",
    "    else:\n",
    "        return 0"
   ]
  },
  {
   "cell_type": "code",
   "execution_count": null,
   "metadata": {},
   "outputs": [],
   "source": [
    "n_features = sem_cloud_features.shape[0]\n",
    "n_rows = sem_cloud_features.shape[2]\n",
    "n_cols = sem_cloud_features.shape[3]\n",
    "idx_sem = 1\n",
    "\n",
    "reshaped_gt = np.zeros((n_features, n_rows, n_cols))\n",
    "for feature in tqdm(range(n_features)):\n",
    "    for i in range(n_rows):\n",
    "        for j in range(n_cols):\n",
    "            cur_class = int(sem_cloud_features[feature, idx_sem, i, j])\n",
    "            mapped_class = map_nuscenes_label(cur_class)\n",
    "            reshaped_gt[feature, i, j] = mapped_class"
   ]
  },
  {
   "cell_type": "code",
   "execution_count": 5,
   "metadata": {},
   "outputs": [
    {
     "data": {
      "application/vnd.jupyter.widget-view+json": {
       "model_id": "9b058b5001d24f45969abbd3b213a639",
       "version_major": 2,
       "version_minor": 0
      },
      "text/plain": [
       "HBox(children=(FloatProgress(value=0.0, max=11230.0), HTML(value='')))"
      ]
     },
     "metadata": {},
     "output_type": "display_data"
    },
    {
     "name": "stdout",
     "output_type": "stream",
     "text": [
      "\n"
     ]
    }
   ],
   "source": [
    "n_data = sem_cloud_features.shape[0]\n",
    "n_features = sem_cloud_features.shape[1]\n",
    "n_rows = sem_cloud_features.shape[2]\n",
    "n_cols = sem_cloud_features.shape[3]\n",
    "\n",
    "for feature in tqdm(range(n_data)):\n",
    "    for i in range(n_rows):\n",
    "        for j in range(n_cols):\n",
    "            cur_class = int(sem_cloud_features[feature, idx_sem, i, j])\n",
    "            mapped_class = map_nuscenes_label(cur_class)\n",
    "            sem_cloud_features[feature, idx_sem, i, j] = mapped_class"
   ]
  },
  {
   "cell_type": "code",
   "execution_count": 6,
   "metadata": {},
   "outputs": [
    {
     "name": "stdout",
     "output_type": "stream",
     "text": [
      "Wrote features to /media/scratch/berlukas/nuscenes/sem_clouds_125.npy\n"
     ]
    }
   ],
   "source": [
    "sem_clouds_gt_filename = f\"{export_ds}/sem_clouds_125.npy\"\n",
    "# np.save(sem_clouds_gt_filename, reshaped_gt)\n",
    "np.save(sem_clouds_gt_filename, sem_cloud_features)\n",
    "print(f\"Wrote features to {sem_clouds_gt_filename}\")"
   ]
  },
  {
   "cell_type": "code",
   "execution_count": null,
   "metadata": {},
   "outputs": [],
   "source": [
    "np.count_nonzero(classes[:,:] == 19) / np.count_nonzero(classes[:,:] > 0)"
   ]
  },
  {
   "cell_type": "code",
   "execution_count": null,
   "metadata": {},
   "outputs": [],
   "source": [
    "np.count_nonzero(classes[:,:] == 19)"
   ]
  },
  {
   "cell_type": "code",
   "execution_count": null,
   "metadata": {},
   "outputs": [],
   "source": [
    "np.count_nonzero(classes[:,:] == 0)"
   ]
  },
  {
   "cell_type": "code",
   "execution_count": null,
   "metadata": {},
   "outputs": [],
   "source": [
    "np.count_nonzero(sem_cloud_features[:, 1, :, :] == 0)"
   ]
  }
 ],
 "metadata": {
  "kernelspec": {
   "display_name": "Python 3",
   "language": "python",
   "name": "python3"
  },
  "language_info": {
   "codemirror_mode": {
    "name": "ipython",
    "version": 3
   },
   "file_extension": ".py",
   "mimetype": "text/x-python",
   "name": "python",
   "nbconvert_exporter": "python",
   "pygments_lexer": "ipython3",
   "version": "3.6.7"
  }
 },
 "nbformat": 4,
 "nbformat_minor": 4
}
