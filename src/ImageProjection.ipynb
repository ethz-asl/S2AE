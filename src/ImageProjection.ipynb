{
 "cells": [
  {
   "cell_type": "markdown",
   "metadata": {},
   "source": [
    "# Image Projection"
   ]
  },
  {
   "cell_type": "code",
   "execution_count": 1,
   "metadata": {},
   "outputs": [
    {
     "name": "stdout",
     "output_type": "stream",
     "text": [
      "======\n",
      "Loading NuScenes tables for version v1.0-mini...\n",
      "Loading nuScenes-lidarseg...\n",
      "32 category,\n",
      "8 attribute,\n",
      "4 visibility,\n",
      "911 instance,\n",
      "12 sensor,\n",
      "120 calibrated_sensor,\n",
      "31206 ego_pose,\n",
      "8 log,\n",
      "10 scene,\n",
      "404 sample,\n",
      "31206 sample_data,\n",
      "18538 sample_annotation,\n",
      "4 map,\n",
      "404 lidarseg,\n",
      "Done loading in 0.332 seconds.\n",
      "======\n",
      "Reverse indexing ...\n",
      "Done reverse indexing in 0.1 seconds.\n",
      "======\n"
     ]
    }
   ],
   "source": [
    "%matplotlib inline\n",
    "from nuscenes.nuscenes import NuScenes\n",
    "from pyquaternion.quaternion import Quaternion\n",
    "from nuscenes.utils.geometry_utils import transform_matrix\n",
    "import shutil\n",
    "\n",
    "\n",
    "dataset_path = '/mnt/data/datasets/nuscenes/v1.0-mini/'\n",
    "nusc = NuScenes(version='v1.0-mini', dataroot=dataset_path, verbose=True)"
   ]
  },
  {
   "cell_type": "code",
   "execution_count": null,
   "metadata": {},
   "outputs": [],
   "source": [
    "nusc.sensor"
   ]
  },
  {
   "cell_type": "code",
   "execution_count": 2,
   "metadata": {},
   "outputs": [],
   "source": [
    "#all_camera_tokens = ['725903f5b62f56118f4094b46a4470d8', 'ce89d4f3050b5892b33b3d328c5e82a3', 'a89643a5de885c6486df2232dc954da2',\n",
    "#                     'ec4b5d41840a509984f7ec36419d4c09', '2f7ad058f1ac5557bf321c7543758f43', 'ca7dba2ec9f95951bbe67246f7f2c3f7']\n",
    "#lidar_token = ['dc8b396651c05aedbb9cdaae573bb567']\n",
    "\n",
    "all_cam_strings = ['CAM_FRONT','CAM_FRONT_RIGHT','CAM_BACK_RIGHT','CAM_BACK','CAM_BACK_LEFT','CAM_FRONT_LEFT']\n",
    "lidar_string = ['LIDAR_TOP']"
   ]
  },
  {
   "cell_type": "code",
   "execution_count": null,
   "metadata": {},
   "outputs": [],
   "source": [
    "calibrations = {}\n",
    "for csensor in nusc.calibrated_sensor:\n",
    "    token = csensor['sensor_token']\n",
    "    #if token in all_camera_tokens:\n",
    "    if token == '725903f5b62f56118f4094b46a4470d8':\n",
    "        print(f\"Found camera: {csensor['rotation']} and {csensor['translation']}\")"
   ]
  },
  {
   "cell_type": "code",
   "execution_count": 11,
   "metadata": {},
   "outputs": [
    {
     "name": "stdout",
     "output_type": "stream",
     "text": [
      "number of scenes: 10\n",
      "Intrinsics: [[1252.8131021185304, 0.0, 826.588114781398], [0.0, 1252.8131021185304, 469.9846626224581], [0.0, 0.0, 1.0]]\n",
      "Exstrinsics: \n",
      "[[ 0.01026021  0.00843345  0.9999118   1.72200568]\n",
      " [-0.99987258  0.01231626  0.01015593  0.00475453]\n",
      " [-0.01222952 -0.99988859  0.00855874  1.49491292]\n",
      " [ 0.          0.          0.          1.        ]]\n"
     ]
    }
   ],
   "source": [
    "print(f\"number of scenes: {len(nusc.scene)}\")\n",
    "#for scene in nusc.scene:\n",
    "scene = nusc.scene[3]\n",
    "    \n",
    "extrinsics = {}\n",
    "intrinsics = {}\n",
    "for cam_str in all_cam_strings:\n",
    "    first_sample_token = scene['first_sample_token']\n",
    "    sample = nusc.get('sample', first_sample_token)\n",
    "    cam_data = nusc.get('sample_data', sample['data'][cam_str])\n",
    "    sensor = nusc.get('calibrated_sensor', cam_data['calibrated_sensor_token'])\n",
    "    T_B_C = transform_matrix(sensor[\"translation\"], Quaternion(sensor[\"rotation\"]))\n",
    "    extrinsics[cam_str] = T_B_C\n",
    "    intrinsics[cam_str] = sensor['camera_intrinsic']\n",
    "    \n",
    "print(f'Intrinsics: {intrinsics[\"CAM_FRONT\"]}')\n",
    "print(f'Exstrinsics: \\n{extrinsics[\"CAM_FRONT\"]}')"
   ]
  },
  {
   "cell_type": "code",
   "execution_count": 24,
   "metadata": {},
   "outputs": [
    {
     "name": "stdout",
     "output_type": "stream",
     "text": [
      "Exstrinsics: \n",
      "[[-5.42795004e-04  9.98930699e-01  4.62294677e-02  9.85793000e-01]\n",
      " [-9.99995492e-01 -4.05693167e-04 -2.97501151e-03  0.00000000e+00]\n",
      " [-2.95307535e-03 -4.62308742e-02  9.98926417e-01  1.84019000e+00]\n",
      " [ 0.00000000e+00  0.00000000e+00  0.00000000e+00  1.00000000e+00]]\n"
     ]
    }
   ],
   "source": [
    "scene = nusc.scene[3]\n",
    "\n",
    "first_sample_token = scene['first_sample_token']\n",
    "sample = nusc.get('sample', first_sample_token)\n",
    "cam_data = nusc.get('sample_data', sample['data'][lidar_string[0]])\n",
    "sensor = nusc.get('calibrated_sensor', cam_data['calibrated_sensor_token'])\n",
    "T_E_C = transform_matrix(sensor[\"translation\"], Quaternion(sensor[\"rotation\"]))\n",
    "extrinsics[lidar_string[0]] = T_E_C\n",
    "\n",
    "print(f'Exstrinsics: \\n{extrinsics[lidar_string[0]]}')"
   ]
  },
  {
   "cell_type": "code",
   "execution_count": 26,
   "metadata": {},
   "outputs": [
    {
     "data": {
      "text/plain": [
       "array([[-5.42648302e-04, -2.31549730e-02,  8.23043874e-05,\n",
       "         1.74724322e+03],\n",
       "       [-2.31188570e-02, -4.05416599e-04, -8.56309169e-05,\n",
       "         0.00000000e+00],\n",
       "       [ 7.22417630e-06,  1.32841879e-03,  9.98510950e-01,\n",
       "         0.00000000e+00],\n",
       "       [ 0.00000000e+00,  0.00000000e+00,  0.00000000e+00,\n",
       "         1.00000000e+00]])"
      ]
     },
     "execution_count": 26,
     "metadata": {},
     "output_type": "execute_result"
    }
   ],
   "source": [
    "poserecord = nusc.get('ego_pose', cam_data['ego_pose_token'])\n",
    "T_G_E = transform_matrix(poserecord[\"translation\"], Quaternion(poserecord[\"rotation\"]))\n",
    "T_G_C = T_G_E * T_E_C\n",
    "T_G_C"
   ]
  },
  {
   "cell_type": "code",
   "execution_count": 73,
   "metadata": {},
   "outputs": [
    {
     "name": "stdout",
     "output_type": "stream",
     "text": [
      "Copy /mnt/data/datasets/nuscenes/v1.0-mini/samples/CAM_FRONT/n015-2018-07-24-11-22-45+0800__CAM_FRONT__1532402927612460.jpg to /mnt/data/datasets/nuscenes/processed/CAM_FRONT/\n",
      "Copy /mnt/data/datasets/nuscenes/v1.0-mini/samples/CAM_FRONT_RIGHT/n015-2018-07-24-11-22-45+0800__CAM_FRONT_RIGHT__1532402927620339.jpg to /mnt/data/datasets/nuscenes/processed/CAM_FRONT_RIGHT/\n",
      "Copy /mnt/data/datasets/nuscenes/v1.0-mini/samples/CAM_BACK_RIGHT/n015-2018-07-24-11-22-45+0800__CAM_BACK_RIGHT__1532402927627893.jpg to /mnt/data/datasets/nuscenes/processed/CAM_BACK_RIGHT/\n",
      "Copy /mnt/data/datasets/nuscenes/v1.0-mini/samples/CAM_BACK/n015-2018-07-24-11-22-45+0800__CAM_BACK__1532402927637525.jpg to /mnt/data/datasets/nuscenes/processed/CAM_BACK/\n",
      "Copy /mnt/data/datasets/nuscenes/v1.0-mini/samples/CAM_BACK_LEFT/n015-2018-07-24-11-22-45+0800__CAM_BACK_LEFT__1532402927647423.jpg to /mnt/data/datasets/nuscenes/processed/CAM_BACK_LEFT/\n",
      "Copy /mnt/data/datasets/nuscenes/v1.0-mini/samples/CAM_FRONT_LEFT/n015-2018-07-24-11-22-45+0800__CAM_FRONT_LEFT__1532402927604844.jpg to /mnt/data/datasets/nuscenes/processed/CAM_FRONT_LEFT/\n",
      "Processed scene scene-0061\n",
      "\n",
      "Copy /mnt/data/datasets/nuscenes/v1.0-mini/samples/CAM_FRONT/n008-2018-08-01-15-16-36-0400__CAM_FRONT__1533151603512404.jpg to /mnt/data/datasets/nuscenes/processed/CAM_FRONT/\n",
      "Copy /mnt/data/datasets/nuscenes/v1.0-mini/samples/CAM_FRONT_RIGHT/n008-2018-08-01-15-16-36-0400__CAM_FRONT_RIGHT__1533151603520482.jpg to /mnt/data/datasets/nuscenes/processed/CAM_FRONT_RIGHT/\n",
      "Copy /mnt/data/datasets/nuscenes/v1.0-mini/samples/CAM_BACK_RIGHT/n008-2018-08-01-15-16-36-0400__CAM_BACK_RIGHT__1533151603528113.jpg to /mnt/data/datasets/nuscenes/processed/CAM_BACK_RIGHT/\n",
      "Copy /mnt/data/datasets/nuscenes/v1.0-mini/samples/CAM_BACK/n008-2018-08-01-15-16-36-0400__CAM_BACK__1533151603537558.jpg to /mnt/data/datasets/nuscenes/processed/CAM_BACK/\n",
      "Copy /mnt/data/datasets/nuscenes/v1.0-mini/samples/CAM_BACK_LEFT/n008-2018-08-01-15-16-36-0400__CAM_BACK_LEFT__1533151603547405.jpg to /mnt/data/datasets/nuscenes/processed/CAM_BACK_LEFT/\n",
      "Copy /mnt/data/datasets/nuscenes/v1.0-mini/samples/CAM_FRONT_LEFT/n008-2018-08-01-15-16-36-0400__CAM_FRONT_LEFT__1533151603504799.jpg to /mnt/data/datasets/nuscenes/processed/CAM_FRONT_LEFT/\n",
      "Processed scene scene-0103\n",
      "\n",
      "Copy /mnt/data/datasets/nuscenes/v1.0-mini/samples/CAM_FRONT/n008-2018-08-28-16-43-51-0400__CAM_FRONT__1535489296012404.jpg to /mnt/data/datasets/nuscenes/processed/CAM_FRONT/\n",
      "Copy /mnt/data/datasets/nuscenes/v1.0-mini/samples/CAM_FRONT_RIGHT/n008-2018-08-28-16-43-51-0400__CAM_FRONT_RIGHT__1535489296020482.jpg to /mnt/data/datasets/nuscenes/processed/CAM_FRONT_RIGHT/\n",
      "Copy /mnt/data/datasets/nuscenes/v1.0-mini/samples/CAM_BACK_RIGHT/n008-2018-08-28-16-43-51-0400__CAM_BACK_RIGHT__1535489296028113.jpg to /mnt/data/datasets/nuscenes/processed/CAM_BACK_RIGHT/\n",
      "Copy /mnt/data/datasets/nuscenes/v1.0-mini/samples/CAM_BACK/n008-2018-08-28-16-43-51-0400__CAM_BACK__1535489296037558.jpg to /mnt/data/datasets/nuscenes/processed/CAM_BACK/\n",
      "Copy /mnt/data/datasets/nuscenes/v1.0-mini/samples/CAM_BACK_LEFT/n008-2018-08-28-16-43-51-0400__CAM_BACK_LEFT__1535489296047405.jpg to /mnt/data/datasets/nuscenes/processed/CAM_BACK_LEFT/\n",
      "Copy /mnt/data/datasets/nuscenes/v1.0-mini/samples/CAM_FRONT_LEFT/n008-2018-08-28-16-43-51-0400__CAM_FRONT_LEFT__1535489296004799.jpg to /mnt/data/datasets/nuscenes/processed/CAM_FRONT_LEFT/\n",
      "Processed scene scene-0553\n",
      "\n",
      "Copy /mnt/data/datasets/nuscenes/v1.0-mini/samples/CAM_FRONT/n008-2018-08-27-11-48-51-0400__CAM_FRONT__1535385092112404.jpg to /mnt/data/datasets/nuscenes/processed/CAM_FRONT/\n",
      "Copy /mnt/data/datasets/nuscenes/v1.0-mini/samples/CAM_FRONT_RIGHT/n008-2018-08-27-11-48-51-0400__CAM_FRONT_RIGHT__1535385092120482.jpg to /mnt/data/datasets/nuscenes/processed/CAM_FRONT_RIGHT/\n",
      "Copy /mnt/data/datasets/nuscenes/v1.0-mini/samples/CAM_BACK_RIGHT/n008-2018-08-27-11-48-51-0400__CAM_BACK_RIGHT__1535385092128113.jpg to /mnt/data/datasets/nuscenes/processed/CAM_BACK_RIGHT/\n",
      "Copy /mnt/data/datasets/nuscenes/v1.0-mini/samples/CAM_BACK/n008-2018-08-27-11-48-51-0400__CAM_BACK__1535385092137558.jpg to /mnt/data/datasets/nuscenes/processed/CAM_BACK/\n",
      "Copy /mnt/data/datasets/nuscenes/v1.0-mini/samples/CAM_BACK_LEFT/n008-2018-08-27-11-48-51-0400__CAM_BACK_LEFT__1535385092147405.jpg to /mnt/data/datasets/nuscenes/processed/CAM_BACK_LEFT/\n",
      "Copy /mnt/data/datasets/nuscenes/v1.0-mini/samples/CAM_FRONT_LEFT/n008-2018-08-27-11-48-51-0400__CAM_FRONT_LEFT__1535385092104799.jpg to /mnt/data/datasets/nuscenes/processed/CAM_FRONT_LEFT/\n",
      "Processed scene scene-0655\n",
      "\n",
      "Copy /mnt/data/datasets/nuscenes/v1.0-mini/samples/CAM_FRONT/n008-2018-08-30-15-16-55-0400__CAM_FRONT__1535657108262404.jpg to /mnt/data/datasets/nuscenes/processed/CAM_FRONT/\n",
      "Copy /mnt/data/datasets/nuscenes/v1.0-mini/samples/CAM_FRONT_RIGHT/n008-2018-08-30-15-16-55-0400__CAM_FRONT_RIGHT__1535657108270482.jpg to /mnt/data/datasets/nuscenes/processed/CAM_FRONT_RIGHT/\n",
      "Copy /mnt/data/datasets/nuscenes/v1.0-mini/samples/CAM_BACK_RIGHT/n008-2018-08-30-15-16-55-0400__CAM_BACK_RIGHT__1535657108278113.jpg to /mnt/data/datasets/nuscenes/processed/CAM_BACK_RIGHT/\n",
      "Copy /mnt/data/datasets/nuscenes/v1.0-mini/samples/CAM_BACK/n008-2018-08-30-15-16-55-0400__CAM_BACK__1535657108287558.jpg to /mnt/data/datasets/nuscenes/processed/CAM_BACK/\n",
      "Copy /mnt/data/datasets/nuscenes/v1.0-mini/samples/CAM_BACK_LEFT/n008-2018-08-30-15-16-55-0400__CAM_BACK_LEFT__1535657108297405.jpg to /mnt/data/datasets/nuscenes/processed/CAM_BACK_LEFT/\n",
      "Copy /mnt/data/datasets/nuscenes/v1.0-mini/samples/CAM_FRONT_LEFT/n008-2018-08-30-15-16-55-0400__CAM_FRONT_LEFT__1535657108254799.jpg to /mnt/data/datasets/nuscenes/processed/CAM_FRONT_LEFT/\n",
      "Processed scene scene-0757\n",
      "\n",
      "Copy /mnt/data/datasets/nuscenes/v1.0-mini/samples/CAM_FRONT/n015-2018-10-02-10-50-40+0800__CAM_FRONT__1538448744412460.jpg to /mnt/data/datasets/nuscenes/processed/CAM_FRONT/\n",
      "Copy /mnt/data/datasets/nuscenes/v1.0-mini/samples/CAM_FRONT_RIGHT/n015-2018-10-02-10-50-40+0800__CAM_FRONT_RIGHT__1538448744420339.jpg to /mnt/data/datasets/nuscenes/processed/CAM_FRONT_RIGHT/\n",
      "Copy /mnt/data/datasets/nuscenes/v1.0-mini/samples/CAM_BACK_RIGHT/n015-2018-10-02-10-50-40+0800__CAM_BACK_RIGHT__1538448744427893.jpg to /mnt/data/datasets/nuscenes/processed/CAM_BACK_RIGHT/\n",
      "Copy /mnt/data/datasets/nuscenes/v1.0-mini/samples/CAM_BACK/n015-2018-10-02-10-50-40+0800__CAM_BACK__1538448744437780.jpg to /mnt/data/datasets/nuscenes/processed/CAM_BACK/\n",
      "Copy /mnt/data/datasets/nuscenes/v1.0-mini/samples/CAM_BACK_LEFT/n015-2018-10-02-10-50-40+0800__CAM_BACK_LEFT__1538448744447423.jpg to /mnt/data/datasets/nuscenes/processed/CAM_BACK_LEFT/\n",
      "Copy /mnt/data/datasets/nuscenes/v1.0-mini/samples/CAM_FRONT_LEFT/n015-2018-10-02-10-50-40+0800__CAM_FRONT_LEFT__1538448744404844.jpg to /mnt/data/datasets/nuscenes/processed/CAM_FRONT_LEFT/\n",
      "Processed scene scene-0796\n",
      "\n",
      "Copy /mnt/data/datasets/nuscenes/v1.0-mini/samples/CAM_FRONT/n015-2018-10-08-15-36-50+0800__CAM_FRONT__1538984233512470.jpg to /mnt/data/datasets/nuscenes/processed/CAM_FRONT/\n",
      "Copy /mnt/data/datasets/nuscenes/v1.0-mini/samples/CAM_FRONT_RIGHT/n015-2018-10-08-15-36-50+0800__CAM_FRONT_RIGHT__1538984233520339.jpg to /mnt/data/datasets/nuscenes/processed/CAM_FRONT_RIGHT/\n",
      "Copy /mnt/data/datasets/nuscenes/v1.0-mini/samples/CAM_BACK_RIGHT/n015-2018-10-08-15-36-50+0800__CAM_BACK_RIGHT__1538984233527893.jpg to /mnt/data/datasets/nuscenes/processed/CAM_BACK_RIGHT/\n",
      "Copy /mnt/data/datasets/nuscenes/v1.0-mini/samples/CAM_BACK/n015-2018-10-08-15-36-50+0800__CAM_BACK__1538984233537525.jpg to /mnt/data/datasets/nuscenes/processed/CAM_BACK/\n",
      "Copy /mnt/data/datasets/nuscenes/v1.0-mini/samples/CAM_BACK_LEFT/n015-2018-10-08-15-36-50+0800__CAM_BACK_LEFT__1538984233547423.jpg to /mnt/data/datasets/nuscenes/processed/CAM_BACK_LEFT/\n",
      "Copy /mnt/data/datasets/nuscenes/v1.0-mini/samples/CAM_FRONT_LEFT/n015-2018-10-08-15-36-50+0800__CAM_FRONT_LEFT__1538984233504844.jpg to /mnt/data/datasets/nuscenes/processed/CAM_FRONT_LEFT/\n",
      "Processed scene scene-0916\n",
      "\n",
      "Copy /mnt/data/datasets/nuscenes/v1.0-mini/samples/CAM_FRONT/n015-2018-11-21-19-38-26+0800__CAM_FRONT__1542800367912460.jpg to /mnt/data/datasets/nuscenes/processed/CAM_FRONT/\n",
      "Copy /mnt/data/datasets/nuscenes/v1.0-mini/samples/CAM_FRONT_RIGHT/n015-2018-11-21-19-38-26+0800__CAM_FRONT_RIGHT__1542800367920339.jpg to /mnt/data/datasets/nuscenes/processed/CAM_FRONT_RIGHT/\n",
      "Copy /mnt/data/datasets/nuscenes/v1.0-mini/samples/CAM_BACK_RIGHT/n015-2018-11-21-19-38-26+0800__CAM_BACK_RIGHT__1542800367927893.jpg to /mnt/data/datasets/nuscenes/processed/CAM_BACK_RIGHT/\n",
      "Copy /mnt/data/datasets/nuscenes/v1.0-mini/samples/CAM_BACK/n015-2018-11-21-19-38-26+0800__CAM_BACK__1542800367937525.jpg to /mnt/data/datasets/nuscenes/processed/CAM_BACK/\n",
      "Copy /mnt/data/datasets/nuscenes/v1.0-mini/samples/CAM_BACK_LEFT/n015-2018-11-21-19-38-26+0800__CAM_BACK_LEFT__1542800367947423.jpg to /mnt/data/datasets/nuscenes/processed/CAM_BACK_LEFT/\n",
      "Copy /mnt/data/datasets/nuscenes/v1.0-mini/samples/CAM_FRONT_LEFT/n015-2018-11-21-19-38-26+0800__CAM_FRONT_LEFT__1542800367904844.jpg to /mnt/data/datasets/nuscenes/processed/CAM_FRONT_LEFT/\n",
      "Processed scene scene-1077\n",
      "\n",
      "Copy /mnt/data/datasets/nuscenes/v1.0-mini/samples/CAM_FRONT/n015-2018-11-21-19-38-26+0800__CAM_FRONT__1542800847912460.jpg to /mnt/data/datasets/nuscenes/processed/CAM_FRONT/\n",
      "Copy /mnt/data/datasets/nuscenes/v1.0-mini/samples/CAM_FRONT_RIGHT/n015-2018-11-21-19-38-26+0800__CAM_FRONT_RIGHT__1542800847920339.jpg to /mnt/data/datasets/nuscenes/processed/CAM_FRONT_RIGHT/\n",
      "Copy /mnt/data/datasets/nuscenes/v1.0-mini/samples/CAM_BACK_RIGHT/n015-2018-11-21-19-38-26+0800__CAM_BACK_RIGHT__1542800847927893.jpg to /mnt/data/datasets/nuscenes/processed/CAM_BACK_RIGHT/\n",
      "Copy /mnt/data/datasets/nuscenes/v1.0-mini/samples/CAM_BACK/n015-2018-11-21-19-38-26+0800__CAM_BACK__1542800847937525.jpg to /mnt/data/datasets/nuscenes/processed/CAM_BACK/\n",
      "Copy /mnt/data/datasets/nuscenes/v1.0-mini/samples/CAM_BACK_LEFT/n015-2018-11-21-19-38-26+0800__CAM_BACK_LEFT__1542800847947423.jpg to /mnt/data/datasets/nuscenes/processed/CAM_BACK_LEFT/\n",
      "Copy /mnt/data/datasets/nuscenes/v1.0-mini/samples/CAM_FRONT_LEFT/n015-2018-11-21-19-38-26+0800__CAM_FRONT_LEFT__1542800847904844.jpg to /mnt/data/datasets/nuscenes/processed/CAM_FRONT_LEFT/\n",
      "Processed scene scene-1094\n",
      "\n",
      "Copy /mnt/data/datasets/nuscenes/v1.0-mini/samples/CAM_FRONT/n015-2018-11-21-19-38-26+0800__CAM_FRONT__1542800987912460.jpg to /mnt/data/datasets/nuscenes/processed/CAM_FRONT/\n",
      "Copy /mnt/data/datasets/nuscenes/v1.0-mini/samples/CAM_FRONT_RIGHT/n015-2018-11-21-19-38-26+0800__CAM_FRONT_RIGHT__1542800987920339.jpg to /mnt/data/datasets/nuscenes/processed/CAM_FRONT_RIGHT/\n",
      "Copy /mnt/data/datasets/nuscenes/v1.0-mini/samples/CAM_BACK_RIGHT/n015-2018-11-21-19-38-26+0800__CAM_BACK_RIGHT__1542800987927893.jpg to /mnt/data/datasets/nuscenes/processed/CAM_BACK_RIGHT/\n",
      "Copy /mnt/data/datasets/nuscenes/v1.0-mini/samples/CAM_BACK/n015-2018-11-21-19-38-26+0800__CAM_BACK__1542800987937525.jpg to /mnt/data/datasets/nuscenes/processed/CAM_BACK/\n",
      "Copy /mnt/data/datasets/nuscenes/v1.0-mini/samples/CAM_BACK_LEFT/n015-2018-11-21-19-38-26+0800__CAM_BACK_LEFT__1542800987947423.jpg to /mnt/data/datasets/nuscenes/processed/CAM_BACK_LEFT/\n",
      "Copy /mnt/data/datasets/nuscenes/v1.0-mini/samples/CAM_FRONT_LEFT/n015-2018-11-21-19-38-26+0800__CAM_FRONT_LEFT__1542800987904844.jpg to /mnt/data/datasets/nuscenes/processed/CAM_FRONT_LEFT/\n",
      "Processed scene scene-1100\n",
      "\n",
      "Finished processing all scenes.\n"
     ]
    }
   ],
   "source": [
    "processed_folder = '/mnt/data/datasets/nuscenes/processed/'\n",
    "for scene in nusc.scene:\n",
    "    for cam_str in all_cam_strings:\n",
    "        first_sample_token = scene['first_sample_token']\n",
    "        sample = nusc.get('sample', first_sample_token)\n",
    "        cam_data = nusc.get('sample_data', sample['data'][cam_str])\n",
    "\n",
    "        out_dir = processed_folder + cam_str + '/'\n",
    "        jpgfile = dataset_path + cam_data['filename']\n",
    "        print(f\"Copy {jpgfile} to {out_dir}\")\n",
    "        shutil.copy(jpgfile, out_dir)\n",
    "        \n",
    "    scene_name = scene['name']\n",
    "    print(f'Processed scene {scene_name}\\n')\n",
    "print(f\"Finished processing all scenes.\")"
   ]
  },
  {
   "cell_type": "code",
   "execution_count": 67,
   "metadata": {},
   "outputs": [
    {
     "data": {
      "text/plain": [
       "'scene-1100'"
      ]
     },
     "execution_count": 67,
     "metadata": {},
     "output_type": "execute_result"
    }
   ],
   "source": []
  }
 ],
 "metadata": {
  "kernelspec": {
   "display_name": "Python 3",
   "language": "python",
   "name": "python3"
  },
  "language_info": {
   "codemirror_mode": {
    "name": "ipython",
    "version": 3
   },
   "file_extension": ".py",
   "mimetype": "text/x-python",
   "name": "python",
   "nbconvert_exporter": "python",
   "pygments_lexer": "ipython3",
   "version": "3.6.9"
  }
 },
 "nbformat": 4,
 "nbformat_minor": 4
}
