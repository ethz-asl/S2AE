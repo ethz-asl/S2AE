{
 "cells": [
  {
   "cell_type": "code",
   "execution_count": 1,
   "id": "85af9e4e-5193-41b5-895d-7bdf65c5d250",
   "metadata": {},
   "outputs": [],
   "source": [
    "import argparse\n",
    "import os\n",
    "import numpy as np\n",
    "from matplotlib import pyplot as plt\n",
    "from tqdm.auto import tqdm, trange\n",
    "from matplotlib import cm\n",
    "from functools import partial\n",
    "import random\n",
    "\n",
    "\n",
    "%matplotlib inline\n",
    "%load_ext autoreload\n",
    "%autoreload 2"
   ]
  },
  {
   "cell_type": "code",
   "execution_count": 46,
   "id": "568901ab-4cac-47a5-b403-b6f22651385e",
   "metadata": {},
   "outputs": [
    {
     "name": "stdout",
     "output_type": "stream",
     "text": [
      "Loaded 500 clouds from disk.\n",
      "Shape of one cloud is (101725, 5)\n"
     ]
    }
   ],
   "source": [
    "# export_ds = '/media/berlukas/Data2/datasets/nuscenes/processed/raw'\n",
    "export_ds = '/media/berlukas/Data/data/nuscenes/raw/'\n",
    "\n",
    "n_scans = 500\n",
    "all_sem_clouds = []\n",
    "for i in range(0, n_scans):\n",
    "    filename = f\"{export_ds}/09/scan{i}.npy\"\n",
    "    all_sem_clouds.append(np.load(filename))\n",
    "\n",
    "print(f'Loaded {len(all_sem_clouds)} clouds from disk.')\n",
    "print(f'Shape of one cloud is {all_sem_clouds[0].shape}')"
   ]
  },
  {
   "cell_type": "code",
   "execution_count": 47,
   "id": "c9ea11cb-6a08-4ba5-b418-018a6b29e15e",
   "metadata": {},
   "outputs": [
    {
     "data": {
      "application/vnd.jupyter.widget-view+json": {
       "model_id": "dc587fabaebd4db393e9af7cc19d5538",
       "version_major": 2,
       "version_minor": 0
      },
      "text/plain": [
       "  0%|          | 0/500 [00:00<?, ?it/s]"
      ]
     },
     "metadata": {},
     "output_type": "display_data"
    },
    {
     "name": "stdout",
     "output_type": "stream",
     "text": [
      "we have 27 classes in the dataset.\n",
      "They are: {0.0, 1.0, 259.0, 10.0, 11.0, 15.0, 18.0, 20.0, 30.0, 31.0, 32.0, 40.0, 44.0, 48.0, 49.0, 50.0, 51.0, 52.0, 70.0, 71.0, 72.0, 80.0, 81.0, 99.0, 252.0, 253.0, 254.0}\n"
     ]
    }
   ],
   "source": [
    "n_clouds = len(all_sem_clouds)\n",
    "idx_sem = 4\n",
    "unique_classes = set()\n",
    "for i in tqdm(range(0, n_clouds)):\n",
    "    curr = set(np.unique(all_sem_clouds[i][:,idx_sem]))\n",
    "    unique_classes.update(curr)    \n",
    "n_unique_classes = len(unique_classes)\n",
    "print(f\"we have {n_unique_classes} classes in the dataset.\")\n",
    "print(f'They are: {unique_classes}')"
   ]
  },
  {
   "cell_type": "code",
   "execution_count": 48,
   "id": "41e51317-e056-48e1-a116-f1d55da47761",
   "metadata": {},
   "outputs": [],
   "source": [
    "def map_kitti_to_nuscenes_label(label):\n",
    "    noise = [0, 1, 11, 15, 16, 20,31,32, 44, 60, 71, 72, 80,81,99,253,255,256,259, 52]\n",
    "    living = [30,254]\n",
    "    vehicle = [10,13,18,252,257,258]\n",
    "    objects = [51]\n",
    "    ground = [40,48,49]\n",
    "    buildings = [50]\n",
    "    vegetation = [70]\n",
    "    \n",
    "    if label in noise:\n",
    "        return 0\n",
    "    elif label in vehicle:\n",
    "        return 14\n",
    "    elif label in living:\n",
    "        return 2\n",
    "    elif label in objects:\n",
    "        return 9\n",
    "    elif label in ground:\n",
    "        return 24\n",
    "    elif label in buildings:\n",
    "        return 28\n",
    "    elif label in vegetation:\n",
    "        return 30\n",
    "    else:\n",
    "        if label >= 0:\n",
    "            print(f'WARNING CLASS LABEL {label} not handled!!!!')\n",
    "        return 0    \n",
    "    "
   ]
  },
  {
   "cell_type": "code",
   "execution_count": 49,
   "id": "b0732394-7378-4ddf-bd7a-89aafea4ae48",
   "metadata": {},
   "outputs": [
    {
     "data": {
      "application/vnd.jupyter.widget-view+json": {
       "model_id": "c97c5040097d4b1a9d2354400e150378",
       "version_major": 2,
       "version_minor": 0
      },
      "text/plain": [
       "  0%|          | 0/500 [00:00<?, ?it/s]"
      ]
     },
     "metadata": {},
     "output_type": "display_data"
    }
   ],
   "source": [
    "n_clouds = len(all_sem_clouds)\n",
    "for feature in tqdm(range(n_clouds)):\n",
    "    n_rows = all_sem_clouds[feature].shape[0]\n",
    "    for i in range(n_rows):        \n",
    "        cur_class = int(all_sem_clouds[feature][i, idx_sem])\n",
    "        mapped_class = map_kitti_to_nuscenes_label(cur_class)\n",
    "        all_sem_clouds[feature][i, idx_sem] = mapped_class"
   ]
  },
  {
   "cell_type": "code",
   "execution_count": 51,
   "id": "3dbc6315-bd17-424d-b3d0-012ee7239e79",
   "metadata": {},
   "outputs": [],
   "source": [
    "for i in range(0, n_scans):\n",
    "    filename = f\"{export_ds}/91/scan{i}.npy\"\n",
    "    np.save(filename, all_sem_clouds[i])"
   ]
  }
 ],
 "metadata": {
  "kernelspec": {
   "display_name": "Python 3 (ipykernel)",
   "language": "python",
   "name": "python3"
  },
  "language_info": {
   "codemirror_mode": {
    "name": "ipython",
    "version": 3
   },
   "file_extension": ".py",
   "mimetype": "text/x-python",
   "name": "python",
   "nbconvert_exporter": "python",
   "pygments_lexer": "ipython3",
   "version": "3.10.4"
  }
 },
 "nbformat": 4,
 "nbformat_minor": 5
}
