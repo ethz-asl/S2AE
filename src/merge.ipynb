{
 "cells": [
  {
   "cell_type": "markdown",
   "metadata": {},
   "source": [
    "# Merging datasets"
   ]
  },
  {
   "cell_type": "code",
   "execution_count": 1,
   "metadata": {},
   "outputs": [],
   "source": [
    "import math\n",
    "import sys\n",
    "import time\n",
    "\n",
    "import matplotlib.pyplot as plt\n",
    "import numpy as np\n",
    "import pandas as pd\n",
    "import open3d as o3d\n",
    "from scipy import spatial\n",
    "\n",
    "from tqdm.auto import tqdm, trange\n",
    "from tqdm.contrib.concurrent import process_map, thread_map\n",
    "\n",
    "from sphere import Sphere\n",
    "from visualize import Visualize\n",
    "    \n",
    "%matplotlib inline\n",
    "%load_ext autoreload\n",
    "%autoreload 2"
   ]
  },
  {
   "cell_type": "code",
   "execution_count": 2,
   "metadata": {},
   "outputs": [
    {
     "name": "stdout",
     "output_type": "stream",
     "text": [
      "Shape of sem clouds 1 is (11230, 3, 200, 200)\n",
      "Shape of sem clouds 2 is (10467, 3, 200, 200)\n"
     ]
    }
   ],
   "source": [
    "export_ds = '/mnt/data/datasets/nuscenes/processed'\n",
    "# export_ds = '/media/scratch/berlukas/nuscenes'\n",
    "sem_clouds_1_filename = f\"{export_ds}/sem_clouds.npy\"\n",
    "sem_clouds_2_filename = f\"{export_ds}/sem_clouds3.npy\"\n",
    "\n",
    "sem_cloud_1_features = np.load(sem_clouds_1_filename)\n",
    "sem_cloud_2_features = np.load(sem_clouds_2_filename)\n",
    "print(f\"Shape of sem clouds 1 is {sem_cloud_1_features.shape}\")\n",
    "print(f\"Shape of sem clouds 2 is {sem_cloud_2_features.shape}\")"
   ]
  },
  {
   "cell_type": "code",
   "execution_count": 3,
   "metadata": {},
   "outputs": [
    {
     "name": "stdout",
     "output_type": "stream",
     "text": [
      "Shape of merged sem clouds is (21697, 3, 200, 200)\n"
     ]
    }
   ],
   "source": [
    "# merge\n",
    "sem_cloud_features = np.concatenate((sem_cloud_1_features, sem_cloud_2_features))\n",
    "print(f\"Shape of merged sem clouds is {sem_cloud_features.shape}\")"
   ]
  }
 ],
 "metadata": {
  "kernelspec": {
   "display_name": "Python 3",
   "language": "python",
   "name": "python3"
  },
  "language_info": {
   "codemirror_mode": {
    "name": "ipython",
    "version": 3
   },
   "file_extension": ".py",
   "mimetype": "text/x-python",
   "name": "python",
   "nbconvert_exporter": "python",
   "pygments_lexer": "ipython3",
   "version": "3.6.7"
  }
 },
 "nbformat": 4,
 "nbformat_minor": 4
}
