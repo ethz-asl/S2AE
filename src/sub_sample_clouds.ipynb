{
 "cells": [
  {
   "cell_type": "code",
   "execution_count": 21,
   "metadata": {},
   "outputs": [
    {
     "name": "stdout",
     "output_type": "stream",
     "text": [
      "The autoreload extension is already loaded. To reload it, use:\n",
      "  %reload_ext autoreload\n"
     ]
    }
   ],
   "source": [
    "from nuscenes.nuscenes import NuScenes\n",
    "from pyquaternion.quaternion import Quaternion\n",
    "from nuscenes.utils.geometry_utils import view_points, box_in_image, BoxVisibility, transform_matrix\n",
    "from nuscenes.utils.data_classes import PointCloud, LidarPointCloud, RadarPointCloud, Box\n",
    "import numpy as np\n",
    "import shutil\n",
    "from PIL import Image\n",
    "import os.path as osp\n",
    "import cv2\n",
    "import matplotlib.pyplot as plt\n",
    "import open3d as o3d\n",
    "from matplotlib import cm\n",
    "from sphere import Sphere\n",
    "from tqdm.auto import tqdm, trange\n",
    "from tqdm.contrib.concurrent import process_map, thread_map\n",
    "from functools import partial\n",
    "from dh_grid import DHGrid\n",
    "from sphere import Sphere\n",
    "from img_sphere import ImageSphere, ColorImageSphere\n",
    "from metrics import *\n",
    "from average_meter import AverageMeter\n",
    "from utils import Utils\n",
    "\n",
    "%matplotlib inline\n",
    "%load_ext autoreload\n",
    "%autoreload 2"
   ]
  },
  {
   "cell_type": "code",
   "execution_count": 48,
   "metadata": {},
   "outputs": [
    {
     "name": "stdout",
     "output_type": "stream",
     "text": [
      "Loading from sem clouds from /media/scratch/berlukas/nuscenes/kitti_processed/sem_clouds_08.npy\n",
      "Shape of sem clouds is (1000, 3, 200, 200)\n"
     ]
    }
   ],
   "source": [
    "# export_ds = '/mnt/data/datasets/nuscenes/processed'\n",
    "export_ds = '/media/scratch/berlukas/nuscenes'\n",
    "# sem_clouds_filename = f\"{export_ds}/sem_clouds3.npy\"\n",
    "sem_clouds_filename = f\"{export_ds}/kitti_processed/sem_clouds_08.npy\"\n",
    "\n",
    "print(f\"Loading from sem clouds from {sem_clouds_filename}\")\n",
    "sem_cloud_features = np.load(sem_clouds_filename)\n",
    "print(f\"Shape of sem clouds is {sem_cloud_features.shape}\")"
   ]
  },
  {
   "cell_type": "code",
   "execution_count": 49,
   "metadata": {},
   "outputs": [
    {
     "name": "stdout",
     "output_type": "stream",
     "text": [
      "Shape of val clouds is (1000, 3, 200, 200)\n"
     ]
    }
   ],
   "source": [
    "n_total_clouds = sem_cloud_features.shape[0]\n",
    "n_take = 1000\n",
    "\n",
    "start = n_total_clouds - n_take\n",
    "end = n_total_clouds\n",
    "\n",
    "val_features = np.copy(sem_cloud_features[start:end, :, :, :])\n",
    "print(f\"Shape of val clouds is {val_features.shape}\")"
   ]
  },
  {
   "cell_type": "code",
   "execution_count": 50,
   "metadata": {},
   "outputs": [
    {
     "name": "stdout",
     "output_type": "stream",
     "text": [
      "Shape of subset clouds is (200, 3, 200, 200)\n",
      "Wrote subset features to /media/scratch/berlukas/nuscenes/sem_clouds_val_kitti_final.npy.\n"
     ]
    }
   ],
   "source": [
    "np.random.shuffle(val_features)\n",
    "\n",
    "n_subset = 200\n",
    "subset_feature = val_features[0:n_subset, :, :, :]\n",
    "print(f\"Shape of subset clouds is {subset_feature.shape}\")\n",
    "\n",
    "filename = f\"{export_ds}/sem_clouds_val_kitti_final.npy\"\n",
    "np.save(filename, subset_feature)\n",
    "print(f\"Wrote subset features to {filename}.\")"
   ]
  },
  {
   "cell_type": "code",
   "execution_count": 52,
   "metadata": {},
   "outputs": [
    {
     "name": "stdout",
     "output_type": "stream",
     "text": [
      "[ -1.   0.   2.   5.   7.  10.  12.  15.  17.  20.  22.  25.  28.  30.\n",
      "  33.  35.  38.  40.  43.  45.  48.  51.  53.  56.  58.  61.  63.  66.\n",
      "  68.  71.  73.  76.  79.  81.  84.  86.  89.  91.  94.  96.  99. 102.\n",
      " 104. 107. 109. 112. 114. 117. 119. 122. 124. 127. 130. 132. 135. 137.\n",
      " 140. 142. 145. 147. 150. 153. 155. 158. 160. 163. 165. 168. 170. 173.\n",
      " 175. 178. 181. 183. 186. 193. 201. 204. 206. 211. 221. 232. 237. 252.]\n"
     ]
    }
   ],
   "source": [
    "print(np.unique(val_features[100,1,:,:]))"
   ]
  }
 ],
 "metadata": {
  "kernelspec": {
   "display_name": "Python 3",
   "language": "python",
   "name": "python3"
  },
  "language_info": {
   "codemirror_mode": {
    "name": "ipython",
    "version": 3
   },
   "file_extension": ".py",
   "mimetype": "text/x-python",
   "name": "python",
   "nbconvert_exporter": "python",
   "pygments_lexer": "ipython3",
   "version": "3.6.7"
  }
 },
 "nbformat": 4,
 "nbformat_minor": 4
}
