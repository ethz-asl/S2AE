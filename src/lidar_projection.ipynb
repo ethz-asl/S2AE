{
 "cells": [
  {
   "cell_type": "markdown",
   "metadata": {},
   "source": [
    "## LiDAR Projection Test"
   ]
  },
  {
   "cell_type": "code",
   "execution_count": 35,
   "metadata": {},
   "outputs": [
    {
     "name": "stdout",
     "output_type": "stream",
     "text": [
      "The autoreload extension is already loaded. To reload it, use:\n",
      "  %reload_ext autoreload\n",
      "======\n",
      "Loading NuScenes tables for version v1.0-mini...\n",
      "Loading nuScenes-lidarseg...\n",
      "32 category,\n",
      "8 attribute,\n",
      "4 visibility,\n",
      "911 instance,\n",
      "12 sensor,\n",
      "120 calibrated_sensor,\n",
      "31206 ego_pose,\n",
      "8 log,\n",
      "10 scene,\n",
      "404 sample,\n",
      "31206 sample_data,\n",
      "18538 sample_annotation,\n",
      "4 map,\n",
      "404 lidarseg,\n",
      "Done loading in 0.327 seconds.\n",
      "======\n",
      "Reverse indexing ...\n",
      "Done reverse indexing in 0.1 seconds.\n",
      "======\n"
     ]
    }
   ],
   "source": [
    "from nuscenes.nuscenes import NuScenes\n",
    "from pyquaternion.quaternion import Quaternion\n",
    "from nuscenes.utils.geometry_utils import view_points, box_in_image, BoxVisibility, transform_matrix\n",
    "from nuscenes.utils.data_classes import PointCloud, LidarPointCloud, RadarPointCloud, Box\n",
    "import numpy as np\n",
    "import shutil\n",
    "from PIL import Image\n",
    "import os.path as osp\n",
    "import cv2\n",
    "import matplotlib.pyplot as plt\n",
    "import open3d as o3d\n",
    "from matplotlib import cm\n",
    "from sphere import Sphere\n",
    "from tqdm.auto import tqdm, trange\n",
    "from tqdm.contrib.concurrent import process_map, thread_map\n",
    "from functools import partial\n",
    "from dh_grid import DHGrid\n",
    "from sphere import Sphere\n",
    "from img_sphere import ImageSphere, ColorImageSphere\n",
    "from metrics import *\n",
    "from average_meter import AverageMeter\n",
    "from utils import Utils\n",
    "\n",
    "%matplotlib inline\n",
    "%load_ext autoreload\n",
    "%autoreload 2\n",
    "\n",
    "\n",
    "dataset_path = '/mnt/data/datasets/nuscenes/v1.0-mini/'\n",
    "\n",
    "nusc = NuScenes(version='v1.0-mini', dataroot=dataset_path, verbose=True)\n",
    "all_cam_strings = ['CAM_FRONT','CAM_FRONT_RIGHT','CAM_BACK_RIGHT','CAM_BACK','CAM_BACK_LEFT','CAM_FRONT_LEFT']\n",
    "lidar_string = 'LIDAR_TOP'\n",
    "bw = 200"
   ]
  },
  {
   "cell_type": "code",
   "execution_count": 36,
   "metadata": {},
   "outputs": [],
   "source": [
    "def get_semantic_point_cloud_from_token(sample_token):\n",
    "    sample = nusc.get('sample', sample_token)\n",
    "    pointsensor = nusc.get('sample_data', sample['data'][lidar_string])\n",
    "    # Load a single lidar point cloud.\n",
    "    pcl_path = osp.join(dataset_path, pointsensor['filename'])\n",
    "    pc = LidarPointCloud.from_file(pcl_path)\n",
    "    points_xyzi = pc.points.T\n",
    "    \n",
    "    # Load the semantic segmentation.\n",
    "    sample_data_token = sample['data'][lidar_string]\n",
    "    lidarseg_labels_filename = osp.join(nusc.dataroot, nusc.get('lidarseg', sample_data_token)['filename'])\n",
    "    points_label = np.fromfile(lidarseg_labels_filename, dtype=np.uint8)  # [num_points]\n",
    "\n",
    "    # Combine the two.\n",
    "    return np.column_stack((points_xyzi, points_label))\n",
    "\n",
    "def mapIntensityToRGB(i):\n",
    "    mask = np.where(i < 0)    \n",
    "    colors = cm.jet(plt.Normalize(min(i), max(i))(i))\n",
    "    colors[mask] = 0\n",
    "    return colors\n",
    "\n",
    "def prepare_for_viz(cloud):\n",
    "    pcd = o3d.geometry.PointCloud()\n",
    "    pcd.points = o3d.utility.Vector3dVector(cloud[:, 0:3])\n",
    "    if cloud.shape[1] == 4:\n",
    "        colors = mapIntensityToRGB(cloud[:, 3])\n",
    "        pcd.colors = o3d.utility.Vector3dVector(colors[:,0:3])\n",
    "    if cloud.shape[1] == 6:\n",
    "        pcd.colors = o3d.utility.Vector3dVector(cloud[:,3:6] / 255.0)\n",
    "    return pcd\n",
    "\n",
    "def visualize_pointcloud(cloud):\n",
    "    pcd = prepare_for_viz(cloud)        \n",
    "    o3d.visualization.draw_geometries([pcd])\n",
    "    \n",
    "def visualize_sphere(cloud, points):    \n",
    "    cur_sem_cloud = np.reshape(cloud, (3, -1)).T\n",
    "    points_xyz = DHGrid.ConvertPointsToEuclidean(points)        \n",
    "    points_xyzi = np.column_stack((points_xyz, cur_sem_cloud[:,0]))\n",
    "    visualize_pointcloud(points_xyzi)"
   ]
  },
  {
   "cell_type": "code",
   "execution_count": 53,
   "metadata": {},
   "outputs": [],
   "source": [
    "scene = nusc.scene[0]\n",
    "first_sample_token = scene['first_sample_token']\n",
    "pc = get_semantic_point_cloud_from_token(first_sample_token)\n",
    "visualize_pointcloud(pc)"
   ]
  },
  {
   "cell_type": "code",
   "execution_count": 58,
   "metadata": {},
   "outputs": [],
   "source": [
    "grid, points = DHGrid.CreateGrid(bw)\n",
    "sample_sphere = Sphere(pc)\n",
    "feature = sample_sphere.sampleUsingGrid(grid)\n",
    "visualize_sphere(feature, points)"
   ]
  },
  {
   "cell_type": "code",
   "execution_count": 62,
   "metadata": {},
   "outputs": [],
   "source": [
    "# visualize_pointcloud(points)\n",
    "DHGrid.ConvertPointsToEuclidean(points).shape\n",
    "xyz_grid = DHGrid.ConvertGridToEuclidean(grid)\n",
    "\n",
    "xyz_grid = np.reshape(xyz_grid, (3, -1)).T\n",
    "xyz_feature = np.reshape(feature, (3, -1)).T\n",
    "visualize_pointcloud(np.column_stack((xyz_grid, xyz_feature[:,0])))"
   ]
  },
  {
   "cell_type": "code",
   "execution_count": null,
   "metadata": {},
   "outputs": [],
   "source": []
  },
  {
   "cell_type": "code",
   "execution_count": null,
   "metadata": {},
   "outputs": [],
   "source": []
  },
  {
   "cell_type": "code",
   "execution_count": 67,
   "metadata": {},
   "outputs": [],
   "source": [
    "def __projectPointCloudOnSphere(cloud):\n",
    "    # sqrt(x^2+y^2+z^2)\n",
    "    dist = np.sqrt(cloud[:,0]**2 + cloud[:,1]**2 + cloud[:,2]**2)\n",
    "    #dist = np.sqrt(np.power(sph_image_cart[:,0],2) + np.power(sph_image_cart[:,1],2) + np.power(sph_image_cart[:,2],2))\n",
    "\n",
    "    projected = np.empty([len(cloud), 2])\n",
    "    ranges = np.empty([len(cloud), 1])\n",
    "\n",
    "    # Some values might be zero or NaN, lets ignore them for now.\n",
    "    eps = 0.000001\n",
    "    projected[:,0] = np.arccos(cloud[:,2] / (dist + eps))\n",
    "    projected[:,1] = np.mod(np.arctan2(cloud[:,1], cloud[:,0]) + 2*np.pi, 2*np.pi)\n",
    "    ranges[:,0] = dist\n",
    "    return projected, ranges\n",
    "\n",
    "def __convertSphericalToEuclidean(spherical):\n",
    "    cart_sphere = np.zeros([len(spherical), 3])\n",
    "    cart_sphere[:,0] = np.multiply(np.sin(spherical[:,0]), np.cos(spherical[:,1]))\n",
    "    cart_sphere[:,1] = -np.multiply(np.sin(spherical[:,0]), np.sin(spherical[:,1]))\n",
    "    cart_sphere[:,2] = -np.cos(spherical[:,0])\n",
    "    mask = np.isnan(cart_sphere)\n",
    "    cart_sphere[mask] = 0\n",
    "    return cart_sphere\n",
    "\n",
    "pc_sphere, ranges = __projectPointCloudOnSphere(pc)\n",
    "pc_cart_sphere = __convertSphericalToEuclidean(pc_sphere)\n",
    "\n",
    "visualize_pointcloud(pc_cart_sphere)"
   ]
  }
 ],
 "metadata": {
  "kernelspec": {
   "display_name": "Python 3",
   "language": "python",
   "name": "python3"
  },
  "language_info": {
   "codemirror_mode": {
    "name": "ipython",
    "version": 3
   },
   "file_extension": ".py",
   "mimetype": "text/x-python",
   "name": "python",
   "nbconvert_exporter": "python",
   "pygments_lexer": "ipython3",
   "version": "3.6.9"
  }
 },
 "nbformat": 4,
 "nbformat_minor": 4
}
