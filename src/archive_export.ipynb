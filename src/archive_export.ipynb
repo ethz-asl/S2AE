{
 "cells": [
  {
   "cell_type": "markdown",
   "id": "b05039ab-33b1-41ca-be65-50b4de04746d",
   "metadata": {},
   "source": [
    "## Archive Export\n",
    "\n"
   ]
  },
  {
   "cell_type": "code",
   "execution_count": 1,
   "id": "c23929fc-4457-494c-bab4-a560c3f46116",
   "metadata": {},
   "outputs": [],
   "source": [
    "import numpy as np\n",
    "import matplotlib.pyplot as plt\n",
    "import open3d as o3d\n",
    "from matplotlib import cm\n",
    "from metrics import *\n",
    "from average_meter import AverageMeter\n",
    "import time\n",
    "from nuscenes.utils.data_classes import PointCloud\n",
    "from dh_grid import DHGrid\n",
    "from sphere import Sphere\n",
    "from tqdm.auto import tqdm\n",
    "import os\n",
    "from semantic_classes import SemanticClasses\n",
    "\n",
    "%matplotlib inline\n",
    "%load_ext autoreload\n",
    "%autoreload 2"
   ]
  },
  {
   "cell_type": "code",
   "execution_count": 3,
   "id": "0e3702c5-1e3e-4f0d-89c2-680eaca5d1b1",
   "metadata": {},
   "outputs": [],
   "source": [
    "def CreateGrid(bw):\n",
    "    n_grid = 2 * bw\n",
    "    k = 0;\n",
    "    points = np.empty([2, n_grid, n_grid])\n",
    "    for i in range(n_grid):\n",
    "        for j in range(n_grid):\n",
    "            points[0, i, j] = (np.pi*(2*i+1))/(4*bw)\n",
    "            points[1, i, j] = (2*np.pi*j)/(2*bw);\n",
    "            k = k + 1;\n",
    "    return points\n",
    "\n",
    "def createGrid_old(bw):\n",
    "        n_grid = 2 * bw\n",
    "        k = 0;\n",
    "        points = np.empty([n_grid * n_grid, 2])\n",
    "        for i in range(n_grid):\n",
    "            for j in range(n_grid):\n",
    "                points[k, 0] = (np.pi*(2*i+1))/(4*bw)\n",
    "                points[k, 1] = (2*np.pi*j)/(2*bw);\n",
    "                k = k + 1;\n",
    "        return points\n",
    "    \n",
    "def convertGridToEuclidean_old(grid):\n",
    "    cart_grid = np.zeros([ grid.shape[0], 3])\n",
    "    cart_grid[:,0] = np.multiply(np.sin(grid[:,0]), np.cos(grid[:,1]))\n",
    "    cart_grid[:,1] = np.multiply(np.sin(grid[:,0]), np.sin(grid[:,1]))\n",
    "    cart_grid[:,2] = np.cos(grid[:,0])    \n",
    "    return cart_grid\n",
    "\n",
    "def mapIntensityToRGB(i):\n",
    "    return cm.jet(plt.Normalize(min(i), max(i))(i))\n",
    "\n",
    "class SamplingPointCloud(PointCloud):\n",
    "\n",
    "    @staticmethod\n",
    "    def nbr_dims() -> int:\n",
    "        return 4\n",
    "    \n",
    "    @classmethod\n",
    "    def from_file(cls, file_name: str) -> 'SamplingPointCloud':\n",
    "        return None\n",
    "    \n",
    "    @classmethod\n",
    "    def from_bw(cls, bw, scale = 100) -> 'SamplingPointCloud':\n",
    "        grid = createGrid_old(bw)\n",
    "        xyz_grid = convertGridToEuclidean_old(grid) * scale\n",
    "        intensities = np.zeros((xyz_grid.shape[0],1))\n",
    "        sampling_grid = np.hstack((xyz_grid, np.ones((xyz_grid.shape[0], 1), dtype=xyz_grid.dtype)))\n",
    "        return cls(sampling_grid.T)\n",
    "\n",
    "def create_spherical_pc(feature, trans = 0, bw = 100):\n",
    "    pc = SamplingPointCloud.from_bw(bw, 1)   \n",
    "    points_xyz = pc.points.T[:,0:3]\n",
    "    points_xyz[:,0] = points_xyz[:,0] + trans\n",
    "    \n",
    "    pcd = o3d.geometry.PointCloud()\n",
    "    pcd.points = o3d.utility.Vector3dVector(points_xyz[:, 0:3])\n",
    "    colors = mapIntensityToRGB(feature[:, 0])\n",
    "    pcd.colors = o3d.utility.Vector3dVector(colors[:,0:3])\n",
    "    return pcd    \n",
    "\n",
    "def create_cloud_pc(cloud, trans = 0):\n",
    "    cloud[:,0] = cloud[:,0] + trans\n",
    "    pcd = o3d.geometry.PointCloud()\n",
    "    pcd.points = o3d.utility.Vector3dVector(cloud[:, 0:3])\n",
    "    if cloud.shape[1] == 4:\n",
    "        colors = mapIntensityToRGB(cloud[:, 3])\n",
    "        pcd.colors = o3d.utility.Vector3dVector(colors[:,0:3])\n",
    "    return pcd\n",
    "\n",
    "def compare_estimation_sphere(decoded, gt, bw = 100):  \n",
    "    decoded_pc = create_spherical_pc(decoded, trans=0, bw=bw)\n",
    "    gt_pc = create_spherical_pc(gt, trans=2.5, bw=bw)\n",
    "    o3d.visualization.draw_geometries([decoded_pc, gt_pc])    \n",
    "    \n",
    "def compare_estimation_clouds(decoded, gt, bw = 100):  \n",
    "    decoded_pc = create_cloud_pc(decoded, trans=0)\n",
    "    gt_pc = create_cloud_pc(gt, trans=100)\n",
    "    o3d.visualization.draw_geometries([decoded_pc, gt_pc])\n",
    "    \n",
    "def backproject_cloud(spherical, distance, bw = 100):    \n",
    "    grid, _ = DHGrid.CreateGrid(bw)\n",
    "    n_points = grid.shape[1] * grid.shape[2]\n",
    "    cart_sphere = np.zeros([n_points, 4])\n",
    "    k = 0\n",
    "    for i in range(0, grid.shape[1]):\n",
    "        for j in range(0, grid.shape[2]):\n",
    "            dist = distance[i,j]\n",
    "            if dist <= 0:\n",
    "                continue\n",
    "            cart_sphere[k,0] = dist * np.multiply(np.cos(grid[1,i,j]), np.sin(grid[0,i,j]))\n",
    "            cart_sphere[k,1] = dist * np.multiply(np.sin(grid[1,i,j]), np.sin(grid[0,i,j]))\n",
    "            cart_sphere[k,2] = dist * np.cos(grid[0,i,j])\n",
    "            cart_sphere[k,3] = spherical[i,j]\n",
    "            k = k + 1\n",
    "    return cart_sphere  \n",
    "\n",
    "def prepare_for_viz(cloud):\n",
    "    pcd = o3d.geometry.PointCloud()\n",
    "    pcd.points = o3d.utility.Vector3dVector(cloud[:, 0:3])\n",
    "    if cloud.shape[1] == 4:\n",
    "        colors = mapIntensityToRGB(cloud[:, 3])\n",
    "        pcd.colors = o3d.utility.Vector3dVector(colors[:,0:3])\n",
    "    if cloud.shape[1] == 6:\n",
    "        pcd.colors = o3d.utility.Vector3dVector(cloud[:,3:6] / 255.0)\n",
    "    return pcd\n",
    "\n",
    "def convert_sphere(sph, feature_idx, n_features, bw, trans = 0.0):\n",
    "    sph = np.reshape(sph, (n_features, -1)).T\n",
    "    \n",
    "    pc = SamplingPointCloud.from_bw(bw, 1)\n",
    "    points_xyz = pc.points.T[:,0:3]\n",
    "    points_xyz[:,0] = points_xyz[:,0] + trans\n",
    "    return np.column_stack((points_xyz, sph[:,feature_idx]))\n",
    "    \n",
    "def visualize_pointcloud(cloud):\n",
    "    pcd = prepare_for_viz(cloud)\n",
    "    o3d.visualization.draw_geometries([pcd])\n",
    "\n",
    "def visualize_sphere(sph, feature_idx = 0, n_features = 3, bw = 100):\n",
    "    points_xyzi = convert_sphere(sph, feature_idx, n_features, bw)\n",
    "    visualize_pointcloud(points_xyzi)\n",
    "      \n",
    "def compare_estimation_sphere2(decoded, gt, bw = 100):  \n",
    "    decoded_pc = convert_sphere(decoded, 0, 1, 100)\n",
    "    gt_pc = convert_sphere(gt, 2, 3, 100, 2.5)\n",
    "    \n",
    "    decoded_pcd = prepare_for_viz(decoded_pc)\n",
    "    gt_pcd = prepare_for_viz(gt_pc)\n",
    "    o3d.visualization.draw_geometries([decoded_pcd, gt_pcd]) \n",
    "    \n",
    "def compare_estimation_sphere3(decoded, gt, feature_idx = 0, n_features = 3, bw = 100):\n",
    "    decoded_pc = convert_sphere(decoded, feature_idx, n_features, bw)\n",
    "    gt_pc = convert_sphere(gt, feature_idx, n_features, bw, 2.5)\n",
    "    \n",
    "    decoded_pcd = prepare_for_viz(decoded_pc)\n",
    "    gt_pcd = prepare_for_viz(gt_pc)\n",
    "    o3d.visualization.draw_geometries([decoded_pcd, gt_pcd]) "
   ]
  },
  {
   "cell_type": "code",
   "execution_count": 4,
   "id": "870df604-7d14-4411-b435-6758c4de7b9c",
   "metadata": {},
   "outputs": [
    {
     "name": "stdout",
     "output_type": "stream",
     "text": [
      "Loading from sem clouds from /media/berlukas/Data2/datasets/nuscenes/processed/pointclouds/archive01.npy\n"
     ]
    }
   ],
   "source": [
    "# dataroot = '/media/berlukas/SSD_1TB/s2ae/waymo'\n",
    "# dataroot = '/media/berlukas/SSD_1TB/s2ae/kitti/'\n",
    "dataroot = '/media/berlukas/Data2/datasets/nuscenes/processed/pointclouds'\n",
    "export_ds = '/media/berlukas/Data2/datasets/nuscenes/processed/raw/'\n",
    "\n",
    "\n",
    "samples = sorted(os.listdir(dataroot))\n",
    "n_samples = len(samples)\n",
    "cloud_features = None\n",
    "for i in range(0, 1):\n",
    "    sample = samples[i]\n",
    "    \n",
    "    sem_clouds_filename = f'{dataroot}/{sample}'\n",
    "    print(f'Loading from sem clouds from {sem_clouds_filename}')\n",
    "    if cloud_features is None:\n",
    "        cloud_features = np.load(sem_clouds_filename, allow_pickle=True)\n",
    "    else:\n",
    "        features = np.load(sem_clouds_filename, allow_pickle=True)\n",
    "        cloud_features = np.concatenate((cloud_features, features))    \n",
    "    "
   ]
  },
  {
   "cell_type": "code",
   "execution_count": 5,
   "id": "1b03a069-3ff4-4897-8b21-6dc848318ffc",
   "metadata": {},
   "outputs": [],
   "source": [
    "cloud = cloud_features[2222]\n",
    "visualize_pointcloud(cloud[:, [0, 1, 2, 4]])"
   ]
  },
  {
   "cell_type": "code",
   "execution_count": 6,
   "id": "6dfea492-30d6-420d-a168-65a3acefbd8c",
   "metadata": {
    "tags": []
   },
   "outputs": [
    {
     "data": {
      "application/vnd.jupyter.widget-view+json": {
       "model_id": "da7c1e916670452d8c5401377edfec5b",
       "version_major": 2,
       "version_minor": 0
      },
      "text/plain": [
       "  0%|          | 0/1447 [00:00<?, ?it/s]"
      ]
     },
     "metadata": {},
     "output_type": "display_data"
    }
   ],
   "source": [
    "# Raw export\n",
    "n_clouds = len(cloud_features)\n",
    "for i in tqdm(range(0,n_clouds)):\n",
    "    filename = f'{export_ds}/scan{i}.npy'\n",
    "    np.save(filename, cloud_features[i])"
   ]
  },
  {
   "cell_type": "code",
   "execution_count": 7,
   "id": "8e6eac88-84ee-473b-aed8-7cd3239acc93",
   "metadata": {},
   "outputs": [
    {
     "data": {
      "application/vnd.jupyter.widget-view+json": {
       "model_id": "6e43f34b58c344c8ae7230a658b3acec",
       "version_major": 2,
       "version_minor": 0
      },
      "text/plain": [
       "  0%|          | 0/6226 [00:00<?, ?it/s]"
      ]
     },
     "metadata": {},
     "output_type": "display_data"
    }
   ],
   "source": [
    "n_clouds = len(cloud_features)\n",
    "for i in tqdm(range(5004, n_clouds)):\n",
    "    cloud = cloud_features[i]\n",
    "    # viz before\n",
    "    # visualize_pointcloud(cloud[:, [0, 1, 2, 4]]) \n",
    "    \n",
    "    # map semantic label\n",
    "    cloud[:,4] = list(map(SemanticClasses.map_nuscenes_label, cloud[:,4]))\n",
    "    \n",
    "    # cap range\n",
    "    ranges = np.linalg.norm(cloud[:,0:3], axis=1)\n",
    "    cloud[ranges > 35, 4] = 0  \n",
    "    \n",
    "    # viz after\n",
    "    # visualize_pointcloud(cloud[:, [0, 1, 2, 4]])\n",
    "    # break\n",
    "    \n",
    "    filename = f'{export_ds}/scan{i}.npy'\n",
    "    np.save(filename, cloud)"
   ]
  },
  {
   "cell_type": "markdown",
   "id": "edf57019-dc41-4bf4-9456-e5dd0af507a8",
   "metadata": {},
   "source": [
    "# Fix Semantic GT from exported archives"
   ]
  },
  {
   "cell_type": "code",
   "execution_count": 3,
   "id": "4a947d5f-1d00-4146-ab21-f50bb3c609fb",
   "metadata": {},
   "outputs": [
    {
     "data": {
      "application/vnd.jupyter.widget-view+json": {
       "model_id": "dd15167a4b324c9dbc4e562acf514c4b",
       "version_major": 2,
       "version_minor": 0
      },
      "text/plain": [
       "  0%|          | 0/3684 [00:00<?, ?it/s]"
      ]
     },
     "metadata": {},
     "output_type": "display_data"
    }
   ],
   "source": [
    "dataroot = '/media/berlukas/Data/data/datasets/s2ae/raw/waymo_05_09'\n",
    "export_ds = '/media/berlukas/Data/data/datasets/s2ae/raw/waymo'\n",
    "\n",
    "clouds = sorted(os.listdir(dataroot))\n",
    "n_clouds = len(clouds)\n",
    "for i in tqdm(range(0, n_clouds)):\n",
    "    sample = clouds[i]\n",
    "    filename = f'{dataroot}/{sample}'\n",
    "    cloud = np.load(filename)\n",
    "    \n",
    "    # viz before\n",
    "    # visualize_pointcloud(cloud[:, [0, 1, 2, 4]]) \n",
    "    \n",
    "    # map semantic label\n",
    "    cloud[:,4] = list(map(SemanticClasses.map_waymo_to_nuscenes_label, cloud[:,4]))\n",
    "    \n",
    "    # cap range\n",
    "    ranges = np.linalg.norm(cloud[:,0:3], axis=1)\n",
    "    cloud[ranges > 35, 4] = 0  \n",
    "    \n",
    "    # viz after\n",
    "    # visualize_pointcloud(cloud[:, [0, 1, 2, 4]])\n",
    "    \n",
    "    filename = f'{export_ds}/{sample}'\n",
    "    np.save(filename, cloud)\n",
    "    "
   ]
  }
 ],
 "metadata": {
  "kernelspec": {
   "display_name": "Python 3 (ipykernel)",
   "language": "python",
   "name": "python3"
  },
  "language_info": {
   "codemirror_mode": {
    "name": "ipython",
    "version": 3
   },
   "file_extension": ".py",
   "mimetype": "text/x-python",
   "name": "python",
   "nbconvert_exporter": "python",
   "pygments_lexer": "ipython3",
   "version": "3.10.4"
  }
 },
 "nbformat": 4,
 "nbformat_minor": 5
}
